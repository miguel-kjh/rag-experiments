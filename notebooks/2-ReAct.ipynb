{
 "cells": [
  {
   "cell_type": "markdown",
   "id": "f7172573",
   "metadata": {},
   "source": [
    "### 🤖 Implement ReAct with LangGraph-What is ReAct?\n",
    "ReAct (Reasoning + Acting) is a framework where an LLM:\n",
    "\n",
    "- Reasons step-by-step (e.g. decomposes questions, makes decisions)\n",
    "\n",
    "- Acts by calling tools like search, calculators, or retrievers\n",
    "\n",
    "This makes it perfect for Agentic RAG:\n",
    "✅ Think → Retrieve → Observe → Reflect → Final Answer"
   ]
  },
  {
   "cell_type": "code",
   "execution_count": 1,
   "id": "325681f3",
   "metadata": {},
   "outputs": [
    {
     "name": "stderr",
     "output_type": "stream",
     "text": [
      "/home/miguel/miniconda3/envs/RAG/lib/python3.11/site-packages/tqdm/auto.py:21: TqdmWarning: IProgress not found. Please update jupyter and ipywidgets. See https://ipywidgets.readthedocs.io/en/stable/user_install.html\n",
      "  from .autonotebook import tqdm as notebook_tqdm\n",
      "USER_AGENT environment variable not set, consider setting it to identify your requests.\n"
     ]
    }
   ],
   "source": [
    "import os\n",
    "from langgraph.prebuilt import create_react_agent\n",
    "from langchain.agents import Tool\n",
    "from langchain.tools import WikipediaQueryRun\n",
    "from langchain.utilities import WikipediaAPIWrapper\n",
    "from langchain_community.vectorstores import FAISS\n",
    "from langchain_openai import OpenAIEmbeddings\n",
    "from langchain_community.document_loaders import WebBaseLoader\n",
    "from langchain.text_splitter import RecursiveCharacterTextSplitter\n",
    "from langgraph.graph import END\n",
    "from langgraph.graph import StateGraph\n",
    "from typing import Annotated, TypedDict, Sequence\n",
    "from langchain_core.messages import BaseMessage, HumanMessage, AIMessage\n",
    "from langgraph.graph.message import add_messages"
   ]
  },
  {
   "cell_type": "code",
   "execution_count": 2,
   "id": "a362be75",
   "metadata": {},
   "outputs": [],
   "source": [
    "# --------------------------\n",
    "# 1. Create Retriever Tool\n",
    "# --------------------------\n",
    "\n",
    "# Load content from blog\n",
    "docs = WebBaseLoader(\"https://lilianweng.github.io/posts/2023-06-23-agent/\").load()\n",
    "splitter = RecursiveCharacterTextSplitter(chunk_size=500, chunk_overlap=50)\n",
    "chunks = splitter.split_documents(docs)\n",
    "\n",
    "embedding = OpenAIEmbeddings()\n",
    "vectorstore = FAISS.from_documents(chunks, embedding)\n",
    "retriever = vectorstore.as_retriever()"
   ]
  },
  {
   "cell_type": "code",
   "execution_count": 3,
   "id": "93297e2c",
   "metadata": {},
   "outputs": [
    {
     "data": {
      "text/plain": [
       "[Document(id='edd25da2-6995-4f8f-9c03-2a7db0fc3337', metadata={'source': 'https://lilianweng.github.io/posts/2023-06-23-agent/', 'title': \"LLM Powered Autonomous Agents | Lil'Log\", 'description': 'Building agents with LLM (large language model) as its core controller is a cool concept. Several proof-of-concepts demos, such as AutoGPT, GPT-Engineer and BabyAGI, serve as inspiring examples. The potentiality of LLM extends beyond generating well-written copies, stories, essays and programs; it can be framed as a powerful general problem solver.\\nAgent System Overview\\nIn a LLM-powered autonomous agent system, LLM functions as the agent’s brain, complemented by several key components:\\n\\nPlanning\\n\\nSubgoal and decomposition: The agent breaks down large tasks into smaller, manageable subgoals, enabling efficient handling of complex tasks.\\nReflection and refinement: The agent can do self-criticism and self-reflection over past actions, learn from mistakes and refine them for future steps, thereby improving the quality of final results.\\n\\n\\nMemory\\n\\nShort-term memory: I would consider all the in-context learning (See Prompt Engineering) as utilizing short-term memory of the model to learn.\\nLong-term memory: This provides the agent with the capability to retain and recall (infinite) information over extended periods, often by leveraging an external vector store and fast retrieval.\\n\\n\\nTool use\\n\\nThe agent learns to call external APIs for extra information that is missing from the model weights (often hard to change after pre-training), including current information, code execution capability, access to proprietary information sources and more.\\n\\n\\n\\n\\n\\t\\n\\tOverview of a LLM-powered autonomous agent system.\\n\\nComponent One: Planning\\nA complicated task usually involves many steps. An agent needs to know what they are and plan ahead.', 'language': 'en'}, page_content='Boiko et al. (2023) also looked into LLM-empowered agents for scientific discovery, to handle autonomous design, planning, and performance of complex scientific experiments. This agent can use tools to browse the Internet, read documentation, execute code, call robotics experimentation APIs and leverage other LLMs.\\nFor example, when requested to \"develop a novel anticancer drug\", the model came up with the following reasoning steps:'),\n",
       " Document(id='885558e2-af84-4bd7-b9dc-1b613134cc3e', metadata={'source': 'https://lilianweng.github.io/posts/2023-06-23-agent/', 'title': \"LLM Powered Autonomous Agents | Lil'Log\", 'description': 'Building agents with LLM (large language model) as its core controller is a cool concept. Several proof-of-concepts demos, such as AutoGPT, GPT-Engineer and BabyAGI, serve as inspiring examples. The potentiality of LLM extends beyond generating well-written copies, stories, essays and programs; it can be framed as a powerful general problem solver.\\nAgent System Overview\\nIn a LLM-powered autonomous agent system, LLM functions as the agent’s brain, complemented by several key components:\\n\\nPlanning\\n\\nSubgoal and decomposition: The agent breaks down large tasks into smaller, manageable subgoals, enabling efficient handling of complex tasks.\\nReflection and refinement: The agent can do self-criticism and self-reflection over past actions, learn from mistakes and refine them for future steps, thereby improving the quality of final results.\\n\\n\\nMemory\\n\\nShort-term memory: I would consider all the in-context learning (See Prompt Engineering) as utilizing short-term memory of the model to learn.\\nLong-term memory: This provides the agent with the capability to retain and recall (infinite) information over extended periods, often by leveraging an external vector store and fast retrieval.\\n\\n\\nTool use\\n\\nThe agent learns to call external APIs for extra information that is missing from the model weights (often hard to change after pre-training), including current information, code execution capability, access to proprietary information sources and more.\\n\\n\\n\\n\\n\\t\\n\\tOverview of a LLM-powered autonomous agent system.\\n\\nComponent One: Planning\\nA complicated task usually involves many steps. An agent needs to know what they are and plan ahead.', 'language': 'en'}, page_content='Citation#\\nCited as:\\n\\nWeng, Lilian. (Jun 2023). “LLM-powered Autonomous Agents”. Lil’Log. https://lilianweng.github.io/posts/2023-06-23-agent/.'),\n",
       " Document(id='b37a35db-2c66-4618-aae3-00a19b649fa9', metadata={'source': 'https://lilianweng.github.io/posts/2023-06-23-agent/', 'title': \"LLM Powered Autonomous Agents | Lil'Log\", 'description': 'Building agents with LLM (large language model) as its core controller is a cool concept. Several proof-of-concepts demos, such as AutoGPT, GPT-Engineer and BabyAGI, serve as inspiring examples. The potentiality of LLM extends beyond generating well-written copies, stories, essays and programs; it can be framed as a powerful general problem solver.\\nAgent System Overview\\nIn a LLM-powered autonomous agent system, LLM functions as the agent’s brain, complemented by several key components:\\n\\nPlanning\\n\\nSubgoal and decomposition: The agent breaks down large tasks into smaller, manageable subgoals, enabling efficient handling of complex tasks.\\nReflection and refinement: The agent can do self-criticism and self-reflection over past actions, learn from mistakes and refine them for future steps, thereby improving the quality of final results.\\n\\n\\nMemory\\n\\nShort-term memory: I would consider all the in-context learning (See Prompt Engineering) as utilizing short-term memory of the model to learn.\\nLong-term memory: This provides the agent with the capability to retain and recall (infinite) information over extended periods, often by leveraging an external vector store and fast retrieval.\\n\\n\\nTool use\\n\\nThe agent learns to call external APIs for extra information that is missing from the model weights (often hard to change after pre-training), including current information, code execution capability, access to proprietary information sources and more.\\n\\n\\n\\n\\n\\t\\n\\tOverview of a LLM-powered autonomous agent system.\\n\\nComponent One: Planning\\nA complicated task usually involves many steps. An agent needs to know what they are and plan ahead.', 'language': 'en'}, page_content='Or\\n@article{weng2023agent,\\n  title   = \"LLM-powered Autonomous Agents\",\\n  author  = \"Weng, Lilian\",\\n  journal = \"lilianweng.github.io\",\\n  year    = \"2023\",\\n  month   = \"Jun\",\\n  url     = \"https://lilianweng.github.io/posts/2023-06-23-agent/\"\\n}\\nReferences#\\n[1] Wei et al. “Chain of thought prompting elicits reasoning in large language models.” NeurIPS 2022\\n[2] Yao et al. “Tree of Thoughts: Dliberate Problem Solving with Large Language Models.” arXiv preprint arXiv:2305.10601 (2023).'),\n",
       " Document(id='0a3fbf13-ef95-459a-b5b7-9d4758d37a2b', metadata={'source': 'https://lilianweng.github.io/posts/2023-06-23-agent/', 'title': \"LLM Powered Autonomous Agents | Lil'Log\", 'description': 'Building agents with LLM (large language model) as its core controller is a cool concept. Several proof-of-concepts demos, such as AutoGPT, GPT-Engineer and BabyAGI, serve as inspiring examples. The potentiality of LLM extends beyond generating well-written copies, stories, essays and programs; it can be framed as a powerful general problem solver.\\nAgent System Overview\\nIn a LLM-powered autonomous agent system, LLM functions as the agent’s brain, complemented by several key components:\\n\\nPlanning\\n\\nSubgoal and decomposition: The agent breaks down large tasks into smaller, manageable subgoals, enabling efficient handling of complex tasks.\\nReflection and refinement: The agent can do self-criticism and self-reflection over past actions, learn from mistakes and refine them for future steps, thereby improving the quality of final results.\\n\\n\\nMemory\\n\\nShort-term memory: I would consider all the in-context learning (See Prompt Engineering) as utilizing short-term memory of the model to learn.\\nLong-term memory: This provides the agent with the capability to retain and recall (infinite) information over extended periods, often by leveraging an external vector store and fast retrieval.\\n\\n\\nTool use\\n\\nThe agent learns to call external APIs for extra information that is missing from the model weights (often hard to change after pre-training), including current information, code execution capability, access to proprietary information sources and more.\\n\\n\\n\\n\\n\\t\\n\\tOverview of a LLM-powered autonomous agent system.\\n\\nComponent One: Planning\\nA complicated task usually involves many steps. An agent needs to know what they are and plan ahead.', 'language': 'en'}, page_content=\"LLM Powered Autonomous Agents | Lil'Log\\n\\n\\n\\n\\n\\n\\n\\n\\n\\n\\n\\n\\n\\n\\n\\n\\n\\n\\n\\n\\n\\n\\n\\n\\n\\n\\n\\n\\n\\n\\n\\n\\n\\n\\n\\n\\n\\n\\n\\nLil'Log\\n\\n\\n\\n\\n\\n\\n\\n\\n\\n\\n\\n\\n\\n\\n\\n\\n\\n|\\n\\n\\n\\n\\n\\n\\nPosts\\n\\n\\n\\n\\nArchive\\n\\n\\n\\n\\nSearch\\n\\n\\n\\n\\nTags\\n\\n\\n\\n\\nFAQ\\n\\n\\n\\n\\n\\n\\n\\n\\n\\n      LLM Powered Autonomous Agents\\n    \\nDate: June 23, 2023  |  Estimated Reading Time: 31 min  |  Author: Lilian Weng\\n\\n\\n \\n\\n\\nTable of Contents\\n\\n\\n\\nAgent System Overview\\n\\nComponent One: Planning\\n\\nTask Decomposition\\n\\nSelf-Reflection\\n\\n\\nComponent Two: Memory\\n\\nTypes of Memory\\n\\nMaximum Inner Product Search (MIPS)\")]"
      ]
     },
     "execution_count": 3,
     "metadata": {},
     "output_type": "execute_result"
    }
   ],
   "source": [
    "retriever.invoke(\"what are autonomous agents\")"
   ]
  },
  {
   "cell_type": "code",
   "execution_count": 4,
   "id": "16772a15",
   "metadata": {},
   "outputs": [],
   "source": [
    "def retriever_tool_func(query: str) -> str:\n",
    "    print(\"📚 Using RAGRetriever tool\")\n",
    "    docs = retriever.invoke(query)\n",
    "    return \"\\n\".join([doc.page_content for doc in docs])"
   ]
  },
  {
   "cell_type": "code",
   "execution_count": 5,
   "id": "42b7e841",
   "metadata": {},
   "outputs": [
    {
     "name": "stdout",
     "output_type": "stream",
     "text": [
      "📚 Using RAGRetriever tool\n"
     ]
    },
    {
     "data": {
      "text/plain": [
       "'Boiko et al. (2023) also looked into LLM-empowered agents for scientific discovery, to handle autonomous design, planning, and performance of complex scientific experiments. This agent can use tools to browse the Internet, read documentation, execute code, call robotics experimentation APIs and leverage other LLMs.\\nFor example, when requested to \"develop a novel anticancer drug\", the model came up with the following reasoning steps:\\nCitation#\\nCited as:\\n\\nWeng, Lilian. (Jun 2023). “LLM-powered Autonomous Agents”. Lil’Log. https://lilianweng.github.io/posts/2023-06-23-agent/.\\nOr\\n@article{weng2023agent,\\n  title   = \"LLM-powered Autonomous Agents\",\\n  author  = \"Weng, Lilian\",\\n  journal = \"lilianweng.github.io\",\\n  year    = \"2023\",\\n  month   = \"Jun\",\\n  url     = \"https://lilianweng.github.io/posts/2023-06-23-agent/\"\\n}\\nReferences#\\n[1] Wei et al. “Chain of thought prompting elicits reasoning in large language models.” NeurIPS 2022\\n[2] Yao et al. “Tree of Thoughts: Dliberate Problem Solving with Large Language Models.” arXiv preprint arXiv:2305.10601 (2023).\\nLLM Powered Autonomous Agents | Lil\\'Log\\n\\n\\n\\n\\n\\n\\n\\n\\n\\n\\n\\n\\n\\n\\n\\n\\n\\n\\n\\n\\n\\n\\n\\n\\n\\n\\n\\n\\n\\n\\n\\n\\n\\n\\n\\n\\n\\n\\n\\nLil\\'Log\\n\\n\\n\\n\\n\\n\\n\\n\\n\\n\\n\\n\\n\\n\\n\\n\\n\\n|\\n\\n\\n\\n\\n\\n\\nPosts\\n\\n\\n\\n\\nArchive\\n\\n\\n\\n\\nSearch\\n\\n\\n\\n\\nTags\\n\\n\\n\\n\\nFAQ\\n\\n\\n\\n\\n\\n\\n\\n\\n\\n      LLM Powered Autonomous Agents\\n    \\nDate: June 23, 2023  |  Estimated Reading Time: 31 min  |  Author: Lilian Weng\\n\\n\\n \\n\\n\\nTable of Contents\\n\\n\\n\\nAgent System Overview\\n\\nComponent One: Planning\\n\\nTask Decomposition\\n\\nSelf-Reflection\\n\\n\\nComponent Two: Memory\\n\\nTypes of Memory\\n\\nMaximum Inner Product Search (MIPS)'"
      ]
     },
     "execution_count": 5,
     "metadata": {},
     "output_type": "execute_result"
    }
   ],
   "source": [
    "retriever_tool_func(\"what are autonomous agents\")"
   ]
  },
  {
   "cell_type": "code",
   "execution_count": 6,
   "id": "744b3daf",
   "metadata": {},
   "outputs": [
    {
     "name": "stdout",
     "output_type": "stream",
     "text": [
      "RAGRetriever\n"
     ]
    }
   ],
   "source": [
    "retriever_tool=Tool(\n",
    "    name=\"RAGRetriever\",\n",
    "    description=\"Use this tool to fetch relevant knowledge base info\",\n",
    "    func=retriever_tool_func\n",
    ")\n",
    "retriever_tool\n",
    "print(retriever_tool.name)"
   ]
  },
  {
   "cell_type": "code",
   "execution_count": 7,
   "id": "104093c3",
   "metadata": {},
   "outputs": [
    {
     "data": {
      "text/plain": [
       "WikipediaQueryRun(api_wrapper=WikipediaAPIWrapper(wiki_client=<module 'wikipedia' from '/home/miguel/miniconda3/envs/RAG/lib/python3.11/site-packages/wikipedia/__init__.py'>, top_k_results=3, lang='en', load_all_available_meta=False, doc_content_chars_max=4000))"
      ]
     },
     "execution_count": 7,
     "metadata": {},
     "output_type": "execute_result"
    }
   ],
   "source": [
    "# Wikipedia tool\n",
    "wiki_tool = WikipediaQueryRun(api_wrapper=WikipediaAPIWrapper())\n",
    "wiki_tool"
   ]
  },
  {
   "cell_type": "code",
   "execution_count": 8,
   "id": "2e953f0d",
   "metadata": {},
   "outputs": [],
   "source": [
    "import os\n",
    "from langchain.chat_models import init_chat_model\n",
    "from dotenv import load_dotenv\n",
    "os.environ[\"OPENAI_API_KEY\"]=os.getenv(\"OPENAI_API_KEY\")\n",
    "llm=init_chat_model(\"openai:gpt-4o\")"
   ]
  },
  {
   "cell_type": "code",
   "execution_count": 9,
   "id": "3b77c9d4",
   "metadata": {},
   "outputs": [
    {
     "data": {
      "image/png": "[encoded data removed]",
      "text/plain": [
       "<langgraph.graph.state.CompiledStateGraph object at 0x7f81d789be50>"
      ]
     },
     "execution_count": 9,
     "metadata": {},
     "output_type": "execute_result"
    }
   ],
   "source": [
    "# ----------------------------\n",
    "# 2. Define the Agent Node\n",
    "# ----------------------------\n",
    "\n",
    "\n",
    "\n",
    "tools = [retriever_tool, wiki_tool]\n",
    "\n",
    "## create the native Langgraph react agent\n",
    "react_node=create_react_agent(llm,tools)\n",
    "react_node"
   ]
  },
  {
   "cell_type": "code",
   "execution_count": 10,
   "id": "0708561d",
   "metadata": {},
   "outputs": [],
   "source": [
    "# --------------------------\n",
    "# 3. LangGraph Agent State\n",
    "# --------------------------\n",
    "\n",
    "class AgentState(TypedDict):\n",
    "    messages: Annotated[Sequence[BaseMessage], add_messages]"
   ]
  },
  {
   "cell_type": "code",
   "execution_count": 11,
   "id": "d49f8070",
   "metadata": {},
   "outputs": [
    {
     "data": {
      "image/png": "[encoded data removed]",
      "text/plain": [
       "<langgraph.graph.state.CompiledStateGraph object at 0x7f81d7879ad0>"
      ]
     },
     "execution_count": 11,
     "metadata": {},
     "output_type": "execute_result"
    }
   ],
   "source": [
    "# --------------------------\n",
    "# 4. Build LangGraph Graph\n",
    "# --------------------------\n",
    "\n",
    "builder = StateGraph(AgentState)\n",
    "\n",
    "builder.add_node(\"react_agent\", react_node)\n",
    "builder.set_entry_point(\"react_agent\")\n",
    "builder.add_edge(\"react_agent\", END)\n",
    "\n",
    "graph = builder.compile()\n",
    "graph"
   ]
  },
  {
   "cell_type": "code",
   "execution_count": 12,
   "id": "c2d9a20d",
   "metadata": {},
   "outputs": [
    {
     "name": "stdout",
     "output_type": "stream",
     "text": [
      "📚 Using RAGRetriever tool\n",
      "\n",
      "✅ Final Answer:\n",
      " ### Agent Loop\n",
      "\n",
      "An agent loop involves iterative learning and action-taking by autonomous agents to optimize their performance. For example, an autonomous agent leverages a learning mechanism, such as reinforcement learning, to interact with its environment, make decisions, and execute tasks. As it receives feedback, it updates its strategy to improve future actions. The loop represents the continuous cycle of perception, decision-making, and action that an agent performs to achieve its goals.\n",
      "\n",
      "### Autonomous Agents (Wikipedia Description)\n",
      "\n",
      "According to Wikipedia:\n",
      "\n",
      "- **Autonomous Agent**: This is an AI system capable of performing complex tasks independently without direct human intervention. These agents are designed to operate autonomously, making their own decisions to accomplish specific objectives.\n",
      "\n",
      "- **Intelligent Agent**: In AI, an intelligent agent perceives its environment and takes autonomous actions to achieve goals. These agents can range from simple, like a thermostat, to highly complex systems. They are typically guided by an objective or reward function, allowing them to improve their performance over time through learning. Intelligent agents in artificial intelligence are related to rational agents in economics and can cover a wide scope from software agents performing tasks for users to cognitive simulations in socio-cognitive modeling.\n"
     ]
    }
   ],
   "source": [
    "# --------------------------\n",
    "# 5. Run the ReAct Agent\n",
    "# --------------------------\n",
    "\n",
    "if __name__ == \"__main__\":\n",
    "    user_query = \"What is an agent loop and how does Wikipedia describe autonomous agents?\"\n",
    "    state = {\"messages\": [HumanMessage(content=user_query)]}\n",
    "    result = graph.invoke(state)\n",
    "\n",
    "    print(\"\\n✅ Final Answer:\\n\", result[\"messages\"][-1].content)"
   ]
  },
  {
   "cell_type": "markdown",
   "id": "a1674ba0",
   "metadata": {},
   "source": [
    "### Tool creation for RAG agents with langgraph \n",
    "To create tools for RAG agents using LangGraph, you're essentially building LLM-invocable functions that your agent can call as part of its reasoning + acting loop (ReAct).\n",
    "\n",
    "LangGraph uses the Tool abstraction from LangChain and fully supports tools for:\n",
    "\n",
    "- RAG retrieval\n",
    "- Search\n",
    "- Wikipedia\n",
    "- SQL\n",
    "- Web APIs\n",
    "- Calculators, etc.\n",
    "\n",
    "#### ✅ Tool Design Requirements\n",
    "A LangGraph tool must:\n",
    "\n",
    "- Have a name\n",
    "- Have a description (used by the LLM to decide when to use it)\n",
    "- Have a callable func, accepting a single input (usually str) and returning str"
   ]
  },
  {
   "cell_type": "code",
   "execution_count": 13,
   "id": "c8d26a6e",
   "metadata": {},
   "outputs": [],
   "source": [
    "import os\n",
    "from typing import Annotated, Sequence, TypedDict\n",
    "from langchain.agents import Tool\n",
    "from langchain_community.vectorstores import FAISS\n",
    "from langchain_openai import OpenAIEmbeddings\n",
    "from langchain_community.document_loaders import WebBaseLoader, ArxivLoader, TextLoader\n",
    "from langchain.text_splitter import RecursiveCharacterTextSplitter\n",
    "from langchain.tools import WikipediaQueryRun\n",
    "from langchain.utilities import WikipediaAPIWrapper\n",
    "from langgraph.prebuilt import create_react_agent\n",
    "from langgraph.graph import StateGraph, END\n",
    "from langchain_core.messages import BaseMessage, HumanMessage\n",
    "from langgraph.graph.message import add_messages\n",
    "from langchain_community.document_loaders import TextLoader"
   ]
  },
  {
   "cell_type": "code",
   "execution_count": 14,
   "id": "f834985d",
   "metadata": {},
   "outputs": [
    {
     "data": {
      "text/plain": [
       "ChatOpenAI(client=<openai.resources.chat.completions.completions.Completions object at 0x7f81d878dd50>, async_client=<openai.resources.chat.completions.completions.AsyncCompletions object at 0x7f81d6566a50>, root_client=<openai.OpenAI object at 0x7f81d6566610>, root_async_client=<openai.AsyncOpenAI object at 0x7f81d6567290>, model_name='gpt-4o', model_kwargs={}, openai_api_key=SecretStr('**********'))"
      ]
     },
     "execution_count": 14,
     "metadata": {},
     "output_type": "execute_result"
    }
   ],
   "source": [
    "llm"
   ]
  },
  {
   "cell_type": "code",
   "execution_count": 15,
   "id": "6bed0361",
   "metadata": {},
   "outputs": [],
   "source": [
    "### Generic function to create a retireval tool\n",
    "def make_retriever_tool_from_text(file,name,desc):\n",
    "    docs=TextLoader(file,encoding=\"utf-8\").load()\n",
    "    chunks = RecursiveCharacterTextSplitter(chunk_size=500, chunk_overlap=50).split_documents(docs)\n",
    "    vs = FAISS.from_documents(chunks, OpenAIEmbeddings())\n",
    "    retriever = vs.as_retriever()\n",
    "\n",
    "    def tool_func(query:str)->str:\n",
    "        print(f\"📚 Using tool: {name}\")\n",
    "        results = retriever.invoke(query)\n",
    "        return \"\\n\\n\".join(doc.page_content for doc in results)\n",
    "    \n",
    "    return Tool(name=name,description=desc,func=tool_func)\n",
    "\n",
    "\n",
    "# Wikipedia Tool\n",
    "wiki_tool = Tool(\n",
    "    name=\"Wikipedia\",\n",
    "    description=\"Use this tool to fetch general world knowledge from Wikipedia.\",\n",
    "    func=WikipediaQueryRun(api_wrapper=WikipediaAPIWrapper())\n",
    ")\n",
    "\n",
    "# ArXiv Tool\n",
    "def arxiv_search(query: str) -> str:\n",
    "    print(\"🧪 Searching ArXiv...\")\n",
    "    results = ArxivLoader(query).load()\n",
    "    return \"\\n\\n\".join(doc.page_content[:1000] for doc in results[:2]) or \"No papers found.\"\n",
    "\n",
    "arxiv_tool = Tool(\n",
    "    name=\"ArxivSearch\",\n",
    "    description=\"Use this tool to fetch recent academic papers on technical topics.\",\n",
    "    func=arxiv_search\n",
    ")\n"
   ]
  },
  {
   "cell_type": "code",
   "execution_count": 16,
   "id": "6f055f7b",
   "metadata": {},
   "outputs": [
    {
     "ename": "RuntimeError",
     "evalue": "Error loading internal_docs.txt",
     "output_type": "error",
     "traceback": [
      "\u001b[31m---------------------------------------------------------------------------\u001b[39m",
      "\u001b[31mFileNotFoundError\u001b[39m                         Traceback (most recent call last)",
      "\u001b[36mFile \u001b[39m\u001b[32m~/miniconda3/envs/RAG/lib/python3.11/site-packages/langchain_community/document_loaders/text.py:42\u001b[39m, in \u001b[36mTextLoader.lazy_load\u001b[39m\u001b[34m(self)\u001b[39m\n\u001b[32m     41\u001b[39m \u001b[38;5;28;01mtry\u001b[39;00m:\n\u001b[32m---> \u001b[39m\u001b[32m42\u001b[39m     \u001b[38;5;28;01mwith\u001b[39;00m \u001b[38;5;28;43mopen\u001b[39;49m\u001b[43m(\u001b[49m\u001b[38;5;28;43mself\u001b[39;49m\u001b[43m.\u001b[49m\u001b[43mfile_path\u001b[49m\u001b[43m,\u001b[49m\u001b[43m \u001b[49m\u001b[43mencoding\u001b[49m\u001b[43m=\u001b[49m\u001b[38;5;28;43mself\u001b[39;49m\u001b[43m.\u001b[49m\u001b[43mencoding\u001b[49m\u001b[43m)\u001b[49m \u001b[38;5;28;01mas\u001b[39;00m f:\n\u001b[32m     43\u001b[39m         text = f.read()\n",
      "\u001b[31mFileNotFoundError\u001b[39m: [Errno 2] No such file or directory: 'internal_docs.txt'",
      "\nThe above exception was the direct cause of the following exception:\n",
      "\u001b[31mRuntimeError\u001b[39m                              Traceback (most recent call last)",
      "\u001b[36mCell\u001b[39m\u001b[36m \u001b[39m\u001b[32mIn[16]\u001b[39m\u001b[32m, line 1\u001b[39m\n\u001b[32m----> \u001b[39m\u001b[32m1\u001b[39m internal_tool_1=\u001b[43mmake_retriever_tool_from_text\u001b[49m\u001b[43m(\u001b[49m\n\u001b[32m      2\u001b[39m \u001b[43m    \u001b[49m\u001b[33;43m\"\u001b[39;49m\u001b[33;43minternal_docs.txt\u001b[39;49m\u001b[33;43m\"\u001b[39;49m\u001b[43m,\u001b[49m\n\u001b[32m      3\u001b[39m \u001b[43m    \u001b[49m\u001b[33;43m\"\u001b[39;49m\u001b[33;43mInternalTechDocs\u001b[39;49m\u001b[33;43m\"\u001b[39;49m\u001b[43m,\u001b[49m\n\u001b[32m      4\u001b[39m \u001b[43m    \u001b[49m\u001b[33;43m\"\u001b[39;49m\u001b[33;43mSearch internal tech documents for proprietary architecture and methods.\u001b[39;49m\u001b[33;43m\"\u001b[39;49m\n\u001b[32m      5\u001b[39m \u001b[43m)\u001b[49m\n\u001b[32m      6\u001b[39m internal_tool_1\n",
      "\u001b[36mCell\u001b[39m\u001b[36m \u001b[39m\u001b[32mIn[15]\u001b[39m\u001b[32m, line 3\u001b[39m, in \u001b[36mmake_retriever_tool_from_text\u001b[39m\u001b[34m(file, name, desc)\u001b[39m\n\u001b[32m      2\u001b[39m \u001b[38;5;28;01mdef\u001b[39;00m\u001b[38;5;250m \u001b[39m\u001b[34mmake_retriever_tool_from_text\u001b[39m(file,name,desc):\n\u001b[32m----> \u001b[39m\u001b[32m3\u001b[39m     docs=\u001b[43mTextLoader\u001b[49m\u001b[43m(\u001b[49m\u001b[43mfile\u001b[49m\u001b[43m,\u001b[49m\u001b[43mencoding\u001b[49m\u001b[43m=\u001b[49m\u001b[33;43m\"\u001b[39;49m\u001b[33;43mutf-8\u001b[39;49m\u001b[33;43m\"\u001b[39;49m\u001b[43m)\u001b[49m\u001b[43m.\u001b[49m\u001b[43mload\u001b[49m\u001b[43m(\u001b[49m\u001b[43m)\u001b[49m\n\u001b[32m      4\u001b[39m     chunks = RecursiveCharacterTextSplitter(chunk_size=\u001b[32m500\u001b[39m, chunk_overlap=\u001b[32m50\u001b[39m).split_documents(docs)\n\u001b[32m      5\u001b[39m     vs = FAISS.from_documents(chunks, OpenAIEmbeddings())\n",
      "\u001b[36mFile \u001b[39m\u001b[32m~/miniconda3/envs/RAG/lib/python3.11/site-packages/langchain_core/document_loaders/base.py:43\u001b[39m, in \u001b[36mBaseLoader.load\u001b[39m\u001b[34m(self)\u001b[39m\n\u001b[32m     37\u001b[39m \u001b[38;5;28;01mdef\u001b[39;00m\u001b[38;5;250m \u001b[39m\u001b[34mload\u001b[39m(\u001b[38;5;28mself\u001b[39m) -> \u001b[38;5;28mlist\u001b[39m[Document]:\n\u001b[32m     38\u001b[39m \u001b[38;5;250m    \u001b[39m\u001b[33;03m\"\"\"Load data into Document objects.\u001b[39;00m\n\u001b[32m     39\u001b[39m \n\u001b[32m     40\u001b[39m \u001b[33;03m    Returns:\u001b[39;00m\n\u001b[32m     41\u001b[39m \u001b[33;03m        the documents.\u001b[39;00m\n\u001b[32m     42\u001b[39m \u001b[33;03m    \"\"\"\u001b[39;00m\n\u001b[32m---> \u001b[39m\u001b[32m43\u001b[39m     \u001b[38;5;28;01mreturn\u001b[39;00m \u001b[38;5;28;43mlist\u001b[39;49m\u001b[43m(\u001b[49m\u001b[38;5;28;43mself\u001b[39;49m\u001b[43m.\u001b[49m\u001b[43mlazy_load\u001b[49m\u001b[43m(\u001b[49m\u001b[43m)\u001b[49m\u001b[43m)\u001b[49m\n",
      "\u001b[36mFile \u001b[39m\u001b[32m~/miniconda3/envs/RAG/lib/python3.11/site-packages/langchain_community/document_loaders/text.py:58\u001b[39m, in \u001b[36mTextLoader.lazy_load\u001b[39m\u001b[34m(self)\u001b[39m\n\u001b[32m     56\u001b[39m         \u001b[38;5;28;01mraise\u001b[39;00m \u001b[38;5;167;01mRuntimeError\u001b[39;00m(\u001b[33mf\u001b[39m\u001b[33m\"\u001b[39m\u001b[33mError loading \u001b[39m\u001b[38;5;132;01m{\u001b[39;00m\u001b[38;5;28mself\u001b[39m.file_path\u001b[38;5;132;01m}\u001b[39;00m\u001b[33m\"\u001b[39m) \u001b[38;5;28;01mfrom\u001b[39;00m\u001b[38;5;250m \u001b[39m\u001b[34;01me\u001b[39;00m\n\u001b[32m     57\u001b[39m \u001b[38;5;28;01mexcept\u001b[39;00m \u001b[38;5;167;01mException\u001b[39;00m \u001b[38;5;28;01mas\u001b[39;00m e:\n\u001b[32m---> \u001b[39m\u001b[32m58\u001b[39m     \u001b[38;5;28;01mraise\u001b[39;00m \u001b[38;5;167;01mRuntimeError\u001b[39;00m(\u001b[33mf\u001b[39m\u001b[33m\"\u001b[39m\u001b[33mError loading \u001b[39m\u001b[38;5;132;01m{\u001b[39;00m\u001b[38;5;28mself\u001b[39m.file_path\u001b[38;5;132;01m}\u001b[39;00m\u001b[33m\"\u001b[39m) \u001b[38;5;28;01mfrom\u001b[39;00m\u001b[38;5;250m \u001b[39m\u001b[34;01me\u001b[39;00m\n\u001b[32m     60\u001b[39m metadata = {\u001b[33m\"\u001b[39m\u001b[33msource\u001b[39m\u001b[33m\"\u001b[39m: \u001b[38;5;28mstr\u001b[39m(\u001b[38;5;28mself\u001b[39m.file_path)}\n\u001b[32m     61\u001b[39m \u001b[38;5;28;01myield\u001b[39;00m Document(page_content=text, metadata=metadata)\n",
      "\u001b[31mRuntimeError\u001b[39m: Error loading internal_docs.txt"
     ]
    }
   ],
   "source": [
    "internal_tool_1=make_retriever_tool_from_text(\n",
    "    \"internal_docs.txt\",\n",
    "    \"InternalTechDocs\",\n",
    "    \"Search internal tech documents for proprietary architecture and methods.\"\n",
    ")\n",
    "internal_tool_1"
   ]
  },
  {
   "cell_type": "code",
   "execution_count": 22,
   "id": "03d60a30",
   "metadata": {},
   "outputs": [
    {
     "data": {
      "text/plain": [
       "Tool(name='InternalResearchNotes', description='Search internal research notes for experimental results and agent designs.', func=<function make_retriever_tool_from_text.<locals>.tool_func at 0x00000210EB6EC2C0>)"
      ]
     },
     "execution_count": 22,
     "metadata": {},
     "output_type": "execute_result"
    }
   ],
   "source": [
    "internal_tool_2 = make_retriever_tool_from_text(\n",
    "    \"research_notes.txt\",\n",
    "    \"InternalResearchNotes\",\n",
    "    \"Search internal research notes for experimental results and agent designs.\"\n",
    ")\n",
    "internal_tool_2"
   ]
  },
  {
   "cell_type": "code",
   "execution_count": 23,
   "id": "99788378",
   "metadata": {},
   "outputs": [
    {
     "data": {
      "image/png": "[encoded data removed]",
      "text/plain": [
       "<langgraph.graph.state.CompiledStateGraph object at 0x00000210EB861F90>"
      ]
     },
     "execution_count": 23,
     "metadata": {},
     "output_type": "execute_result"
    }
   ],
   "source": [
    "tools=[wiki_tool,arxiv_tool,internal_tool_1,internal_tool_2]\n",
    "\n",
    "react_node=create_react_agent(llm,tools)\n",
    "react_node"
   ]
  },
  {
   "cell_type": "code",
   "execution_count": 24,
   "id": "3b3957b5",
   "metadata": {},
   "outputs": [],
   "source": [
    "class AgentState(TypedDict):\n",
    "    messages: Annotated[Sequence[BaseMessage], add_messages]"
   ]
  },
  {
   "cell_type": "code",
   "execution_count": 25,
   "id": "279bca91",
   "metadata": {},
   "outputs": [
    {
     "data": {
      "image/png": "[encoded data removed]",
      "text/plain": [
       "<langgraph.graph.state.CompiledStateGraph object at 0x00000210EB6CE650>"
      ]
     },
     "execution_count": 25,
     "metadata": {},
     "output_type": "execute_result"
    }
   ],
   "source": [
    "builder = StateGraph(AgentState)\n",
    "builder.add_node(\"agentic_rag\", react_node)\n",
    "builder.set_entry_point(\"agentic_rag\")\n",
    "builder.add_edge(\"agentic_rag\", END)\n",
    "\n",
    "graph = builder.compile()\n",
    "graph\n"
   ]
  },
  {
   "cell_type": "code",
   "execution_count": 27,
   "id": "ee74476e",
   "metadata": {},
   "outputs": [
    {
     "name": "stdout",
     "output_type": "stream",
     "text": [
      "📚 Using tool: InternalResearchNotes\n",
      "🧪 Searching ArXiv...\n",
      "\n",
      "✅ Final Answer:\n",
      " Our internal research notes highlight a variety of transformer variants evaluated for specific applications:\n",
      "\n",
      "1. **EfficientFormer**: Achieved a 92.4% top-1 accuracy on TinyImageNet, efficient in quantized int8 mode, intended for deployment on Raspberry Pi 4.\n",
      "\n",
      "2. **Longformer**: Evaluated on customer support logs and noted for chunk-based hybrid attention to reduce latency during streaming.\n",
      "\n",
      "3. **Reformer**: Encountered issues with bucket collisions and sparse gradient updates, addressed through gradient clipping and memory-efficient attention modules.\n",
      "\n",
      "4. **TinyBERT**: Used for classifying support ticket priorities, achieving an 87% F1 score, with successful domain transfer using a 2-layer FFN adapter.\n",
      "\n",
      "5. **Additional Experiments**:\n",
      "   - **FlashAttention2**: Integrated into LLaMA2 for reduced latency.\n",
      "   - **Chain-of-Thought prompting**: Improved performance on logic tasks.\n",
      "   - **Retrieval Experiments**: Evaluated FAISS versus Weaviate for retrieval efficiency.\n",
      "   - **LoRA Tuning**: Achieved a 60% reduction in GPU memory usage.\n",
      "\n",
      "Recent ArXiv papers did not immediately return relevant transformer variants; the response may included results from unrelated or less recent papers indicating the need for further filtering to obtain the latest relevant transformer research.\n",
      "\n",
      "If you need further specific details or updates, checking the exact titles and abstracts from ArXiv would be beneficial.\n"
     ]
    }
   ],
   "source": [
    "query = \"What do our internal research notes say about transformer variants, and what does ArXiv suggest recently?\"\n",
    "\n",
    "state = {\"messages\": [HumanMessage(content=query)]}\n",
    "result = graph.invoke(state)\n",
    "\n",
    "print(\"\\n✅ Final Answer:\\n\", result[\"messages\"][-1].content)"
   ]
  }
 ],
 "metadata": {
  "kernelspec": {
   "display_name": "RAG",
   "language": "python",
   "name": "python3"
  },
  "language_info": {
   "codemirror_mode": {
    "name": "ipython",
    "version": 3
   },
   "file_extension": ".py",
   "mimetype": "text/x-python",
   "name": "python",
   "nbconvert_exporter": "python",
   "pygments_lexer": "ipython3",
   "version": "3.11.13"
  }
 },
 "nbformat": 4,
 "nbformat_minor": 5
}
