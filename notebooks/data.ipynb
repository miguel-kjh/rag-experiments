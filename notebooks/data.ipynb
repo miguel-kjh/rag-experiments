{
 "cells": [
  {
   "cell_type": "code",
   "execution_count": 6,
   "id": "81f2475e",
   "metadata": {},
   "outputs": [],
   "source": [
    "from datasets import load_from_disk\n",
    "\n",
    "SEED = 123\n",
    "FOLDER = \"../data/processed/legal-qa-v1\""
   ]
  },
  {
   "cell_type": "code",
   "execution_count": 7,
   "id": "0be2245a",
   "metadata": {},
   "outputs": [],
   "source": [
    "dataset = load_from_disk(FOLDER)"
   ]
  },
  {
   "cell_type": "code",
   "execution_count": 12,
   "id": "d32ba1ea",
   "metadata": {},
   "outputs": [
    {
     "name": "stdout",
     "output_type": "stream",
     "text": [
      "DatasetDict({\n",
      "    train: Dataset({\n",
      "        features: ['question', 'answer'],\n",
      "        num_rows: 2992\n",
      "    })\n",
      "    validation: Dataset({\n",
      "        features: ['question', 'answer'],\n",
      "        num_rows: 375\n",
      "    })\n",
      "    test: Dataset({\n",
      "        features: ['question', 'answer'],\n",
      "        num_rows: 375\n",
      "    })\n",
      "})\n",
      "{'question': \"The Skullgirls team has taken a digital product that many people purchased and altered it in very significant ways.. The Skullgirls team has taken a digital product that many people purchased and altered it in very significant ways. They've cut out entire pages from the art book, removed and re-announced voice lines, and drawn over concept art to make it less offensive. The current Skullgirls team, while many of them have ties to the very beginning of the game, is not the same team it was at the beginning. They're missing some of the most important contributors to the Skullgirls brand. They're also literally a completely different company than the original Lab Zero, who is now censoring Lab Zero's products. if these were physical products. Imagine if you bought a physical art book that you really loved. Ten years later, when the company you bought that art book from is overtaken by another company, that new company comes into your house and demands that you give them the pages of the art book that they deemed offensive. simiar situated similar facts & loss\", 'answer': \"The situation you're describing with the Skullgirls digital product raises complex issues in digital content and consumer rights. In the digital realm, the rights and expectations can be significantly different from those associated with physical products. The End User License Agreement (EULA) or terms of service typically govern these situations and may grant the company considerable discretion to alter the content. If you feel that your rights as a consumer have been violated by these changes, the first step is to review the EULA or any terms of service you agreed to when purchasing the product. This will help determine what rights you have in relation to the digital content and whether the company's actions might constitute a breach of contract or other legal violation. Considering the unique aspects of digital products, consulting with an attorney experienced in consumer law, particularly in digital and online products, is advisable. They can assist in assessing the legality of the alterations made and guide you on potential courses of action, including filing a claim if appropriate. Be aware that digital content laws are still evolving, and cases like these can set precedents. Therefore, navigating them can be challenging, making professional legal advice crucial in understanding and asserting your rights.\"}\n",
      "{'question': \"Can I record voice chat on a game server in memory (never written to disk) for moderation purposes?. I'd like to allow a team of moderators to review voice chat manually. There is no automated system in place, and the team would need to manually listen to and subsequently make decisions from the data.\", 'answer': 'The recording of voice chat on a game server for moderation purposes may raise legal considerations, particularly in relation to privacy laws. In Michigan, it is generally required to obtain consent from all parties involved in a conversation before recording it. However, laws can vary, and there may be exceptions for certain circumstances.'}\n",
      "{'question': 'May I inspect a birth certificate before purchasing it?. Is the state of Michigan vital records employees subject to Mich. Comp. Laws Ann. §750. 491; Mich. Comp. Laws Ann. § 750.0492 under the \"Privacy Act.\" Legally are they required to comply with my request to examine birth certificate? They may be in violated the first, 9th and 14th amendments rights of natural parents.', 'answer': \"In Michigan, the process for obtaining a birth certificate typically does not include the option to inspect the document before purchase. Vital records, such as birth certificates, are handled with strict protocols to ensure privacy and security. The Michigan Compiled Laws you mentioned, §§ 750.491 and 750.492, primarily deal with the misuse of personal identification documents and do not directly address the inspection of vital records before purchase. Regarding the Privacy Act, it's important to note that this federal law primarily governs the handling of personal data by federal agencies. State agencies, like those managing vital records in Michigan, generally follow state-specific privacy laws and regulations. The First, Ninth, and Fourteenth Amendments provide broad protections for individual rights, but they do not explicitly grant a right to inspect a birth certificate before purchasing it. The rights of natural parents in relation to birth certificates are typically protected through state laws governing access to and confidentiality of vital records. If you have concerns about the handling of a birth certificate or believe your rights have been violated, it may be beneficial to consult with a lawyer who can provide guidance specific to your situation and the applicable laws in Michigan.\"}\n"
     ]
    }
   ],
   "source": [
    "#check the dataset\n",
    "print(dataset)\n",
    "print(dataset['train'][0])\n",
    "print(dataset['validation'][0])\n",
    "print(dataset['test'][0])"
   ]
  },
  {
   "cell_type": "code",
   "execution_count": 62,
   "id": "685e2c2e",
   "metadata": {},
   "outputs": [
    {
     "data": {
      "text/plain": [
       "Column([\"A:In Kentucky, your situation raises questions about patient rights and medical records access. If you were discharged from a pain management office and subsequently lost access to your patient portal, it's important to understand your rights regarding medical records. Under the Health Insurance Portability and Accountability Act (HIPAA), you have the right to access your own medical records. A healthcare provider cannot deny you access to your records, even if you were discharged from their practice. The issue with the patient portal could be a technical glitch or a deliberate action, but either way, it needs to be addressed. You should contact the pain management office directly to inquire about the issue with the patient portal. They are obligated to provide you with a way to access your medical records, which may include providing paper copies or access through a different electronic means. If the office is unresponsive or refuses to provide access to your records, consider speaking to a lawyer who is knowledgeable in health care law. They can guide you on how to enforce your rights to access your medical records and address any potential legal violations by the healthcare provider. Remember, your right to access your medical records is protected by law, and any obstacles to this access should be promptly addressed.\", \"A:If your houseboat was moved without your permission and you were asked to leave the property after 16 months without any notices, and the management has placed a lien on your houseboat and is attempting to sell it, you may have legal options to challenge their actions. First, you may want to consult with an attorney who specializes in property law or landlord-tenant law to review your case and provide guidance on your legal rights and options. It may also be helpful to gather any evidence you have, such as receipts or documentation of payments or communications with the management, to support your case. Some potential legal claims you may have against the management include breach of contract, conversion, or wrongful eviction. These claims may allow you to seek damages or other forms of relief, such as the return of your houseboat or compensation for any losses you have suffered. It's important to act quickly, as there may be deadlines or other requirements for filing a legal claim. An attorney can provide guidance on the best course of action and help you navigate the legal process.\", \"A:Yes, you can sue a dealership if you have had to replace your transmission 2 times within a year. Whether you will be successful depends on the facts and your presentation. You don't mention anything about any written agreements. Allowing an attorney to evaluate, organize and draft your conciliation or (small claims) complaint (up to $15,000) would be a wise investment. A well polished complaint will not only provide the judge a solid foundation to rule in your favor, but a detailed outline on which to base your oral argument. It would provide you a distinct advantage over the opposing party. The fees can be reasonable depending on the attorney.\", 'A:Once all parties have moved to another state, it is generally possible to register the order in the state where the child is now residing. Generally you need court permission to move a child out of state once a custody order has been entered (at least in Nebraska). If that did not happen before the move, then it can make matters more complicated.', 'A:It\\'s difficult to determine whether there is potential for a lawsuit without more information. Generally, the key question in cases involving trademarks is whether there is a likelihood of confusion between the marks. This analysis involves considering a number of factors, such as the similarity of the marks, the similarity of the goods or services, the sophistication of the consumers, and the strength of the senior user\\'s mark. Based on the limited information provided, it seems that there may be some potential for confusion between \"Rolemaster\" and \"Raid Master,\" particularly given that they both contain the suffix \"Master.\" However, the fact that the games have different themes and mechanics may weigh against a finding of likelihood of confusion. If you are concerned about potential trademark issues, it may be a good idea to consult with an intellectual property attorney who can provide more tailored advice based on the specifics of your situation.'])"
      ]
     },
     "execution_count": 62,
     "metadata": {},
     "output_type": "execute_result"
    }
   ],
   "source": [
    "dataset[\"answer\"]"
   ]
  },
  {
   "cell_type": "code",
   "execution_count": 63,
   "id": "6e060b6e",
   "metadata": {},
   "outputs": [],
   "source": [
    "def transform(example):\n",
    "    # ejemplo: poner preguntas en mayúsculas y respuestas en minúsculas\n",
    "    new_question = example[\"question\"].replace(\"Q:\", \"\").strip()\n",
    "    new_answer = example[\"answer\"].replace(\"A:\", \"\").strip()\n",
    "\n",
    "    return {\n",
    "        \"question\": new_question,\n",
    "        \"answer\": new_answer\n",
    "    }"
   ]
  },
  {
   "cell_type": "code",
   "execution_count": 64,
   "id": "f182abeb",
   "metadata": {},
   "outputs": [],
   "source": [
    "transformed_dataset = dataset.map(transform)"
   ]
  },
  {
   "cell_type": "code",
   "execution_count": 65,
   "id": "413ae487",
   "metadata": {},
   "outputs": [
    {
     "name": "stdout",
     "output_type": "stream",
     "text": [
      "I was wondering if a pain management office is acting illegally/did an illegal action.. I was discharged as a patient from a pain management office after them telling me that a previous pain management specialist I saw administered a steroid shot wrong and I told them in the portal that I spoke to lawyers for advice but no lawsuit/case was created. It was maybe 1-2 months after I was discharged that I no longer have access to my patient portal with them. Every time I try to login I enter my credentials, wait a few seconds, and then I get re-directed back to the original screen where I have various options to login. I know I can speak to the office directly and ask them about what specifically is going on, talk to other lawyers if this is a violation of my rights, etc. but I was just wondering if anyone on this site would know if this action is in fact illegal.\n",
      "In Kentucky, your situation raises questions about patient rights and medical records access. If you were discharged from a pain management office and subsequently lost access to your patient portal, it's important to understand your rights regarding medical records. Under the Health Insurance Portability and Accountability Act (HIPAA), you have the right to access your own medical records. A healthcare provider cannot deny you access to your records, even if you were discharged from their practice. The issue with the patient portal could be a technical glitch or a deliberate action, but either way, it needs to be addressed. You should contact the pain management office directly to inquire about the issue with the patient portal. They are obligated to provide you with a way to access your medical records, which may include providing paper copies or access through a different electronic means. If the office is unresponsive or refuses to provide access to your records, consider speaking to a lawyer who is knowledgeable in health care law. They can guide you on how to enforce your rights to access your medical records and address any potential legal violations by the healthcare provider. Remember, your right to access your medical records is protected by law, and any obstacles to this access should be promptly addressed.\n"
     ]
    }
   ],
   "source": [
    "print(transformed_dataset[\"question\"][0])\n",
    "print(transformed_dataset[\"answer\"][0])"
   ]
  },
  {
   "cell_type": "code",
   "execution_count": 66,
   "id": "5d472793",
   "metadata": {},
   "outputs": [
    {
     "name": "stdout",
     "output_type": "stream",
     "text": [
      "DatasetDict({\n",
      "    train: Dataset({\n",
      "        features: ['question', 'answer'],\n",
      "        num_rows: 2993\n",
      "    })\n",
      "    test: Dataset({\n",
      "        features: ['question', 'answer'],\n",
      "        num_rows: 749\n",
      "    })\n",
      "})\n"
     ]
    }
   ],
   "source": [
    "# split the dataset into train and validation\n",
    "train_test = transformed_dataset.train_test_split(test_size=0.2, seed=SEED)\n",
    "print(train_test)\n",
    "train_val = train_test[\"test\"].train_test_split(test_size=0.5, seed=SEED)\n",
    "transformed_dataset = {\n",
    "    \"train\": train_test[\"train\"],\n",
    "    \"val\": train_val[\"test\"],\n",
    "    \"test\": train_val[\"train\"]\n",
    "}"
   ]
  },
  {
   "cell_type": "code",
   "execution_count": 67,
   "id": "74c6d6b3",
   "metadata": {},
   "outputs": [
    {
     "data": {
      "text/plain": [
       "{'train': Dataset({\n",
       "     features: ['question', 'answer'],\n",
       "     num_rows: 2993\n",
       " }),\n",
       " 'val': Dataset({\n",
       "     features: ['question', 'answer'],\n",
       "     num_rows: 375\n",
       " }),\n",
       " 'test': Dataset({\n",
       "     features: ['question', 'answer'],\n",
       "     num_rows: 374\n",
       " })}"
      ]
     },
     "execution_count": 67,
     "metadata": {},
     "output_type": "execute_result"
    }
   ],
   "source": [
    "transformed_dataset"
   ]
  },
  {
   "cell_type": "markdown",
   "id": "fef6830f",
   "metadata": {},
   "source": [
    "## Embeddings"
   ]
  },
  {
   "cell_type": "code",
   "execution_count": 20,
   "id": "e462fcc8",
   "metadata": {},
   "outputs": [],
   "source": [
    "from typing import List\n",
    "from langchain_core.embeddings import Embeddings\n",
    "from sentence_transformers import SentenceTransformer\n",
    "\n",
    "\n",
    "class SentenceTransformerEmbeddings(Embeddings):\n",
    "\n",
    "    def __init__(self, model: str, device: str = 'cuda'):\n",
    "        self.model = SentenceTransformer(model, device=device)\n",
    "\n",
    "    def embed_documents(self, texts: List[str]) -> List[List[float]]:\n",
    "        \"\"\"Embed search docs.\"\"\"\n",
    "        return self.model.encode(texts).tolist()\n",
    "\n",
    "    def embed_query(self, text: str) -> List[float]:\n",
    "        \"\"\"Embed query text.\"\"\"\n",
    "        return self.model.encode_query(text).tolist()"
   ]
  },
  {
   "cell_type": "code",
   "execution_count": 27,
   "id": "97d99403",
   "metadata": {},
   "outputs": [
    {
     "name": "stdout",
     "output_type": "stream",
     "text": [
      "Loaded vector store contains 3742 vectors\n"
     ]
    }
   ],
   "source": [
    "from langchain_community.vectorstores import FAISS\n",
    "\n",
    "model = SentenceTransformerEmbeddings(model=\"all-mpnet-base-v2\")\n",
    "\n",
    "loaded_vectorstore=FAISS.load_local(\n",
    "    \"../data/db/legal-qa-v1_embeddings_all-mpnet-base-v2\",\n",
    "    model,\n",
    "    allow_dangerous_deserialization=True\n",
    ")\n",
    "\n",
    "print(f\"Loaded vector store contains {loaded_vectorstore.index.ntotal} vectors\")"
   ]
  },
  {
   "cell_type": "code",
   "execution_count": 30,
   "id": "719abab6",
   "metadata": {},
   "outputs": [
    {
     "name": "stdout",
     "output_type": "stream",
     "text": [
      "All embeddings shape: (3742, 768)\n"
     ]
    }
   ],
   "source": [
    "# get all embeddings in numpy array\n",
    "import numpy as np\n",
    "all_embeddings = np.array([emb for emb in loaded_vectorstore.index.reconstruct_n(0, loaded_vectorstore.index.ntotal)])\n",
    "print(f\"All embeddings shape: {all_embeddings.shape}\")"
   ]
  },
  {
   "cell_type": "code",
   "execution_count": 39,
   "id": "e820e759",
   "metadata": {},
   "outputs": [
    {
     "data": {
      "image/png": "[encoded data removed]",
      "text/plain": [
       "<Figure size 640x480 with 1 Axes>"
      ]
     },
     "metadata": {},
     "output_type": "display_data"
    }
   ],
   "source": [
    "# plot histogram of the embeddings cosine similarity distribution\n",
    "\n",
    "import matplotlib.pyplot as plt\n",
    "from sklearn.metrics.pairwise import cosine_similarity\n",
    "\n",
    "cosine_similarities = cosine_similarity(all_embeddings)\n",
    "# get the upper triangle of the cosine similarities matrix, without the diagonal\n",
    "upper_triangle_indices = np.triu_indices_from(cosine_similarities, k=1)\n",
    "upper_triangle_values = cosine_similarities[upper_triangle_indices]\n",
    "\n",
    "plt.hist(upper_triangle_values, bins=50)\n",
    "plt.grid()\n",
    "plt.title(\"Cosine Similarity Distribution of Embeddings\")\n",
    "plt.xlabel(\"Cosine Similarity\")\n",
    "plt.ylabel(\"Frequency\")\n",
    "plt.show()"
   ]
  },
  {
   "cell_type": "code",
   "execution_count": 38,
   "id": "54e48a89",
   "metadata": {},
   "outputs": [
    {
     "name": "stdout",
     "output_type": "stream",
     "text": [
      "Mean Cosine Similarity: 0.1241\n",
      "Standard Deviation of Cosine Similarity: 0.1133\n"
     ]
    }
   ],
   "source": [
    "# print the mean and standard deviation of the cosine similarities\n",
    "mean_cosine_similarity = np.mean(upper_triangle_values)\n",
    "std_cosine_similarity = np.std(upper_triangle_values)\n",
    "# print the results rounded to 4 decimal places\n",
    "print(f\"Mean Cosine Similarity: {mean_cosine_similarity:.4f}\")\n",
    "print(f\"Standard Deviation of Cosine Similarity: {std_cosine_similarity:.4f}\")"
   ]
  },
  {
   "cell_type": "code",
   "execution_count": 2,
   "id": "3c1f3e1b",
   "metadata": {},
   "outputs": [
    {
     "name": "stdout",
     "output_type": "stream",
     "text": [
      "DatasetDict({\n",
      "    train: Dataset({\n",
      "        features: ['id', 'question', 'documents', 'response', 'generation_model_name', 'annotating_model_name', 'dataset_name', 'documents_sentences', 'response_sentences', 'sentence_support_information', 'unsupported_response_sentence_keys', 'adherence_score', 'overall_supported_explanation', 'relevance_explanation', 'all_relevant_sentence_keys', 'all_utilized_sentence_keys', 'trulens_groundedness', 'trulens_context_relevance', 'ragas_faithfulness', 'ragas_context_relevance', 'gpt3_adherence', 'gpt3_context_relevance', 'gpt35_utilization', 'relevance_score', 'utilization_score', 'completeness_score'],\n",
      "        num_rows: 1883\n",
      "    })\n",
      "    test: Dataset({\n",
      "        features: ['id', 'question', 'documents', 'response', 'generation_model_name', 'annotating_model_name', 'dataset_name', 'documents_sentences', 'response_sentences', 'sentence_support_information', 'unsupported_response_sentence_keys', 'adherence_score', 'overall_supported_explanation', 'relevance_explanation', 'all_relevant_sentence_keys', 'all_utilized_sentence_keys', 'trulens_groundedness', 'trulens_context_relevance', 'ragas_faithfulness', 'ragas_context_relevance', 'gpt3_adherence', 'gpt3_context_relevance', 'gpt35_utilization', 'relevance_score', 'utilization_score', 'completeness_score'],\n",
      "        num_rows: 390\n",
      "    })\n",
      "    validation: Dataset({\n",
      "        features: ['id', 'question', 'documents', 'response', 'generation_model_name', 'annotating_model_name', 'dataset_name', 'documents_sentences', 'response_sentences', 'sentence_support_information', 'unsupported_response_sentence_keys', 'adherence_score', 'overall_supported_explanation', 'relevance_explanation', 'all_relevant_sentence_keys', 'all_utilized_sentence_keys', 'trulens_groundedness', 'trulens_context_relevance', 'ragas_faithfulness', 'ragas_context_relevance', 'gpt3_adherence', 'gpt3_context_relevance', 'gpt35_utilization', 'relevance_score', 'utilization_score', 'completeness_score'],\n",
      "        num_rows: 424\n",
      "    })\n",
      "})\n"
     ]
    }
   ],
   "source": [
    "from datasets import load_dataset\n",
    "\n",
    "# load train/validation/test splits of individual subset\n",
    "ragbench_hotpotqa = load_dataset(\"rungalileo/ragbench\", \"hotpotqa\")\n",
    "print(ragbench_hotpotqa)"
   ]
  },
  {
   "cell_type": "code",
   "execution_count": 3,
   "id": "e2e65861",
   "metadata": {},
   "outputs": [
    {
     "name": "stderr",
     "output_type": "stream",
     "text": [
      "Generating train split: 100%|██████████| 1252/1252 [00:00<00:00, 72489.28 examples/s]\n",
      "Generating test split: 100%|██████████| 246/246 [00:00<00:00, 44228.16 examples/s]\n",
      "Generating validation split: 100%|██████████| 267/267 [00:00<00:00, 44510.30 examples/s]\n",
      "Generating train split: 100%|██████████| 1530/1530 [00:00<00:00, 5989.47 examples/s]\n",
      "Generating validation split: 100%|██████████| 510/510 [00:00<00:00, 6573.56 examples/s]\n",
      "Generating test split: 100%|██████████| 510/510 [00:00<00:00, 8469.82 examples/s]\n",
      "Generating train split: 100%|██████████| 1460/1460 [00:00<00:00, 56811.77 examples/s]\n",
      "Generating validation split: 100%|██████████| 182/182 [00:00<00:00, 41523.24 examples/s]\n",
      "Generating test split: 100%|██████████| 184/184 [00:00<00:00, 43179.76 examples/s]\n",
      "Generating train split: 100%|██████████| 1054/1054 [00:00<00:00, 96429.19 examples/s]\n",
      "Generating validation split: 100%|██████████| 132/132 [00:00<00:00, 34032.96 examples/s]\n",
      "Generating test split: 100%|██████████| 132/132 [00:00<00:00, 30717.27 examples/s]\n",
      "Generating train split: 100%|██████████| 1621/1621 [00:00<00:00, 30075.54 examples/s]\n",
      "Generating validation split: 100%|██████████| 203/203 [00:00<00:00, 28968.55 examples/s]\n",
      "Generating test split: 100%|██████████| 203/203 [00:00<00:00, 19726.70 examples/s]\n",
      "Generating train split: 100%|██████████| 12502/12502 [00:00<00:00, 94575.31 examples/s]\n",
      "Generating validation split: 100%|██████████| 1766/1766 [00:00<00:00, 79756.45 examples/s]\n",
      "Generating test split: 100%|██████████| 2294/2294 [00:00<00:00, 80933.80 examples/s]\n",
      "Generating train split: 100%|██████████| 2892/2892 [00:00<00:00, 139684.55 examples/s]\n",
      "Generating validation split: 100%|██████████| 322/322 [00:00<00:00, 61771.22 examples/s]\n",
      "Generating test split: 100%|██████████| 1318/1318 [00:00<00:00, 111487.20 examples/s]\n",
      "Generating train split: 100%|██████████| 1870/1870 [00:00<00:00, 86090.36 examples/s]\n",
      "Generating test split: 100%|██████████| 423/423 [00:00<00:00, 54299.77 examples/s]\n",
      "Generating validation split: 100%|██████████| 397/397 [00:00<00:00, 50923.23 examples/s]\n",
      "Generating train split: 100%|██████████| 19600/19600 [00:00<00:00, 148442.52 examples/s]\n",
      "Generating validation split: 100%|██████████| 2450/2450 [00:00<00:00, 114400.72 examples/s]\n",
      "Generating test split: 100%|██████████| 2450/2450 [00:00<00:00, 104907.91 examples/s]\n",
      "Generating train split: 100%|██████████| 26430/26430 [00:00<00:00, 215801.82 examples/s]\n",
      "Generating validation split: 100%|██████████| 3336/3336 [00:00<00:00, 185811.96 examples/s]\n",
      "Generating test split: 100%|██████████| 3338/3338 [00:00<00:00, 207311.68 examples/s]\n",
      "Generating train split: 100%|██████████| 1192/1192 [00:00<00:00, 17968.50 examples/s]\n",
      "Generating validation split: 100%|██████████| 304/304 [00:00<00:00, 14787.69 examples/s]\n",
      "Generating test split: 100%|██████████| 314/314 [00:00<00:00, 15287.95 examples/s]\n"
     ]
    }
   ],
   "source": [
    "ragbench = {}\n",
    "for dataset in ['covidqa', 'cuad', 'delucionqa', 'emanual', 'expertqa', 'finqa', 'hagrid', 'hotpotqa', 'msmarco', 'pubmedqa', 'tatqa', 'techqa']:\n",
    "  ragbench[dataset] = load_dataset(\"rungalileo/ragbench\", dataset)"
   ]
  },
  {
   "cell_type": "code",
   "execution_count": 4,
   "id": "4861e3e5",
   "metadata": {},
   "outputs": [
    {
     "data": {
      "text/plain": [
       "{'covidqa': DatasetDict({\n",
       "     train: Dataset({\n",
       "         features: ['id', 'question', 'documents', 'response', 'generation_model_name', 'annotating_model_name', 'dataset_name', 'documents_sentences', 'response_sentences', 'sentence_support_information', 'unsupported_response_sentence_keys', 'adherence_score', 'overall_supported_explanation', 'relevance_explanation', 'all_relevant_sentence_keys', 'all_utilized_sentence_keys', 'trulens_groundedness', 'trulens_context_relevance', 'ragas_faithfulness', 'ragas_context_relevance', 'gpt3_adherence', 'gpt3_context_relevance', 'gpt35_utilization', 'relevance_score', 'utilization_score', 'completeness_score'],\n",
       "         num_rows: 1252\n",
       "     })\n",
       "     test: Dataset({\n",
       "         features: ['id', 'question', 'documents', 'response', 'generation_model_name', 'annotating_model_name', 'dataset_name', 'documents_sentences', 'response_sentences', 'sentence_support_information', 'unsupported_response_sentence_keys', 'adherence_score', 'overall_supported_explanation', 'relevance_explanation', 'all_relevant_sentence_keys', 'all_utilized_sentence_keys', 'trulens_groundedness', 'trulens_context_relevance', 'ragas_faithfulness', 'ragas_context_relevance', 'gpt3_adherence', 'gpt3_context_relevance', 'gpt35_utilization', 'relevance_score', 'utilization_score', 'completeness_score'],\n",
       "         num_rows: 246\n",
       "     })\n",
       "     validation: Dataset({\n",
       "         features: ['id', 'question', 'documents', 'response', 'generation_model_name', 'annotating_model_name', 'dataset_name', 'documents_sentences', 'response_sentences', 'sentence_support_information', 'unsupported_response_sentence_keys', 'adherence_score', 'overall_supported_explanation', 'relevance_explanation', 'all_relevant_sentence_keys', 'all_utilized_sentence_keys', 'trulens_groundedness', 'trulens_context_relevance', 'ragas_faithfulness', 'ragas_context_relevance', 'gpt3_adherence', 'gpt3_context_relevance', 'gpt35_utilization', 'relevance_score', 'utilization_score', 'completeness_score'],\n",
       "         num_rows: 267\n",
       "     })\n",
       " }),\n",
       " 'cuad': DatasetDict({\n",
       "     train: Dataset({\n",
       "         features: ['id', 'question', 'documents', 'response', 'generation_model_name', 'annotating_model_name', 'dataset_name', 'documents_sentences', 'response_sentences', 'sentence_support_information', 'unsupported_response_sentence_keys', 'adherence_score', 'overall_supported_explanation', 'relevance_explanation', 'all_relevant_sentence_keys', 'all_utilized_sentence_keys', 'trulens_groundedness', 'trulens_context_relevance', 'ragas_faithfulness', 'ragas_context_relevance', 'gpt3_adherence', 'gpt3_context_relevance', 'gpt35_utilization', 'relevance_score', 'utilization_score', 'completeness_score'],\n",
       "         num_rows: 1530\n",
       "     })\n",
       "     validation: Dataset({\n",
       "         features: ['id', 'question', 'documents', 'response', 'generation_model_name', 'annotating_model_name', 'dataset_name', 'documents_sentences', 'response_sentences', 'sentence_support_information', 'unsupported_response_sentence_keys', 'adherence_score', 'overall_supported_explanation', 'relevance_explanation', 'all_relevant_sentence_keys', 'all_utilized_sentence_keys', 'trulens_groundedness', 'trulens_context_relevance', 'ragas_faithfulness', 'ragas_context_relevance', 'gpt3_adherence', 'gpt3_context_relevance', 'gpt35_utilization', 'relevance_score', 'utilization_score', 'completeness_score'],\n",
       "         num_rows: 510\n",
       "     })\n",
       "     test: Dataset({\n",
       "         features: ['id', 'question', 'documents', 'response', 'generation_model_name', 'annotating_model_name', 'dataset_name', 'documents_sentences', 'response_sentences', 'sentence_support_information', 'unsupported_response_sentence_keys', 'adherence_score', 'overall_supported_explanation', 'relevance_explanation', 'all_relevant_sentence_keys', 'all_utilized_sentence_keys', 'trulens_groundedness', 'trulens_context_relevance', 'ragas_faithfulness', 'ragas_context_relevance', 'gpt3_adherence', 'gpt3_context_relevance', 'gpt35_utilization', 'relevance_score', 'utilization_score', 'completeness_score'],\n",
       "         num_rows: 510\n",
       "     })\n",
       " }),\n",
       " 'delucionqa': DatasetDict({\n",
       "     train: Dataset({\n",
       "         features: ['id', 'question', 'documents', 'response', 'generation_model_name', 'annotating_model_name', 'dataset_name', 'documents_sentences', 'response_sentences', 'sentence_support_information', 'unsupported_response_sentence_keys', 'adherence_score', 'overall_supported_explanation', 'relevance_explanation', 'all_relevant_sentence_keys', 'all_utilized_sentence_keys', 'trulens_groundedness', 'trulens_context_relevance', 'ragas_faithfulness', 'ragas_context_relevance', 'gpt3_adherence', 'gpt3_context_relevance', 'gpt35_utilization', 'relevance_score', 'utilization_score', 'completeness_score'],\n",
       "         num_rows: 1460\n",
       "     })\n",
       "     validation: Dataset({\n",
       "         features: ['id', 'question', 'documents', 'response', 'generation_model_name', 'annotating_model_name', 'dataset_name', 'documents_sentences', 'response_sentences', 'sentence_support_information', 'unsupported_response_sentence_keys', 'adherence_score', 'overall_supported_explanation', 'relevance_explanation', 'all_relevant_sentence_keys', 'all_utilized_sentence_keys', 'trulens_groundedness', 'trulens_context_relevance', 'ragas_faithfulness', 'ragas_context_relevance', 'gpt3_adherence', 'gpt3_context_relevance', 'gpt35_utilization', 'relevance_score', 'utilization_score', 'completeness_score'],\n",
       "         num_rows: 182\n",
       "     })\n",
       "     test: Dataset({\n",
       "         features: ['id', 'question', 'documents', 'response', 'generation_model_name', 'annotating_model_name', 'dataset_name', 'documents_sentences', 'response_sentences', 'sentence_support_information', 'unsupported_response_sentence_keys', 'adherence_score', 'overall_supported_explanation', 'relevance_explanation', 'all_relevant_sentence_keys', 'all_utilized_sentence_keys', 'trulens_groundedness', 'trulens_context_relevance', 'ragas_faithfulness', 'ragas_context_relevance', 'gpt3_adherence', 'gpt3_context_relevance', 'gpt35_utilization', 'relevance_score', 'utilization_score', 'completeness_score'],\n",
       "         num_rows: 184\n",
       "     })\n",
       " }),\n",
       " 'emanual': DatasetDict({\n",
       "     train: Dataset({\n",
       "         features: ['id', 'question', 'documents', 'response', 'generation_model_name', 'annotating_model_name', 'dataset_name', 'documents_sentences', 'response_sentences', 'sentence_support_information', 'unsupported_response_sentence_keys', 'adherence_score', 'overall_supported_explanation', 'relevance_explanation', 'all_relevant_sentence_keys', 'all_utilized_sentence_keys', 'trulens_groundedness', 'trulens_context_relevance', 'ragas_faithfulness', 'ragas_context_relevance', 'gpt3_adherence', 'gpt3_context_relevance', 'gpt35_utilization', 'relevance_score', 'utilization_score', 'completeness_score'],\n",
       "         num_rows: 1054\n",
       "     })\n",
       "     validation: Dataset({\n",
       "         features: ['id', 'question', 'documents', 'response', 'generation_model_name', 'annotating_model_name', 'dataset_name', 'documents_sentences', 'response_sentences', 'sentence_support_information', 'unsupported_response_sentence_keys', 'adherence_score', 'overall_supported_explanation', 'relevance_explanation', 'all_relevant_sentence_keys', 'all_utilized_sentence_keys', 'trulens_groundedness', 'trulens_context_relevance', 'ragas_faithfulness', 'ragas_context_relevance', 'gpt3_adherence', 'gpt3_context_relevance', 'gpt35_utilization', 'relevance_score', 'utilization_score', 'completeness_score'],\n",
       "         num_rows: 132\n",
       "     })\n",
       "     test: Dataset({\n",
       "         features: ['id', 'question', 'documents', 'response', 'generation_model_name', 'annotating_model_name', 'dataset_name', 'documents_sentences', 'response_sentences', 'sentence_support_information', 'unsupported_response_sentence_keys', 'adherence_score', 'overall_supported_explanation', 'relevance_explanation', 'all_relevant_sentence_keys', 'all_utilized_sentence_keys', 'trulens_groundedness', 'trulens_context_relevance', 'ragas_faithfulness', 'ragas_context_relevance', 'gpt3_adherence', 'gpt3_context_relevance', 'gpt35_utilization', 'relevance_score', 'utilization_score', 'completeness_score'],\n",
       "         num_rows: 132\n",
       "     })\n",
       " }),\n",
       " 'expertqa': DatasetDict({\n",
       "     train: Dataset({\n",
       "         features: ['id', 'question', 'documents', 'response', 'generation_model_name', 'annotating_model_name', 'dataset_name', 'documents_sentences', 'response_sentences', 'sentence_support_information', 'unsupported_response_sentence_keys', 'adherence_score', 'overall_supported_explanation', 'relevance_explanation', 'all_relevant_sentence_keys', 'all_utilized_sentence_keys', 'trulens_groundedness', 'trulens_context_relevance', 'ragas_faithfulness', 'ragas_context_relevance', 'gpt3_adherence', 'gpt3_context_relevance', 'gpt35_utilization', 'relevance_score', 'utilization_score', 'completeness_score'],\n",
       "         num_rows: 1621\n",
       "     })\n",
       "     validation: Dataset({\n",
       "         features: ['id', 'question', 'documents', 'response', 'generation_model_name', 'annotating_model_name', 'dataset_name', 'documents_sentences', 'response_sentences', 'sentence_support_information', 'unsupported_response_sentence_keys', 'adherence_score', 'overall_supported_explanation', 'relevance_explanation', 'all_relevant_sentence_keys', 'all_utilized_sentence_keys', 'trulens_groundedness', 'trulens_context_relevance', 'ragas_faithfulness', 'ragas_context_relevance', 'gpt3_adherence', 'gpt3_context_relevance', 'gpt35_utilization', 'relevance_score', 'utilization_score', 'completeness_score'],\n",
       "         num_rows: 203\n",
       "     })\n",
       "     test: Dataset({\n",
       "         features: ['id', 'question', 'documents', 'response', 'generation_model_name', 'annotating_model_name', 'dataset_name', 'documents_sentences', 'response_sentences', 'sentence_support_information', 'unsupported_response_sentence_keys', 'adherence_score', 'overall_supported_explanation', 'relevance_explanation', 'all_relevant_sentence_keys', 'all_utilized_sentence_keys', 'trulens_groundedness', 'trulens_context_relevance', 'ragas_faithfulness', 'ragas_context_relevance', 'gpt3_adherence', 'gpt3_context_relevance', 'gpt35_utilization', 'relevance_score', 'utilization_score', 'completeness_score'],\n",
       "         num_rows: 203\n",
       "     })\n",
       " }),\n",
       " 'finqa': DatasetDict({\n",
       "     train: Dataset({\n",
       "         features: ['id', 'question', 'documents', 'response', 'generation_model_name', 'annotating_model_name', 'dataset_name', 'documents_sentences', 'response_sentences', 'sentence_support_information', 'unsupported_response_sentence_keys', 'adherence_score', 'overall_supported_explanation', 'relevance_explanation', 'all_relevant_sentence_keys', 'all_utilized_sentence_keys', 'trulens_groundedness', 'trulens_context_relevance', 'ragas_faithfulness', 'ragas_context_relevance', 'gpt3_adherence', 'gpt3_context_relevance', 'gpt35_utilization', 'relevance_score', 'utilization_score', 'completeness_score'],\n",
       "         num_rows: 12502\n",
       "     })\n",
       "     validation: Dataset({\n",
       "         features: ['id', 'question', 'documents', 'response', 'generation_model_name', 'annotating_model_name', 'dataset_name', 'documents_sentences', 'response_sentences', 'sentence_support_information', 'unsupported_response_sentence_keys', 'adherence_score', 'overall_supported_explanation', 'relevance_explanation', 'all_relevant_sentence_keys', 'all_utilized_sentence_keys', 'trulens_groundedness', 'trulens_context_relevance', 'ragas_faithfulness', 'ragas_context_relevance', 'gpt3_adherence', 'gpt3_context_relevance', 'gpt35_utilization', 'relevance_score', 'utilization_score', 'completeness_score'],\n",
       "         num_rows: 1766\n",
       "     })\n",
       "     test: Dataset({\n",
       "         features: ['id', 'question', 'documents', 'response', 'generation_model_name', 'annotating_model_name', 'dataset_name', 'documents_sentences', 'response_sentences', 'sentence_support_information', 'unsupported_response_sentence_keys', 'adherence_score', 'overall_supported_explanation', 'relevance_explanation', 'all_relevant_sentence_keys', 'all_utilized_sentence_keys', 'trulens_groundedness', 'trulens_context_relevance', 'ragas_faithfulness', 'ragas_context_relevance', 'gpt3_adherence', 'gpt3_context_relevance', 'gpt35_utilization', 'relevance_score', 'utilization_score', 'completeness_score'],\n",
       "         num_rows: 2294\n",
       "     })\n",
       " }),\n",
       " 'hagrid': DatasetDict({\n",
       "     train: Dataset({\n",
       "         features: ['id', 'question', 'documents', 'response', 'generation_model_name', 'annotating_model_name', 'dataset_name', 'documents_sentences', 'response_sentences', 'sentence_support_information', 'unsupported_response_sentence_keys', 'adherence_score', 'overall_supported_explanation', 'relevance_explanation', 'all_relevant_sentence_keys', 'all_utilized_sentence_keys', 'trulens_groundedness', 'trulens_context_relevance', 'ragas_faithfulness', 'ragas_context_relevance', 'gpt3_adherence', 'gpt3_context_relevance', 'gpt35_utilization', 'relevance_score', 'utilization_score', 'completeness_score'],\n",
       "         num_rows: 2892\n",
       "     })\n",
       "     validation: Dataset({\n",
       "         features: ['id', 'question', 'documents', 'response', 'generation_model_name', 'annotating_model_name', 'dataset_name', 'documents_sentences', 'response_sentences', 'sentence_support_information', 'unsupported_response_sentence_keys', 'adherence_score', 'overall_supported_explanation', 'relevance_explanation', 'all_relevant_sentence_keys', 'all_utilized_sentence_keys', 'trulens_groundedness', 'trulens_context_relevance', 'ragas_faithfulness', 'ragas_context_relevance', 'gpt3_adherence', 'gpt3_context_relevance', 'gpt35_utilization', 'relevance_score', 'utilization_score', 'completeness_score'],\n",
       "         num_rows: 322\n",
       "     })\n",
       "     test: Dataset({\n",
       "         features: ['id', 'question', 'documents', 'response', 'generation_model_name', 'annotating_model_name', 'dataset_name', 'documents_sentences', 'response_sentences', 'sentence_support_information', 'unsupported_response_sentence_keys', 'adherence_score', 'overall_supported_explanation', 'relevance_explanation', 'all_relevant_sentence_keys', 'all_utilized_sentence_keys', 'trulens_groundedness', 'trulens_context_relevance', 'ragas_faithfulness', 'ragas_context_relevance', 'gpt3_adherence', 'gpt3_context_relevance', 'gpt35_utilization', 'relevance_score', 'utilization_score', 'completeness_score'],\n",
       "         num_rows: 1318\n",
       "     })\n",
       " }),\n",
       " 'hotpotqa': DatasetDict({\n",
       "     train: Dataset({\n",
       "         features: ['id', 'question', 'documents', 'response', 'generation_model_name', 'annotating_model_name', 'dataset_name', 'documents_sentences', 'response_sentences', 'sentence_support_information', 'unsupported_response_sentence_keys', 'adherence_score', 'overall_supported_explanation', 'relevance_explanation', 'all_relevant_sentence_keys', 'all_utilized_sentence_keys', 'trulens_groundedness', 'trulens_context_relevance', 'ragas_faithfulness', 'ragas_context_relevance', 'gpt3_adherence', 'gpt3_context_relevance', 'gpt35_utilization', 'relevance_score', 'utilization_score', 'completeness_score'],\n",
       "         num_rows: 1883\n",
       "     })\n",
       "     test: Dataset({\n",
       "         features: ['id', 'question', 'documents', 'response', 'generation_model_name', 'annotating_model_name', 'dataset_name', 'documents_sentences', 'response_sentences', 'sentence_support_information', 'unsupported_response_sentence_keys', 'adherence_score', 'overall_supported_explanation', 'relevance_explanation', 'all_relevant_sentence_keys', 'all_utilized_sentence_keys', 'trulens_groundedness', 'trulens_context_relevance', 'ragas_faithfulness', 'ragas_context_relevance', 'gpt3_adherence', 'gpt3_context_relevance', 'gpt35_utilization', 'relevance_score', 'utilization_score', 'completeness_score'],\n",
       "         num_rows: 390\n",
       "     })\n",
       "     validation: Dataset({\n",
       "         features: ['id', 'question', 'documents', 'response', 'generation_model_name', 'annotating_model_name', 'dataset_name', 'documents_sentences', 'response_sentences', 'sentence_support_information', 'unsupported_response_sentence_keys', 'adherence_score', 'overall_supported_explanation', 'relevance_explanation', 'all_relevant_sentence_keys', 'all_utilized_sentence_keys', 'trulens_groundedness', 'trulens_context_relevance', 'ragas_faithfulness', 'ragas_context_relevance', 'gpt3_adherence', 'gpt3_context_relevance', 'gpt35_utilization', 'relevance_score', 'utilization_score', 'completeness_score'],\n",
       "         num_rows: 424\n",
       "     })\n",
       " }),\n",
       " 'msmarco': DatasetDict({\n",
       "     train: Dataset({\n",
       "         features: ['id', 'question', 'documents', 'response', 'generation_model_name', 'annotating_model_name', 'dataset_name', 'documents_sentences', 'response_sentences', 'sentence_support_information', 'unsupported_response_sentence_keys', 'adherence_score', 'overall_supported_explanation', 'relevance_explanation', 'all_relevant_sentence_keys', 'all_utilized_sentence_keys', 'trulens_groundedness', 'trulens_context_relevance', 'ragas_faithfulness', 'ragas_context_relevance', 'gpt3_adherence', 'gpt3_context_relevance', 'gpt35_utilization', 'relevance_score', 'utilization_score', 'completeness_score'],\n",
       "         num_rows: 1870\n",
       "     })\n",
       "     test: Dataset({\n",
       "         features: ['id', 'question', 'documents', 'response', 'generation_model_name', 'annotating_model_name', 'dataset_name', 'documents_sentences', 'response_sentences', 'sentence_support_information', 'unsupported_response_sentence_keys', 'adherence_score', 'overall_supported_explanation', 'relevance_explanation', 'all_relevant_sentence_keys', 'all_utilized_sentence_keys', 'trulens_groundedness', 'trulens_context_relevance', 'ragas_faithfulness', 'ragas_context_relevance', 'gpt3_adherence', 'gpt3_context_relevance', 'gpt35_utilization', 'relevance_score', 'utilization_score', 'completeness_score'],\n",
       "         num_rows: 423\n",
       "     })\n",
       "     validation: Dataset({\n",
       "         features: ['id', 'question', 'documents', 'response', 'generation_model_name', 'annotating_model_name', 'dataset_name', 'documents_sentences', 'response_sentences', 'sentence_support_information', 'unsupported_response_sentence_keys', 'adherence_score', 'overall_supported_explanation', 'relevance_explanation', 'all_relevant_sentence_keys', 'all_utilized_sentence_keys', 'trulens_groundedness', 'trulens_context_relevance', 'ragas_faithfulness', 'ragas_context_relevance', 'gpt3_adherence', 'gpt3_context_relevance', 'gpt35_utilization', 'relevance_score', 'utilization_score', 'completeness_score'],\n",
       "         num_rows: 397\n",
       "     })\n",
       " }),\n",
       " 'pubmedqa': DatasetDict({\n",
       "     train: Dataset({\n",
       "         features: ['id', 'question', 'documents', 'response', 'generation_model_name', 'annotating_model_name', 'dataset_name', 'documents_sentences', 'response_sentences', 'sentence_support_information', 'unsupported_response_sentence_keys', 'adherence_score', 'overall_supported_explanation', 'relevance_explanation', 'all_relevant_sentence_keys', 'all_utilized_sentence_keys', 'trulens_groundedness', 'trulens_context_relevance', 'ragas_faithfulness', 'ragas_context_relevance', 'gpt3_adherence', 'gpt3_context_relevance', 'gpt35_utilization', 'relevance_score', 'utilization_score', 'completeness_score'],\n",
       "         num_rows: 19600\n",
       "     })\n",
       "     validation: Dataset({\n",
       "         features: ['id', 'question', 'documents', 'response', 'generation_model_name', 'annotating_model_name', 'dataset_name', 'documents_sentences', 'response_sentences', 'sentence_support_information', 'unsupported_response_sentence_keys', 'adherence_score', 'overall_supported_explanation', 'relevance_explanation', 'all_relevant_sentence_keys', 'all_utilized_sentence_keys', 'trulens_groundedness', 'trulens_context_relevance', 'ragas_faithfulness', 'ragas_context_relevance', 'gpt3_adherence', 'gpt3_context_relevance', 'gpt35_utilization', 'relevance_score', 'utilization_score', 'completeness_score'],\n",
       "         num_rows: 2450\n",
       "     })\n",
       "     test: Dataset({\n",
       "         features: ['id', 'question', 'documents', 'response', 'generation_model_name', 'annotating_model_name', 'dataset_name', 'documents_sentences', 'response_sentences', 'sentence_support_information', 'unsupported_response_sentence_keys', 'adherence_score', 'overall_supported_explanation', 'relevance_explanation', 'all_relevant_sentence_keys', 'all_utilized_sentence_keys', 'trulens_groundedness', 'trulens_context_relevance', 'ragas_faithfulness', 'ragas_context_relevance', 'gpt3_adherence', 'gpt3_context_relevance', 'gpt35_utilization', 'relevance_score', 'utilization_score', 'completeness_score'],\n",
       "         num_rows: 2450\n",
       "     })\n",
       " }),\n",
       " 'tatqa': DatasetDict({\n",
       "     train: Dataset({\n",
       "         features: ['id', 'question', 'documents', 'response', 'generation_model_name', 'annotating_model_name', 'dataset_name', 'documents_sentences', 'response_sentences', 'sentence_support_information', 'unsupported_response_sentence_keys', 'adherence_score', 'overall_supported_explanation', 'relevance_explanation', 'all_relevant_sentence_keys', 'all_utilized_sentence_keys', 'trulens_groundedness', 'trulens_context_relevance', 'ragas_faithfulness', 'ragas_context_relevance', 'gpt3_adherence', 'gpt3_context_relevance', 'gpt35_utilization', 'relevance_score', 'utilization_score', 'completeness_score'],\n",
       "         num_rows: 26430\n",
       "     })\n",
       "     validation: Dataset({\n",
       "         features: ['id', 'question', 'documents', 'response', 'generation_model_name', 'annotating_model_name', 'dataset_name', 'documents_sentences', 'response_sentences', 'sentence_support_information', 'unsupported_response_sentence_keys', 'adherence_score', 'overall_supported_explanation', 'relevance_explanation', 'all_relevant_sentence_keys', 'all_utilized_sentence_keys', 'trulens_groundedness', 'trulens_context_relevance', 'ragas_faithfulness', 'ragas_context_relevance', 'gpt3_adherence', 'gpt3_context_relevance', 'gpt35_utilization', 'relevance_score', 'utilization_score', 'completeness_score'],\n",
       "         num_rows: 3336\n",
       "     })\n",
       "     test: Dataset({\n",
       "         features: ['id', 'question', 'documents', 'response', 'generation_model_name', 'annotating_model_name', 'dataset_name', 'documents_sentences', 'response_sentences', 'sentence_support_information', 'unsupported_response_sentence_keys', 'adherence_score', 'overall_supported_explanation', 'relevance_explanation', 'all_relevant_sentence_keys', 'all_utilized_sentence_keys', 'trulens_groundedness', 'trulens_context_relevance', 'ragas_faithfulness', 'ragas_context_relevance', 'gpt3_adherence', 'gpt3_context_relevance', 'gpt35_utilization', 'relevance_score', 'utilization_score', 'completeness_score'],\n",
       "         num_rows: 3338\n",
       "     })\n",
       " }),\n",
       " 'techqa': DatasetDict({\n",
       "     train: Dataset({\n",
       "         features: ['id', 'question', 'documents', 'response', 'generation_model_name', 'annotating_model_name', 'dataset_name', 'documents_sentences', 'response_sentences', 'sentence_support_information', 'unsupported_response_sentence_keys', 'adherence_score', 'overall_supported_explanation', 'relevance_explanation', 'all_relevant_sentence_keys', 'all_utilized_sentence_keys', 'trulens_groundedness', 'trulens_context_relevance', 'ragas_faithfulness', 'ragas_context_relevance', 'gpt3_adherence', 'gpt3_context_relevance', 'gpt35_utilization', 'relevance_score', 'utilization_score', 'completeness_score'],\n",
       "         num_rows: 1192\n",
       "     })\n",
       "     validation: Dataset({\n",
       "         features: ['id', 'question', 'documents', 'response', 'generation_model_name', 'annotating_model_name', 'dataset_name', 'documents_sentences', 'response_sentences', 'sentence_support_information', 'unsupported_response_sentence_keys', 'adherence_score', 'overall_supported_explanation', 'relevance_explanation', 'all_relevant_sentence_keys', 'all_utilized_sentence_keys', 'trulens_groundedness', 'trulens_context_relevance', 'ragas_faithfulness', 'ragas_context_relevance', 'gpt3_adherence', 'gpt3_context_relevance', 'gpt35_utilization', 'relevance_score', 'utilization_score', 'completeness_score'],\n",
       "         num_rows: 304\n",
       "     })\n",
       "     test: Dataset({\n",
       "         features: ['id', 'question', 'documents', 'response', 'generation_model_name', 'annotating_model_name', 'dataset_name', 'documents_sentences', 'response_sentences', 'sentence_support_information', 'unsupported_response_sentence_keys', 'adherence_score', 'overall_supported_explanation', 'relevance_explanation', 'all_relevant_sentence_keys', 'all_utilized_sentence_keys', 'trulens_groundedness', 'trulens_context_relevance', 'ragas_faithfulness', 'ragas_context_relevance', 'gpt3_adherence', 'gpt3_context_relevance', 'gpt35_utilization', 'relevance_score', 'utilization_score', 'completeness_score'],\n",
       "         num_rows: 314\n",
       "     })\n",
       " })}"
      ]
     },
     "execution_count": 4,
     "metadata": {},
     "output_type": "execute_result"
    }
   ],
   "source": [
    "ragbench"
   ]
  },
  {
   "cell_type": "code",
   "execution_count": null,
   "id": "9723d038",
   "metadata": {},
   "outputs": [
    {
     "data": {
      "text/plain": [
       "{'id': '358',\n",
       " 'question': 'What role does T-cell count play in severe human adenovirus type 55 (HAdV-55) infection?',\n",
       " 'documents': ['Title: Emergent severe acute respiratory distress syndrome caused by adenovirus type 55 in immunocompetent adults in 2013: a prospective observational study\\nPassage: Recent studies have shown that the immune system plays a crucial role in the clearance of HAdV viremia and survival of the host . Chen et al. reported that, in the acute phase of HAdV-55 infection, patients with severe disease may have high levels of dendritic cells and Th17 cells . In our study, the only patient who recovered from severe infection had higher T-cell counts. Three of the five patients had relatively low T-cell counts when admitted. Our results suggest that these three patients may have been relatively immunocompromised and that a lower T-cell count may be a risk',\n",
       "  'Title: Emergent severe acute respiratory distress syndrome caused by adenovirus type 55 in immunocompetent adults in 2013: a prospective observational study\\nPassage: Recent studies have shown that the immune system plays a crucial role in the clearance of HAdV viremia and survival of the host . Chen et al. reported that, in the acute phase of HAdV-55 infection, patients with severe disease may have high levels of dendritic cells and Th17 cells . In our study, the only patient who recovered from severe infection had higher T-cell counts. Three of the five patients had relatively low T-cell counts when admitted. Our results suggest that these three patients may have been relatively immunocompromised and that a lower T-cell count may be a risk',\n",
       "  'Title: Human adenovirus type 7 infection causes a more severe disease than type 3\\nPassage: Laboratory findings for the HAdV-7-positive inpatients were also significantly different from those infected by HAdV-3 . Specifically, the HAdV-7-positive inpatients had lower white blood cell count , platelet count . In contrast, hemoglobin and C-reactive protein levels, and the percentages of lymphocytes, neutrophils and positive sputum culture were found to be statistically similar.',\n",
       "  'Title: Human adenovirus type 7 infection causes a more severe disease than type 3\\nPassage: Imaging and laboratory data on admission and during hospitalization were collected. White blood cell count > 15,000/ μL was defined as leukocytosis, whereas that < 4000/μL was defined as leukopenia.'],\n",
       " 'response': 'The T-cell count plays a crucial role in severe human adenovirus type 55 (HAdV-55) infection, as patients with severe disease may have low T-cell counts. In the study mentioned, the only patient who recovered from severe infection had higher T-cell counts, suggesting that a lower T-cell count may be a risk factor for severe HAdV-55 infection.',\n",
       " 'generation_model_name': 'gpt-3.5-turbo-1106',\n",
       " 'annotating_model_name': 'gpt-4o',\n",
       " 'dataset_name': 'covidqa_train',\n",
       " 'documents_sentences': [[['0a',\n",
       "    'Title: Emergent severe acute respiratory distress syndrome caused by adenovirus type 55 in immunocompetent adults in 2013: a prospective observational study'],\n",
       "   ['0b',\n",
       "    'Passage: Recent studies have shown that the immune system plays a crucial role in the clearance of HAdV viremia and survival of the host .'],\n",
       "   ['0c',\n",
       "    'Chen et al. reported that, in the acute phase of HAdV-55 infection, patients with severe disease may have high levels of dendritic cells and Th17 cells .'],\n",
       "   ['0d',\n",
       "    'In our study, the only patient who recovered from severe infection had higher T-cell counts.'],\n",
       "   ['0e',\n",
       "    'Three of the five patients had relatively low T-cell counts when admitted.'],\n",
       "   ['0f',\n",
       "    'Our results suggest that these three patients may have been relatively immunocompromised and that a lower T-cell count may be a risk']],\n",
       "  [['1a',\n",
       "    'Title: Emergent severe acute respiratory distress syndrome caused by adenovirus type 55 in immunocompetent adults in 2013: a prospective observational study'],\n",
       "   ['1b',\n",
       "    'Passage: Recent studies have shown that the immune system plays a crucial role in the clearance of HAdV viremia and survival of the host .'],\n",
       "   ['1c',\n",
       "    'Chen et al. reported that, in the acute phase of HAdV-55 infection, patients with severe disease may have high levels of dendritic cells and Th17 cells .'],\n",
       "   ['1d',\n",
       "    'In our study, the only patient who recovered from severe infection had higher T-cell counts.'],\n",
       "   ['1e',\n",
       "    'Three of the five patients had relatively low T-cell counts when admitted.'],\n",
       "   ['1f',\n",
       "    'Our results suggest that these three patients may have been relatively immunocompromised and that a lower T-cell count may be a risk']],\n",
       "  [['2a',\n",
       "    'Title: Human adenovirus type 7 infection causes a more severe disease than type 3'],\n",
       "   ['2b',\n",
       "    'Passage: Laboratory findings for the HAdV-7-positive inpatients were also significantly different from those infected by HAdV-3 .'],\n",
       "   ['2c',\n",
       "    'Specifically, the HAdV-7-positive inpatients had lower white blood cell count , platelet count .'],\n",
       "   ['2d',\n",
       "    'In contrast, hemoglobin and C-reactive protein levels, and the percentages of lymphocytes, neutrophils and positive sputum culture were found to be statistically similar.']],\n",
       "  [['3a',\n",
       "    'Title: Human adenovirus type 7 infection causes a more severe disease than type 3'],\n",
       "   ['3b',\n",
       "    'Passage: Imaging and laboratory data on admission and during hospitalization were collected.'],\n",
       "   ['3c',\n",
       "    'White blood cell count > 15,000/ μL was defined as leukocytosis, whereas that < 4000/μL was defined as leukopenia.']]],\n",
       " 'response_sentences': [['a',\n",
       "   'The T-cell count plays a crucial role in severe human adenovirus type 55 (HAdV-55) infection, as patients with severe disease may have low T-cell counts.'],\n",
       "  ['b',\n",
       "   'In the study mentioned, the only patient who recovered from severe infection had higher T-cell counts, suggesting that a lower T-cell count may be a risk factor for severe HAdV-55 infection.']],\n",
       " 'sentence_support_information': [{'explanation': 'This sentence is supported by the documents. Both documents discuss the association between T-cell counts and severe HAdV-55 infection, suggesting that patients with severe infections may have low T-cell counts.',\n",
       "   'fully_supported': True,\n",
       "   'response_sentence_key': 'a',\n",
       "   'supporting_sentence_keys': ['0e', '0f', '1e', '1f']},\n",
       "  {'explanation': 'This sentence is supported by the documents. The only patient who recovered from severe infection had higher T-cell counts. This fact supports the idea that a lower T-cell count may be a risk factor for severe HAdV-55 infection.',\n",
       "   'fully_supported': True,\n",
       "   'response_sentence_key': 'b',\n",
       "   'supporting_sentence_keys': ['0d', '1d']}],\n",
       " 'unsupported_response_sentence_keys': [],\n",
       " 'adherence_score': True,\n",
       " 'overall_supported_explanation': 'The response is generally supported by the provided documents. Sentence (a) correctly states that T-cell count plays a crucial role in severe HAdV-55 infection and that patients with severe disease may have low T-cell counts, which is supported by document sentences highlighting the association between low T-cell counts and severe disease. Sentence (b) also follows logically from the provided data, noting the recovery of a patient with higher T-cell counts, thereby suggesting that lower T-cell counts may be a risk factor.',\n",
       " 'relevance_explanation': \"Documents 0 and 1 contain useful information for answering the question, as they discuss the role of T-cell count in severe HAdV-55 infection, including observations about patients' T-cell counts and their association with disease severity. Document 2 and Document 3 discuss different aspects of adenovirus infections and do not provide relevant information about T-cell counts in severe HAdV-55 infection.\",\n",
       " 'all_relevant_sentence_keys': ['0d', '0e', '0f', '1d', '1e', '1f'],\n",
       " 'all_utilized_sentence_keys': ['0d', '0e', '0f', '1d', '1e', '1f'],\n",
       " 'trulens_groundedness': None,\n",
       " 'trulens_context_relevance': None,\n",
       " 'ragas_faithfulness': None,\n",
       " 'ragas_context_relevance': None,\n",
       " 'gpt3_adherence': 1.0,\n",
       " 'gpt3_context_relevance': 0.47368421052631576,\n",
       " 'gpt35_utilization': 0.3684210526315789,\n",
       " 'relevance_score': 0.3157894736842105,\n",
       " 'utilization_score': 0.3157894736842105,\n",
       " 'completeness_score': 1.0}"
      ]
     },
     "execution_count": 10,
     "metadata": {},
     "output_type": "execute_result"
    }
   ],
   "source": [
    "ragbench[\"covidqa\"][\"train\"][0]"
   ]
  },
  {
   "cell_type": "code",
   "execution_count": 11,
   "id": "6f6e8c05",
   "metadata": {},
   "outputs": [
    {
     "data": {
      "text/plain": [
       "{'id': '358',\n",
       " 'question': 'What role does T-cell count play in severe human adenovirus type 55 (HAdV-55) infection?',\n",
       " 'documents': ['Title: Emergent severe acute respiratory distress syndrome caused by adenovirus type 55 in immunocompetent adults in 2013: a prospective observational study\\nPassage: Recent studies have shown that the immune system plays a crucial role in the clearance of HAdV viremia and survival of the host . Chen et al. reported that, in the acute phase of HAdV-55 infection, patients with severe disease may have high levels of dendritic cells and Th17 cells . In our study, the only patient who recovered from severe infection had higher T-cell counts. Three of the five patients had relatively low T-cell counts when admitted. Our results suggest that these three patients may have been relatively immunocompromised and that a lower T-cell count may be a risk',\n",
       "  'Title: Emergent severe acute respiratory distress syndrome caused by adenovirus type 55 in immunocompetent adults in 2013: a prospective observational study\\nPassage: Recent studies have shown that the immune system plays a crucial role in the clearance of HAdV viremia and survival of the host . Chen et al. reported that, in the acute phase of HAdV-55 infection, patients with severe disease may have high levels of dendritic cells and Th17 cells . In our study, the only patient who recovered from severe infection had higher T-cell counts. Three of the five patients had relatively low T-cell counts when admitted. Our results suggest that these three patients may have been relatively immunocompromised and that a lower T-cell count may be a risk',\n",
       "  'Title: Human adenovirus type 7 infection causes a more severe disease than type 3\\nPassage: Laboratory findings for the HAdV-7-positive inpatients were also significantly different from those infected by HAdV-3 . Specifically, the HAdV-7-positive inpatients had lower white blood cell count , platelet count . In contrast, hemoglobin and C-reactive protein levels, and the percentages of lymphocytes, neutrophils and positive sputum culture were found to be statistically similar.',\n",
       "  'Title: Human adenovirus type 7 infection causes a more severe disease than type 3\\nPassage: Imaging and laboratory data on admission and during hospitalization were collected. White blood cell count > 15,000/ μL was defined as leukocytosis, whereas that < 4000/μL was defined as leukopenia.'],\n",
       " 'response': 'The T-cell count plays a crucial role in severe human adenovirus type 55 (HAdV-55) infection, as patients with severe disease may have low T-cell counts. In the study mentioned, the only patient who recovered from severe infection had higher T-cell counts, suggesting that a lower T-cell count may be a risk factor for severe HAdV-55 infection.'}"
      ]
     },
     "execution_count": 11,
     "metadata": {},
     "output_type": "execute_result"
    }
   ],
   "source": [
    "## quiero solo estas columnas\n",
    "columns_to_keep = [\"id\", \"question\", \"documents\", \"response\"]\n",
    "for subset in ragbench:\n",
    "    ragbench[subset] = ragbench[subset].remove_columns([col for col in ragbench[subset]['train'].column_names if col not in columns_to_keep])\n",
    "\n",
    "ragbench[\"covidqa\"][\"train\"][0]"
   ]
  }
 ],
 "metadata": {
  "kernelspec": {
   "display_name": "RAG",
   "language": "python",
   "name": "python3"
  },
  "language_info": {
   "codemirror_mode": {
    "name": "ipython",
    "version": 3
   },
   "file_extension": ".py",
   "mimetype": "text/x-python",
   "name": "python",
   "nbconvert_exporter": "python",
   "pygments_lexer": "ipython3",
   "version": "3.11.13"
  }
 },
 "nbformat": 4,
 "nbformat_minor": 5
}
