{
 "cells": [
  {
   "cell_type": "code",
   "execution_count": 6,
   "id": "81f2475e",
   "metadata": {},
   "outputs": [],
   "source": [
    "from datasets import load_from_disk\n",
    "\n",
    "SEED = 123\n",
    "FOLDER = \"../data/processed/legal-qa-v1\""
   ]
  },
  {
   "cell_type": "code",
   "execution_count": 7,
   "id": "0be2245a",
   "metadata": {},
   "outputs": [],
   "source": [
    "dataset = load_from_disk(FOLDER)"
   ]
  },
  {
   "cell_type": "code",
   "execution_count": 12,
   "id": "d32ba1ea",
   "metadata": {},
   "outputs": [
    {
     "name": "stdout",
     "output_type": "stream",
     "text": [
      "DatasetDict({\n",
      "    train: Dataset({\n",
      "        features: ['question', 'answer'],\n",
      "        num_rows: 2992\n",
      "    })\n",
      "    validation: Dataset({\n",
      "        features: ['question', 'answer'],\n",
      "        num_rows: 375\n",
      "    })\n",
      "    test: Dataset({\n",
      "        features: ['question', 'answer'],\n",
      "        num_rows: 375\n",
      "    })\n",
      "})\n",
      "{'question': \"The Skullgirls team has taken a digital product that many people purchased and altered it in very significant ways.. The Skullgirls team has taken a digital product that many people purchased and altered it in very significant ways. They've cut out entire pages from the art book, removed and re-announced voice lines, and drawn over concept art to make it less offensive. The current Skullgirls team, while many of them have ties to the very beginning of the game, is not the same team it was at the beginning. They're missing some of the most important contributors to the Skullgirls brand. They're also literally a completely different company than the original Lab Zero, who is now censoring Lab Zero's products. if these were physical products. Imagine if you bought a physical art book that you really loved. Ten years later, when the company you bought that art book from is overtaken by another company, that new company comes into your house and demands that you give them the pages of the art book that they deemed offensive. simiar situated similar facts & loss\", 'answer': \"The situation you're describing with the Skullgirls digital product raises complex issues in digital content and consumer rights. In the digital realm, the rights and expectations can be significantly different from those associated with physical products. The End User License Agreement (EULA) or terms of service typically govern these situations and may grant the company considerable discretion to alter the content. If you feel that your rights as a consumer have been violated by these changes, the first step is to review the EULA or any terms of service you agreed to when purchasing the product. This will help determine what rights you have in relation to the digital content and whether the company's actions might constitute a breach of contract or other legal violation. Considering the unique aspects of digital products, consulting with an attorney experienced in consumer law, particularly in digital and online products, is advisable. They can assist in assessing the legality of the alterations made and guide you on potential courses of action, including filing a claim if appropriate. Be aware that digital content laws are still evolving, and cases like these can set precedents. Therefore, navigating them can be challenging, making professional legal advice crucial in understanding and asserting your rights.\"}\n",
      "{'question': \"Can I record voice chat on a game server in memory (never written to disk) for moderation purposes?. I'd like to allow a team of moderators to review voice chat manually. There is no automated system in place, and the team would need to manually listen to and subsequently make decisions from the data.\", 'answer': 'The recording of voice chat on a game server for moderation purposes may raise legal considerations, particularly in relation to privacy laws. In Michigan, it is generally required to obtain consent from all parties involved in a conversation before recording it. However, laws can vary, and there may be exceptions for certain circumstances.'}\n",
      "{'question': 'May I inspect a birth certificate before purchasing it?. Is the state of Michigan vital records employees subject to Mich. Comp. Laws Ann. §750. 491; Mich. Comp. Laws Ann. § 750.0492 under the \"Privacy Act.\" Legally are they required to comply with my request to examine birth certificate? They may be in violated the first, 9th and 14th amendments rights of natural parents.', 'answer': \"In Michigan, the process for obtaining a birth certificate typically does not include the option to inspect the document before purchase. Vital records, such as birth certificates, are handled with strict protocols to ensure privacy and security. The Michigan Compiled Laws you mentioned, §§ 750.491 and 750.492, primarily deal with the misuse of personal identification documents and do not directly address the inspection of vital records before purchase. Regarding the Privacy Act, it's important to note that this federal law primarily governs the handling of personal data by federal agencies. State agencies, like those managing vital records in Michigan, generally follow state-specific privacy laws and regulations. The First, Ninth, and Fourteenth Amendments provide broad protections for individual rights, but they do not explicitly grant a right to inspect a birth certificate before purchasing it. The rights of natural parents in relation to birth certificates are typically protected through state laws governing access to and confidentiality of vital records. If you have concerns about the handling of a birth certificate or believe your rights have been violated, it may be beneficial to consult with a lawyer who can provide guidance specific to your situation and the applicable laws in Michigan.\"}\n"
     ]
    }
   ],
   "source": [
    "#check the dataset\n",
    "print(dataset)\n",
    "print(dataset['train'][0])\n",
    "print(dataset['validation'][0])\n",
    "print(dataset['test'][0])"
   ]
  },
  {
   "cell_type": "code",
   "execution_count": 62,
   "id": "685e2c2e",
   "metadata": {},
   "outputs": [
    {
     "data": {
      "text/plain": [
       "Column([\"A:In Kentucky, your situation raises questions about patient rights and medical records access. If you were discharged from a pain management office and subsequently lost access to your patient portal, it's important to understand your rights regarding medical records. Under the Health Insurance Portability and Accountability Act (HIPAA), you have the right to access your own medical records. A healthcare provider cannot deny you access to your records, even if you were discharged from their practice. The issue with the patient portal could be a technical glitch or a deliberate action, but either way, it needs to be addressed. You should contact the pain management office directly to inquire about the issue with the patient portal. They are obligated to provide you with a way to access your medical records, which may include providing paper copies or access through a different electronic means. If the office is unresponsive or refuses to provide access to your records, consider speaking to a lawyer who is knowledgeable in health care law. They can guide you on how to enforce your rights to access your medical records and address any potential legal violations by the healthcare provider. Remember, your right to access your medical records is protected by law, and any obstacles to this access should be promptly addressed.\", \"A:If your houseboat was moved without your permission and you were asked to leave the property after 16 months without any notices, and the management has placed a lien on your houseboat and is attempting to sell it, you may have legal options to challenge their actions. First, you may want to consult with an attorney who specializes in property law or landlord-tenant law to review your case and provide guidance on your legal rights and options. It may also be helpful to gather any evidence you have, such as receipts or documentation of payments or communications with the management, to support your case. Some potential legal claims you may have against the management include breach of contract, conversion, or wrongful eviction. These claims may allow you to seek damages or other forms of relief, such as the return of your houseboat or compensation for any losses you have suffered. It's important to act quickly, as there may be deadlines or other requirements for filing a legal claim. An attorney can provide guidance on the best course of action and help you navigate the legal process.\", \"A:Yes, you can sue a dealership if you have had to replace your transmission 2 times within a year. Whether you will be successful depends on the facts and your presentation. You don't mention anything about any written agreements. Allowing an attorney to evaluate, organize and draft your conciliation or (small claims) complaint (up to $15,000) would be a wise investment. A well polished complaint will not only provide the judge a solid foundation to rule in your favor, but a detailed outline on which to base your oral argument. It would provide you a distinct advantage over the opposing party. The fees can be reasonable depending on the attorney.\", 'A:Once all parties have moved to another state, it is generally possible to register the order in the state where the child is now residing. Generally you need court permission to move a child out of state once a custody order has been entered (at least in Nebraska). If that did not happen before the move, then it can make matters more complicated.', 'A:It\\'s difficult to determine whether there is potential for a lawsuit without more information. Generally, the key question in cases involving trademarks is whether there is a likelihood of confusion between the marks. This analysis involves considering a number of factors, such as the similarity of the marks, the similarity of the goods or services, the sophistication of the consumers, and the strength of the senior user\\'s mark. Based on the limited information provided, it seems that there may be some potential for confusion between \"Rolemaster\" and \"Raid Master,\" particularly given that they both contain the suffix \"Master.\" However, the fact that the games have different themes and mechanics may weigh against a finding of likelihood of confusion. If you are concerned about potential trademark issues, it may be a good idea to consult with an intellectual property attorney who can provide more tailored advice based on the specifics of your situation.'])"
      ]
     },
     "execution_count": 62,
     "metadata": {},
     "output_type": "execute_result"
    }
   ],
   "source": [
    "dataset[\"answer\"]"
   ]
  },
  {
   "cell_type": "code",
   "execution_count": 63,
   "id": "6e060b6e",
   "metadata": {},
   "outputs": [],
   "source": [
    "def transform(example):\n",
    "    # ejemplo: poner preguntas en mayúsculas y respuestas en minúsculas\n",
    "    new_question = example[\"question\"].replace(\"Q:\", \"\").strip()\n",
    "    new_answer = example[\"answer\"].replace(\"A:\", \"\").strip()\n",
    "\n",
    "    return {\n",
    "        \"question\": new_question,\n",
    "        \"answer\": new_answer\n",
    "    }"
   ]
  },
  {
   "cell_type": "code",
   "execution_count": 64,
   "id": "f182abeb",
   "metadata": {},
   "outputs": [],
   "source": [
    "transformed_dataset = dataset.map(transform)"
   ]
  },
  {
   "cell_type": "code",
   "execution_count": 65,
   "id": "413ae487",
   "metadata": {},
   "outputs": [
    {
     "name": "stdout",
     "output_type": "stream",
     "text": [
      "I was wondering if a pain management office is acting illegally/did an illegal action.. I was discharged as a patient from a pain management office after them telling me that a previous pain management specialist I saw administered a steroid shot wrong and I told them in the portal that I spoke to lawyers for advice but no lawsuit/case was created. It was maybe 1-2 months after I was discharged that I no longer have access to my patient portal with them. Every time I try to login I enter my credentials, wait a few seconds, and then I get re-directed back to the original screen where I have various options to login. I know I can speak to the office directly and ask them about what specifically is going on, talk to other lawyers if this is a violation of my rights, etc. but I was just wondering if anyone on this site would know if this action is in fact illegal.\n",
      "In Kentucky, your situation raises questions about patient rights and medical records access. If you were discharged from a pain management office and subsequently lost access to your patient portal, it's important to understand your rights regarding medical records. Under the Health Insurance Portability and Accountability Act (HIPAA), you have the right to access your own medical records. A healthcare provider cannot deny you access to your records, even if you were discharged from their practice. The issue with the patient portal could be a technical glitch or a deliberate action, but either way, it needs to be addressed. You should contact the pain management office directly to inquire about the issue with the patient portal. They are obligated to provide you with a way to access your medical records, which may include providing paper copies or access through a different electronic means. If the office is unresponsive or refuses to provide access to your records, consider speaking to a lawyer who is knowledgeable in health care law. They can guide you on how to enforce your rights to access your medical records and address any potential legal violations by the healthcare provider. Remember, your right to access your medical records is protected by law, and any obstacles to this access should be promptly addressed.\n"
     ]
    }
   ],
   "source": [
    "print(transformed_dataset[\"question\"][0])\n",
    "print(transformed_dataset[\"answer\"][0])"
   ]
  },
  {
   "cell_type": "code",
   "execution_count": 66,
   "id": "5d472793",
   "metadata": {},
   "outputs": [
    {
     "name": "stdout",
     "output_type": "stream",
     "text": [
      "DatasetDict({\n",
      "    train: Dataset({\n",
      "        features: ['question', 'answer'],\n",
      "        num_rows: 2993\n",
      "    })\n",
      "    test: Dataset({\n",
      "        features: ['question', 'answer'],\n",
      "        num_rows: 749\n",
      "    })\n",
      "})\n"
     ]
    }
   ],
   "source": [
    "# split the dataset into train and validation\n",
    "train_test = transformed_dataset.train_test_split(test_size=0.2, seed=SEED)\n",
    "print(train_test)\n",
    "train_val = train_test[\"test\"].train_test_split(test_size=0.5, seed=SEED)\n",
    "transformed_dataset = {\n",
    "    \"train\": train_test[\"train\"],\n",
    "    \"val\": train_val[\"test\"],\n",
    "    \"test\": train_val[\"train\"]\n",
    "}"
   ]
  },
  {
   "cell_type": "code",
   "execution_count": 67,
   "id": "74c6d6b3",
   "metadata": {},
   "outputs": [
    {
     "data": {
      "text/plain": [
       "{'train': Dataset({\n",
       "     features: ['question', 'answer'],\n",
       "     num_rows: 2993\n",
       " }),\n",
       " 'val': Dataset({\n",
       "     features: ['question', 'answer'],\n",
       "     num_rows: 375\n",
       " }),\n",
       " 'test': Dataset({\n",
       "     features: ['question', 'answer'],\n",
       "     num_rows: 374\n",
       " })}"
      ]
     },
     "execution_count": 67,
     "metadata": {},
     "output_type": "execute_result"
    }
   ],
   "source": [
    "transformed_dataset"
   ]
  },
  {
   "cell_type": "markdown",
   "id": "fef6830f",
   "metadata": {},
   "source": [
    "## Embeddings"
   ]
  },
  {
   "cell_type": "code",
   "execution_count": 1,
   "id": "e462fcc8",
   "metadata": {},
   "outputs": [
    {
     "name": "stderr",
     "output_type": "stream",
     "text": [
      "/home/miguel/miniconda3/envs/RAG/lib/python3.11/site-packages/tqdm/auto.py:21: TqdmWarning: IProgress not found. Please update jupyter and ipywidgets. See https://ipywidgets.readthedocs.io/en/stable/user_install.html\n",
      "  from .autonotebook import tqdm as notebook_tqdm\n"
     ]
    }
   ],
   "source": [
    "from typing import List\n",
    "from langchain_core.embeddings import Embeddings\n",
    "from sentence_transformers import SentenceTransformer\n",
    "\n",
    "\n",
    "class SentenceTransformerEmbeddings(Embeddings):\n",
    "\n",
    "    def __init__(self, model: str, device: str = 'cuda'):\n",
    "        self.model = SentenceTransformer(model, device=device)\n",
    "\n",
    "    def embed_documents(self, texts: List[str]) -> List[List[float]]:\n",
    "        \"\"\"Embed search docs.\"\"\"\n",
    "        return self.model.encode(texts).tolist()\n",
    "\n",
    "    def embed_query(self, text: str) -> List[float]:\n",
    "        \"\"\"Embed query text.\"\"\"\n",
    "        return self.model.encode_query(text).tolist()"
   ]
  },
  {
   "cell_type": "code",
   "execution_count": 6,
   "id": "97d99403",
   "metadata": {},
   "outputs": [
    {
     "name": "stdout",
     "output_type": "stream",
     "text": [
      "Loaded vector store contains 930 vectors\n"
     ]
    }
   ],
   "source": [
    "from langchain_community.vectorstores import FAISS\n",
    "\n",
    "model = SentenceTransformerEmbeddings(model=\"all-mpnet-base-v2\")\n",
    "\n",
    "loaded_vectorstore=FAISS.load_local(\n",
    "    \"../data/db/ragbench-delucionqa/ragbench-delucionqa_embeddings_all-mpnet-base-v2\",\n",
    "    model,\n",
    "    allow_dangerous_deserialization=True\n",
    ")\n",
    "\n",
    "print(f\"Loaded vector store contains {loaded_vectorstore.index.ntotal} vectors\")"
   ]
  },
  {
   "cell_type": "code",
   "execution_count": 7,
   "id": "719abab6",
   "metadata": {},
   "outputs": [
    {
     "name": "stdout",
     "output_type": "stream",
     "text": [
      "All embeddings shape: (930, 768)\n"
     ]
    }
   ],
   "source": [
    "# get all embeddings in numpy array\n",
    "import numpy as np\n",
    "all_embeddings = np.array([emb for emb in loaded_vectorstore.index.reconstruct_n(0, loaded_vectorstore.index.ntotal)])\n",
    "print(f\"All embeddings shape: {all_embeddings.shape}\")"
   ]
  },
  {
   "cell_type": "code",
   "execution_count": 8,
   "id": "e820e759",
   "metadata": {},
   "outputs": [
    {
     "data": {
      "image/png": "[encoded data removed]",
      "text/plain": [
       "<Figure size 640x480 with 1 Axes>"
      ]
     },
     "metadata": {},
     "output_type": "display_data"
    }
   ],
   "source": [
    "# plot histogram of the embeddings cosine similarity distribution\n",
    "\n",
    "import matplotlib.pyplot as plt\n",
    "from sklearn.metrics.pairwise import cosine_similarity\n",
    "\n",
    "cosine_similarities = cosine_similarity(all_embeddings)\n",
    "# get the upper triangle of the cosine similarities matrix, without the diagonal\n",
    "upper_triangle_indices = np.triu_indices_from(cosine_similarities, k=1)\n",
    "upper_triangle_values = cosine_similarities[upper_triangle_indices]\n",
    "\n",
    "plt.hist(upper_triangle_values, bins=50)\n",
    "plt.grid()\n",
    "plt.title(\"Cosine Similarity Distribution of Embeddings\")\n",
    "plt.xlabel(\"Cosine Similarity\")\n",
    "plt.ylabel(\"Frequency\")\n",
    "plt.show()"
   ]
  },
  {
   "cell_type": "code",
   "execution_count": 5,
   "id": "54e48a89",
   "metadata": {},
   "outputs": [
    {
     "name": "stdout",
     "output_type": "stream",
     "text": [
      "Mean Cosine Similarity: 0.4139\n",
      "Standard Deviation of Cosine Similarity: 0.1128\n"
     ]
    }
   ],
   "source": [
    "# print the mean and standard deviation of the cosine similarities\n",
    "mean_cosine_similarity = np.mean(upper_triangle_values)\n",
    "std_cosine_similarity = np.std(upper_triangle_values)\n",
    "# print the results rounded to 4 decimal places\n",
    "print(f\"Mean Cosine Similarity: {mean_cosine_similarity:.4f}\")\n",
    "print(f\"Standard Deviation of Cosine Similarity: {std_cosine_similarity:.4f}\")"
   ]
  },
  {
   "cell_type": "code",
   "execution_count": 2,
   "id": "3c1f3e1b",
   "metadata": {},
   "outputs": [
    {
     "name": "stdout",
     "output_type": "stream",
     "text": [
      "DatasetDict({\n",
      "    train: Dataset({\n",
      "        features: ['id', 'question', 'documents', 'response', 'generation_model_name', 'annotating_model_name', 'dataset_name', 'documents_sentences', 'response_sentences', 'sentence_support_information', 'unsupported_response_sentence_keys', 'adherence_score', 'overall_supported_explanation', 'relevance_explanation', 'all_relevant_sentence_keys', 'all_utilized_sentence_keys', 'trulens_groundedness', 'trulens_context_relevance', 'ragas_faithfulness', 'ragas_context_relevance', 'gpt3_adherence', 'gpt3_context_relevance', 'gpt35_utilization', 'relevance_score', 'utilization_score', 'completeness_score'],\n",
      "        num_rows: 1883\n",
      "    })\n",
      "    test: Dataset({\n",
      "        features: ['id', 'question', 'documents', 'response', 'generation_model_name', 'annotating_model_name', 'dataset_name', 'documents_sentences', 'response_sentences', 'sentence_support_information', 'unsupported_response_sentence_keys', 'adherence_score', 'overall_supported_explanation', 'relevance_explanation', 'all_relevant_sentence_keys', 'all_utilized_sentence_keys', 'trulens_groundedness', 'trulens_context_relevance', 'ragas_faithfulness', 'ragas_context_relevance', 'gpt3_adherence', 'gpt3_context_relevance', 'gpt35_utilization', 'relevance_score', 'utilization_score', 'completeness_score'],\n",
      "        num_rows: 390\n",
      "    })\n",
      "    validation: Dataset({\n",
      "        features: ['id', 'question', 'documents', 'response', 'generation_model_name', 'annotating_model_name', 'dataset_name', 'documents_sentences', 'response_sentences', 'sentence_support_information', 'unsupported_response_sentence_keys', 'adherence_score', 'overall_supported_explanation', 'relevance_explanation', 'all_relevant_sentence_keys', 'all_utilized_sentence_keys', 'trulens_groundedness', 'trulens_context_relevance', 'ragas_faithfulness', 'ragas_context_relevance', 'gpt3_adherence', 'gpt3_context_relevance', 'gpt35_utilization', 'relevance_score', 'utilization_score', 'completeness_score'],\n",
      "        num_rows: 424\n",
      "    })\n",
      "})\n"
     ]
    }
   ],
   "source": [
    "from datasets import load_dataset\n",
    "\n",
    "# load train/validation/test splits of individual subset\n",
    "ragbench_hotpotqa = load_dataset(\"rungalileo/ragbench\", \"hotpotqa\")\n",
    "print(ragbench_hotpotqa)"
   ]
  },
  {
   "cell_type": "code",
   "execution_count": 27,
   "id": "e2e65861",
   "metadata": {},
   "outputs": [],
   "source": [
    "ragbench = {}\n",
    "for dataset in ['covidqa', 'cuad', 'delucionqa', 'emanual', 'expertqa', 'finqa', 'hagrid', 'hotpotqa', 'msmarco', 'pubmedqa', 'tatqa', 'techqa']:\n",
    "  ragbench[dataset] = load_dataset(\"rungalileo/ragbench\", dataset)"
   ]
  },
  {
   "cell_type": "code",
   "execution_count": 28,
   "id": "4861e3e5",
   "metadata": {},
   "outputs": [
    {
     "data": {
      "text/plain": [
       "{'covidqa': DatasetDict({\n",
       "     train: Dataset({\n",
       "         features: ['id', 'question', 'documents', 'response', 'generation_model_name', 'annotating_model_name', 'dataset_name', 'documents_sentences', 'response_sentences', 'sentence_support_information', 'unsupported_response_sentence_keys', 'adherence_score', 'overall_supported_explanation', 'relevance_explanation', 'all_relevant_sentence_keys', 'all_utilized_sentence_keys', 'trulens_groundedness', 'trulens_context_relevance', 'ragas_faithfulness', 'ragas_context_relevance', 'gpt3_adherence', 'gpt3_context_relevance', 'gpt35_utilization', 'relevance_score', 'utilization_score', 'completeness_score'],\n",
       "         num_rows: 1252\n",
       "     })\n",
       "     test: Dataset({\n",
       "         features: ['id', 'question', 'documents', 'response', 'generation_model_name', 'annotating_model_name', 'dataset_name', 'documents_sentences', 'response_sentences', 'sentence_support_information', 'unsupported_response_sentence_keys', 'adherence_score', 'overall_supported_explanation', 'relevance_explanation', 'all_relevant_sentence_keys', 'all_utilized_sentence_keys', 'trulens_groundedness', 'trulens_context_relevance', 'ragas_faithfulness', 'ragas_context_relevance', 'gpt3_adherence', 'gpt3_context_relevance', 'gpt35_utilization', 'relevance_score', 'utilization_score', 'completeness_score'],\n",
       "         num_rows: 246\n",
       "     })\n",
       "     validation: Dataset({\n",
       "         features: ['id', 'question', 'documents', 'response', 'generation_model_name', 'annotating_model_name', 'dataset_name', 'documents_sentences', 'response_sentences', 'sentence_support_information', 'unsupported_response_sentence_keys', 'adherence_score', 'overall_supported_explanation', 'relevance_explanation', 'all_relevant_sentence_keys', 'all_utilized_sentence_keys', 'trulens_groundedness', 'trulens_context_relevance', 'ragas_faithfulness', 'ragas_context_relevance', 'gpt3_adherence', 'gpt3_context_relevance', 'gpt35_utilization', 'relevance_score', 'utilization_score', 'completeness_score'],\n",
       "         num_rows: 267\n",
       "     })\n",
       " }),\n",
       " 'cuad': DatasetDict({\n",
       "     train: Dataset({\n",
       "         features: ['id', 'question', 'documents', 'response', 'generation_model_name', 'annotating_model_name', 'dataset_name', 'documents_sentences', 'response_sentences', 'sentence_support_information', 'unsupported_response_sentence_keys', 'adherence_score', 'overall_supported_explanation', 'relevance_explanation', 'all_relevant_sentence_keys', 'all_utilized_sentence_keys', 'trulens_groundedness', 'trulens_context_relevance', 'ragas_faithfulness', 'ragas_context_relevance', 'gpt3_adherence', 'gpt3_context_relevance', 'gpt35_utilization', 'relevance_score', 'utilization_score', 'completeness_score'],\n",
       "         num_rows: 1530\n",
       "     })\n",
       "     validation: Dataset({\n",
       "         features: ['id', 'question', 'documents', 'response', 'generation_model_name', 'annotating_model_name', 'dataset_name', 'documents_sentences', 'response_sentences', 'sentence_support_information', 'unsupported_response_sentence_keys', 'adherence_score', 'overall_supported_explanation', 'relevance_explanation', 'all_relevant_sentence_keys', 'all_utilized_sentence_keys', 'trulens_groundedness', 'trulens_context_relevance', 'ragas_faithfulness', 'ragas_context_relevance', 'gpt3_adherence', 'gpt3_context_relevance', 'gpt35_utilization', 'relevance_score', 'utilization_score', 'completeness_score'],\n",
       "         num_rows: 510\n",
       "     })\n",
       "     test: Dataset({\n",
       "         features: ['id', 'question', 'documents', 'response', 'generation_model_name', 'annotating_model_name', 'dataset_name', 'documents_sentences', 'response_sentences', 'sentence_support_information', 'unsupported_response_sentence_keys', 'adherence_score', 'overall_supported_explanation', 'relevance_explanation', 'all_relevant_sentence_keys', 'all_utilized_sentence_keys', 'trulens_groundedness', 'trulens_context_relevance', 'ragas_faithfulness', 'ragas_context_relevance', 'gpt3_adherence', 'gpt3_context_relevance', 'gpt35_utilization', 'relevance_score', 'utilization_score', 'completeness_score'],\n",
       "         num_rows: 510\n",
       "     })\n",
       " }),\n",
       " 'delucionqa': DatasetDict({\n",
       "     train: Dataset({\n",
       "         features: ['id', 'question', 'documents', 'response', 'generation_model_name', 'annotating_model_name', 'dataset_name', 'documents_sentences', 'response_sentences', 'sentence_support_information', 'unsupported_response_sentence_keys', 'adherence_score', 'overall_supported_explanation', 'relevance_explanation', 'all_relevant_sentence_keys', 'all_utilized_sentence_keys', 'trulens_groundedness', 'trulens_context_relevance', 'ragas_faithfulness', 'ragas_context_relevance', 'gpt3_adherence', 'gpt3_context_relevance', 'gpt35_utilization', 'relevance_score', 'utilization_score', 'completeness_score'],\n",
       "         num_rows: 1460\n",
       "     })\n",
       "     validation: Dataset({\n",
       "         features: ['id', 'question', 'documents', 'response', 'generation_model_name', 'annotating_model_name', 'dataset_name', 'documents_sentences', 'response_sentences', 'sentence_support_information', 'unsupported_response_sentence_keys', 'adherence_score', 'overall_supported_explanation', 'relevance_explanation', 'all_relevant_sentence_keys', 'all_utilized_sentence_keys', 'trulens_groundedness', 'trulens_context_relevance', 'ragas_faithfulness', 'ragas_context_relevance', 'gpt3_adherence', 'gpt3_context_relevance', 'gpt35_utilization', 'relevance_score', 'utilization_score', 'completeness_score'],\n",
       "         num_rows: 182\n",
       "     })\n",
       "     test: Dataset({\n",
       "         features: ['id', 'question', 'documents', 'response', 'generation_model_name', 'annotating_model_name', 'dataset_name', 'documents_sentences', 'response_sentences', 'sentence_support_information', 'unsupported_response_sentence_keys', 'adherence_score', 'overall_supported_explanation', 'relevance_explanation', 'all_relevant_sentence_keys', 'all_utilized_sentence_keys', 'trulens_groundedness', 'trulens_context_relevance', 'ragas_faithfulness', 'ragas_context_relevance', 'gpt3_adherence', 'gpt3_context_relevance', 'gpt35_utilization', 'relevance_score', 'utilization_score', 'completeness_score'],\n",
       "         num_rows: 184\n",
       "     })\n",
       " }),\n",
       " 'emanual': DatasetDict({\n",
       "     train: Dataset({\n",
       "         features: ['id', 'question', 'documents', 'response', 'generation_model_name', 'annotating_model_name', 'dataset_name', 'documents_sentences', 'response_sentences', 'sentence_support_information', 'unsupported_response_sentence_keys', 'adherence_score', 'overall_supported_explanation', 'relevance_explanation', 'all_relevant_sentence_keys', 'all_utilized_sentence_keys', 'trulens_groundedness', 'trulens_context_relevance', 'ragas_faithfulness', 'ragas_context_relevance', 'gpt3_adherence', 'gpt3_context_relevance', 'gpt35_utilization', 'relevance_score', 'utilization_score', 'completeness_score'],\n",
       "         num_rows: 1054\n",
       "     })\n",
       "     validation: Dataset({\n",
       "         features: ['id', 'question', 'documents', 'response', 'generation_model_name', 'annotating_model_name', 'dataset_name', 'documents_sentences', 'response_sentences', 'sentence_support_information', 'unsupported_response_sentence_keys', 'adherence_score', 'overall_supported_explanation', 'relevance_explanation', 'all_relevant_sentence_keys', 'all_utilized_sentence_keys', 'trulens_groundedness', 'trulens_context_relevance', 'ragas_faithfulness', 'ragas_context_relevance', 'gpt3_adherence', 'gpt3_context_relevance', 'gpt35_utilization', 'relevance_score', 'utilization_score', 'completeness_score'],\n",
       "         num_rows: 132\n",
       "     })\n",
       "     test: Dataset({\n",
       "         features: ['id', 'question', 'documents', 'response', 'generation_model_name', 'annotating_model_name', 'dataset_name', 'documents_sentences', 'response_sentences', 'sentence_support_information', 'unsupported_response_sentence_keys', 'adherence_score', 'overall_supported_explanation', 'relevance_explanation', 'all_relevant_sentence_keys', 'all_utilized_sentence_keys', 'trulens_groundedness', 'trulens_context_relevance', 'ragas_faithfulness', 'ragas_context_relevance', 'gpt3_adherence', 'gpt3_context_relevance', 'gpt35_utilization', 'relevance_score', 'utilization_score', 'completeness_score'],\n",
       "         num_rows: 132\n",
       "     })\n",
       " }),\n",
       " 'expertqa': DatasetDict({\n",
       "     train: Dataset({\n",
       "         features: ['id', 'question', 'documents', 'response', 'generation_model_name', 'annotating_model_name', 'dataset_name', 'documents_sentences', 'response_sentences', 'sentence_support_information', 'unsupported_response_sentence_keys', 'adherence_score', 'overall_supported_explanation', 'relevance_explanation', 'all_relevant_sentence_keys', 'all_utilized_sentence_keys', 'trulens_groundedness', 'trulens_context_relevance', 'ragas_faithfulness', 'ragas_context_relevance', 'gpt3_adherence', 'gpt3_context_relevance', 'gpt35_utilization', 'relevance_score', 'utilization_score', 'completeness_score'],\n",
       "         num_rows: 1621\n",
       "     })\n",
       "     validation: Dataset({\n",
       "         features: ['id', 'question', 'documents', 'response', 'generation_model_name', 'annotating_model_name', 'dataset_name', 'documents_sentences', 'response_sentences', 'sentence_support_information', 'unsupported_response_sentence_keys', 'adherence_score', 'overall_supported_explanation', 'relevance_explanation', 'all_relevant_sentence_keys', 'all_utilized_sentence_keys', 'trulens_groundedness', 'trulens_context_relevance', 'ragas_faithfulness', 'ragas_context_relevance', 'gpt3_adherence', 'gpt3_context_relevance', 'gpt35_utilization', 'relevance_score', 'utilization_score', 'completeness_score'],\n",
       "         num_rows: 203\n",
       "     })\n",
       "     test: Dataset({\n",
       "         features: ['id', 'question', 'documents', 'response', 'generation_model_name', 'annotating_model_name', 'dataset_name', 'documents_sentences', 'response_sentences', 'sentence_support_information', 'unsupported_response_sentence_keys', 'adherence_score', 'overall_supported_explanation', 'relevance_explanation', 'all_relevant_sentence_keys', 'all_utilized_sentence_keys', 'trulens_groundedness', 'trulens_context_relevance', 'ragas_faithfulness', 'ragas_context_relevance', 'gpt3_adherence', 'gpt3_context_relevance', 'gpt35_utilization', 'relevance_score', 'utilization_score', 'completeness_score'],\n",
       "         num_rows: 203\n",
       "     })\n",
       " }),\n",
       " 'finqa': DatasetDict({\n",
       "     train: Dataset({\n",
       "         features: ['id', 'question', 'documents', 'response', 'generation_model_name', 'annotating_model_name', 'dataset_name', 'documents_sentences', 'response_sentences', 'sentence_support_information', 'unsupported_response_sentence_keys', 'adherence_score', 'overall_supported_explanation', 'relevance_explanation', 'all_relevant_sentence_keys', 'all_utilized_sentence_keys', 'trulens_groundedness', 'trulens_context_relevance', 'ragas_faithfulness', 'ragas_context_relevance', 'gpt3_adherence', 'gpt3_context_relevance', 'gpt35_utilization', 'relevance_score', 'utilization_score', 'completeness_score'],\n",
       "         num_rows: 12502\n",
       "     })\n",
       "     validation: Dataset({\n",
       "         features: ['id', 'question', 'documents', 'response', 'generation_model_name', 'annotating_model_name', 'dataset_name', 'documents_sentences', 'response_sentences', 'sentence_support_information', 'unsupported_response_sentence_keys', 'adherence_score', 'overall_supported_explanation', 'relevance_explanation', 'all_relevant_sentence_keys', 'all_utilized_sentence_keys', 'trulens_groundedness', 'trulens_context_relevance', 'ragas_faithfulness', 'ragas_context_relevance', 'gpt3_adherence', 'gpt3_context_relevance', 'gpt35_utilization', 'relevance_score', 'utilization_score', 'completeness_score'],\n",
       "         num_rows: 1766\n",
       "     })\n",
       "     test: Dataset({\n",
       "         features: ['id', 'question', 'documents', 'response', 'generation_model_name', 'annotating_model_name', 'dataset_name', 'documents_sentences', 'response_sentences', 'sentence_support_information', 'unsupported_response_sentence_keys', 'adherence_score', 'overall_supported_explanation', 'relevance_explanation', 'all_relevant_sentence_keys', 'all_utilized_sentence_keys', 'trulens_groundedness', 'trulens_context_relevance', 'ragas_faithfulness', 'ragas_context_relevance', 'gpt3_adherence', 'gpt3_context_relevance', 'gpt35_utilization', 'relevance_score', 'utilization_score', 'completeness_score'],\n",
       "         num_rows: 2294\n",
       "     })\n",
       " }),\n",
       " 'hagrid': DatasetDict({\n",
       "     train: Dataset({\n",
       "         features: ['id', 'question', 'documents', 'response', 'generation_model_name', 'annotating_model_name', 'dataset_name', 'documents_sentences', 'response_sentences', 'sentence_support_information', 'unsupported_response_sentence_keys', 'adherence_score', 'overall_supported_explanation', 'relevance_explanation', 'all_relevant_sentence_keys', 'all_utilized_sentence_keys', 'trulens_groundedness', 'trulens_context_relevance', 'ragas_faithfulness', 'ragas_context_relevance', 'gpt3_adherence', 'gpt3_context_relevance', 'gpt35_utilization', 'relevance_score', 'utilization_score', 'completeness_score'],\n",
       "         num_rows: 2892\n",
       "     })\n",
       "     validation: Dataset({\n",
       "         features: ['id', 'question', 'documents', 'response', 'generation_model_name', 'annotating_model_name', 'dataset_name', 'documents_sentences', 'response_sentences', 'sentence_support_information', 'unsupported_response_sentence_keys', 'adherence_score', 'overall_supported_explanation', 'relevance_explanation', 'all_relevant_sentence_keys', 'all_utilized_sentence_keys', 'trulens_groundedness', 'trulens_context_relevance', 'ragas_faithfulness', 'ragas_context_relevance', 'gpt3_adherence', 'gpt3_context_relevance', 'gpt35_utilization', 'relevance_score', 'utilization_score', 'completeness_score'],\n",
       "         num_rows: 322\n",
       "     })\n",
       "     test: Dataset({\n",
       "         features: ['id', 'question', 'documents', 'response', 'generation_model_name', 'annotating_model_name', 'dataset_name', 'documents_sentences', 'response_sentences', 'sentence_support_information', 'unsupported_response_sentence_keys', 'adherence_score', 'overall_supported_explanation', 'relevance_explanation', 'all_relevant_sentence_keys', 'all_utilized_sentence_keys', 'trulens_groundedness', 'trulens_context_relevance', 'ragas_faithfulness', 'ragas_context_relevance', 'gpt3_adherence', 'gpt3_context_relevance', 'gpt35_utilization', 'relevance_score', 'utilization_score', 'completeness_score'],\n",
       "         num_rows: 1318\n",
       "     })\n",
       " }),\n",
       " 'hotpotqa': DatasetDict({\n",
       "     train: Dataset({\n",
       "         features: ['id', 'question', 'documents', 'response', 'generation_model_name', 'annotating_model_name', 'dataset_name', 'documents_sentences', 'response_sentences', 'sentence_support_information', 'unsupported_response_sentence_keys', 'adherence_score', 'overall_supported_explanation', 'relevance_explanation', 'all_relevant_sentence_keys', 'all_utilized_sentence_keys', 'trulens_groundedness', 'trulens_context_relevance', 'ragas_faithfulness', 'ragas_context_relevance', 'gpt3_adherence', 'gpt3_context_relevance', 'gpt35_utilization', 'relevance_score', 'utilization_score', 'completeness_score'],\n",
       "         num_rows: 1883\n",
       "     })\n",
       "     test: Dataset({\n",
       "         features: ['id', 'question', 'documents', 'response', 'generation_model_name', 'annotating_model_name', 'dataset_name', 'documents_sentences', 'response_sentences', 'sentence_support_information', 'unsupported_response_sentence_keys', 'adherence_score', 'overall_supported_explanation', 'relevance_explanation', 'all_relevant_sentence_keys', 'all_utilized_sentence_keys', 'trulens_groundedness', 'trulens_context_relevance', 'ragas_faithfulness', 'ragas_context_relevance', 'gpt3_adherence', 'gpt3_context_relevance', 'gpt35_utilization', 'relevance_score', 'utilization_score', 'completeness_score'],\n",
       "         num_rows: 390\n",
       "     })\n",
       "     validation: Dataset({\n",
       "         features: ['id', 'question', 'documents', 'response', 'generation_model_name', 'annotating_model_name', 'dataset_name', 'documents_sentences', 'response_sentences', 'sentence_support_information', 'unsupported_response_sentence_keys', 'adherence_score', 'overall_supported_explanation', 'relevance_explanation', 'all_relevant_sentence_keys', 'all_utilized_sentence_keys', 'trulens_groundedness', 'trulens_context_relevance', 'ragas_faithfulness', 'ragas_context_relevance', 'gpt3_adherence', 'gpt3_context_relevance', 'gpt35_utilization', 'relevance_score', 'utilization_score', 'completeness_score'],\n",
       "         num_rows: 424\n",
       "     })\n",
       " }),\n",
       " 'msmarco': DatasetDict({\n",
       "     train: Dataset({\n",
       "         features: ['id', 'question', 'documents', 'response', 'generation_model_name', 'annotating_model_name', 'dataset_name', 'documents_sentences', 'response_sentences', 'sentence_support_information', 'unsupported_response_sentence_keys', 'adherence_score', 'overall_supported_explanation', 'relevance_explanation', 'all_relevant_sentence_keys', 'all_utilized_sentence_keys', 'trulens_groundedness', 'trulens_context_relevance', 'ragas_faithfulness', 'ragas_context_relevance', 'gpt3_adherence', 'gpt3_context_relevance', 'gpt35_utilization', 'relevance_score', 'utilization_score', 'completeness_score'],\n",
       "         num_rows: 1870\n",
       "     })\n",
       "     test: Dataset({\n",
       "         features: ['id', 'question', 'documents', 'response', 'generation_model_name', 'annotating_model_name', 'dataset_name', 'documents_sentences', 'response_sentences', 'sentence_support_information', 'unsupported_response_sentence_keys', 'adherence_score', 'overall_supported_explanation', 'relevance_explanation', 'all_relevant_sentence_keys', 'all_utilized_sentence_keys', 'trulens_groundedness', 'trulens_context_relevance', 'ragas_faithfulness', 'ragas_context_relevance', 'gpt3_adherence', 'gpt3_context_relevance', 'gpt35_utilization', 'relevance_score', 'utilization_score', 'completeness_score'],\n",
       "         num_rows: 423\n",
       "     })\n",
       "     validation: Dataset({\n",
       "         features: ['id', 'question', 'documents', 'response', 'generation_model_name', 'annotating_model_name', 'dataset_name', 'documents_sentences', 'response_sentences', 'sentence_support_information', 'unsupported_response_sentence_keys', 'adherence_score', 'overall_supported_explanation', 'relevance_explanation', 'all_relevant_sentence_keys', 'all_utilized_sentence_keys', 'trulens_groundedness', 'trulens_context_relevance', 'ragas_faithfulness', 'ragas_context_relevance', 'gpt3_adherence', 'gpt3_context_relevance', 'gpt35_utilization', 'relevance_score', 'utilization_score', 'completeness_score'],\n",
       "         num_rows: 397\n",
       "     })\n",
       " }),\n",
       " 'pubmedqa': DatasetDict({\n",
       "     train: Dataset({\n",
       "         features: ['id', 'question', 'documents', 'response', 'generation_model_name', 'annotating_model_name', 'dataset_name', 'documents_sentences', 'response_sentences', 'sentence_support_information', 'unsupported_response_sentence_keys', 'adherence_score', 'overall_supported_explanation', 'relevance_explanation', 'all_relevant_sentence_keys', 'all_utilized_sentence_keys', 'trulens_groundedness', 'trulens_context_relevance', 'ragas_faithfulness', 'ragas_context_relevance', 'gpt3_adherence', 'gpt3_context_relevance', 'gpt35_utilization', 'relevance_score', 'utilization_score', 'completeness_score'],\n",
       "         num_rows: 19600\n",
       "     })\n",
       "     validation: Dataset({\n",
       "         features: ['id', 'question', 'documents', 'response', 'generation_model_name', 'annotating_model_name', 'dataset_name', 'documents_sentences', 'response_sentences', 'sentence_support_information', 'unsupported_response_sentence_keys', 'adherence_score', 'overall_supported_explanation', 'relevance_explanation', 'all_relevant_sentence_keys', 'all_utilized_sentence_keys', 'trulens_groundedness', 'trulens_context_relevance', 'ragas_faithfulness', 'ragas_context_relevance', 'gpt3_adherence', 'gpt3_context_relevance', 'gpt35_utilization', 'relevance_score', 'utilization_score', 'completeness_score'],\n",
       "         num_rows: 2450\n",
       "     })\n",
       "     test: Dataset({\n",
       "         features: ['id', 'question', 'documents', 'response', 'generation_model_name', 'annotating_model_name', 'dataset_name', 'documents_sentences', 'response_sentences', 'sentence_support_information', 'unsupported_response_sentence_keys', 'adherence_score', 'overall_supported_explanation', 'relevance_explanation', 'all_relevant_sentence_keys', 'all_utilized_sentence_keys', 'trulens_groundedness', 'trulens_context_relevance', 'ragas_faithfulness', 'ragas_context_relevance', 'gpt3_adherence', 'gpt3_context_relevance', 'gpt35_utilization', 'relevance_score', 'utilization_score', 'completeness_score'],\n",
       "         num_rows: 2450\n",
       "     })\n",
       " }),\n",
       " 'tatqa': DatasetDict({\n",
       "     train: Dataset({\n",
       "         features: ['id', 'question', 'documents', 'response', 'generation_model_name', 'annotating_model_name', 'dataset_name', 'documents_sentences', 'response_sentences', 'sentence_support_information', 'unsupported_response_sentence_keys', 'adherence_score', 'overall_supported_explanation', 'relevance_explanation', 'all_relevant_sentence_keys', 'all_utilized_sentence_keys', 'trulens_groundedness', 'trulens_context_relevance', 'ragas_faithfulness', 'ragas_context_relevance', 'gpt3_adherence', 'gpt3_context_relevance', 'gpt35_utilization', 'relevance_score', 'utilization_score', 'completeness_score'],\n",
       "         num_rows: 26430\n",
       "     })\n",
       "     validation: Dataset({\n",
       "         features: ['id', 'question', 'documents', 'response', 'generation_model_name', 'annotating_model_name', 'dataset_name', 'documents_sentences', 'response_sentences', 'sentence_support_information', 'unsupported_response_sentence_keys', 'adherence_score', 'overall_supported_explanation', 'relevance_explanation', 'all_relevant_sentence_keys', 'all_utilized_sentence_keys', 'trulens_groundedness', 'trulens_context_relevance', 'ragas_faithfulness', 'ragas_context_relevance', 'gpt3_adherence', 'gpt3_context_relevance', 'gpt35_utilization', 'relevance_score', 'utilization_score', 'completeness_score'],\n",
       "         num_rows: 3336\n",
       "     })\n",
       "     test: Dataset({\n",
       "         features: ['id', 'question', 'documents', 'response', 'generation_model_name', 'annotating_model_name', 'dataset_name', 'documents_sentences', 'response_sentences', 'sentence_support_information', 'unsupported_response_sentence_keys', 'adherence_score', 'overall_supported_explanation', 'relevance_explanation', 'all_relevant_sentence_keys', 'all_utilized_sentence_keys', 'trulens_groundedness', 'trulens_context_relevance', 'ragas_faithfulness', 'ragas_context_relevance', 'gpt3_adherence', 'gpt3_context_relevance', 'gpt35_utilization', 'relevance_score', 'utilization_score', 'completeness_score'],\n",
       "         num_rows: 3338\n",
       "     })\n",
       " }),\n",
       " 'techqa': DatasetDict({\n",
       "     train: Dataset({\n",
       "         features: ['id', 'question', 'documents', 'response', 'generation_model_name', 'annotating_model_name', 'dataset_name', 'documents_sentences', 'response_sentences', 'sentence_support_information', 'unsupported_response_sentence_keys', 'adherence_score', 'overall_supported_explanation', 'relevance_explanation', 'all_relevant_sentence_keys', 'all_utilized_sentence_keys', 'trulens_groundedness', 'trulens_context_relevance', 'ragas_faithfulness', 'ragas_context_relevance', 'gpt3_adherence', 'gpt3_context_relevance', 'gpt35_utilization', 'relevance_score', 'utilization_score', 'completeness_score'],\n",
       "         num_rows: 1192\n",
       "     })\n",
       "     validation: Dataset({\n",
       "         features: ['id', 'question', 'documents', 'response', 'generation_model_name', 'annotating_model_name', 'dataset_name', 'documents_sentences', 'response_sentences', 'sentence_support_information', 'unsupported_response_sentence_keys', 'adherence_score', 'overall_supported_explanation', 'relevance_explanation', 'all_relevant_sentence_keys', 'all_utilized_sentence_keys', 'trulens_groundedness', 'trulens_context_relevance', 'ragas_faithfulness', 'ragas_context_relevance', 'gpt3_adherence', 'gpt3_context_relevance', 'gpt35_utilization', 'relevance_score', 'utilization_score', 'completeness_score'],\n",
       "         num_rows: 304\n",
       "     })\n",
       "     test: Dataset({\n",
       "         features: ['id', 'question', 'documents', 'response', 'generation_model_name', 'annotating_model_name', 'dataset_name', 'documents_sentences', 'response_sentences', 'sentence_support_information', 'unsupported_response_sentence_keys', 'adherence_score', 'overall_supported_explanation', 'relevance_explanation', 'all_relevant_sentence_keys', 'all_utilized_sentence_keys', 'trulens_groundedness', 'trulens_context_relevance', 'ragas_faithfulness', 'ragas_context_relevance', 'gpt3_adherence', 'gpt3_context_relevance', 'gpt35_utilization', 'relevance_score', 'utilization_score', 'completeness_score'],\n",
       "         num_rows: 314\n",
       "     })\n",
       " })}"
      ]
     },
     "execution_count": 28,
     "metadata": {},
     "output_type": "execute_result"
    }
   ],
   "source": [
    "ragbench"
   ]
  },
  {
   "cell_type": "code",
   "execution_count": 29,
   "id": "9723d038",
   "metadata": {},
   "outputs": [
    {
     "data": {
      "text/plain": [
       "{'id': '358',\n",
       " 'question': 'What role does T-cell count play in severe human adenovirus type 55 (HAdV-55) infection?',\n",
       " 'documents': ['Title: Emergent severe acute respiratory distress syndrome caused by adenovirus type 55 in immunocompetent adults in 2013: a prospective observational study\\nPassage: Recent studies have shown that the immune system plays a crucial role in the clearance of HAdV viremia and survival of the host . Chen et al. reported that, in the acute phase of HAdV-55 infection, patients with severe disease may have high levels of dendritic cells and Th17 cells . In our study, the only patient who recovered from severe infection had higher T-cell counts. Three of the five patients had relatively low T-cell counts when admitted. Our results suggest that these three patients may have been relatively immunocompromised and that a lower T-cell count may be a risk',\n",
       "  'Title: Emergent severe acute respiratory distress syndrome caused by adenovirus type 55 in immunocompetent adults in 2013: a prospective observational study\\nPassage: Recent studies have shown that the immune system plays a crucial role in the clearance of HAdV viremia and survival of the host . Chen et al. reported that, in the acute phase of HAdV-55 infection, patients with severe disease may have high levels of dendritic cells and Th17 cells . In our study, the only patient who recovered from severe infection had higher T-cell counts. Three of the five patients had relatively low T-cell counts when admitted. Our results suggest that these three patients may have been relatively immunocompromised and that a lower T-cell count may be a risk',\n",
       "  'Title: Human adenovirus type 7 infection causes a more severe disease than type 3\\nPassage: Laboratory findings for the HAdV-7-positive inpatients were also significantly different from those infected by HAdV-3 . Specifically, the HAdV-7-positive inpatients had lower white blood cell count , platelet count . In contrast, hemoglobin and C-reactive protein levels, and the percentages of lymphocytes, neutrophils and positive sputum culture were found to be statistically similar.',\n",
       "  'Title: Human adenovirus type 7 infection causes a more severe disease than type 3\\nPassage: Imaging and laboratory data on admission and during hospitalization were collected. White blood cell count > 15,000/ μL was defined as leukocytosis, whereas that < 4000/μL was defined as leukopenia.'],\n",
       " 'response': 'The T-cell count plays a crucial role in severe human adenovirus type 55 (HAdV-55) infection, as patients with severe disease may have low T-cell counts. In the study mentioned, the only patient who recovered from severe infection had higher T-cell counts, suggesting that a lower T-cell count may be a risk factor for severe HAdV-55 infection.',\n",
       " 'generation_model_name': 'gpt-3.5-turbo-1106',\n",
       " 'annotating_model_name': 'gpt-4o',\n",
       " 'dataset_name': 'covidqa_train',\n",
       " 'documents_sentences': [[['0a',\n",
       "    'Title: Emergent severe acute respiratory distress syndrome caused by adenovirus type 55 in immunocompetent adults in 2013: a prospective observational study'],\n",
       "   ['0b',\n",
       "    'Passage: Recent studies have shown that the immune system plays a crucial role in the clearance of HAdV viremia and survival of the host .'],\n",
       "   ['0c',\n",
       "    'Chen et al. reported that, in the acute phase of HAdV-55 infection, patients with severe disease may have high levels of dendritic cells and Th17 cells .'],\n",
       "   ['0d',\n",
       "    'In our study, the only patient who recovered from severe infection had higher T-cell counts.'],\n",
       "   ['0e',\n",
       "    'Three of the five patients had relatively low T-cell counts when admitted.'],\n",
       "   ['0f',\n",
       "    'Our results suggest that these three patients may have been relatively immunocompromised and that a lower T-cell count may be a risk']],\n",
       "  [['1a',\n",
       "    'Title: Emergent severe acute respiratory distress syndrome caused by adenovirus type 55 in immunocompetent adults in 2013: a prospective observational study'],\n",
       "   ['1b',\n",
       "    'Passage: Recent studies have shown that the immune system plays a crucial role in the clearance of HAdV viremia and survival of the host .'],\n",
       "   ['1c',\n",
       "    'Chen et al. reported that, in the acute phase of HAdV-55 infection, patients with severe disease may have high levels of dendritic cells and Th17 cells .'],\n",
       "   ['1d',\n",
       "    'In our study, the only patient who recovered from severe infection had higher T-cell counts.'],\n",
       "   ['1e',\n",
       "    'Three of the five patients had relatively low T-cell counts when admitted.'],\n",
       "   ['1f',\n",
       "    'Our results suggest that these three patients may have been relatively immunocompromised and that a lower T-cell count may be a risk']],\n",
       "  [['2a',\n",
       "    'Title: Human adenovirus type 7 infection causes a more severe disease than type 3'],\n",
       "   ['2b',\n",
       "    'Passage: Laboratory findings for the HAdV-7-positive inpatients were also significantly different from those infected by HAdV-3 .'],\n",
       "   ['2c',\n",
       "    'Specifically, the HAdV-7-positive inpatients had lower white blood cell count , platelet count .'],\n",
       "   ['2d',\n",
       "    'In contrast, hemoglobin and C-reactive protein levels, and the percentages of lymphocytes, neutrophils and positive sputum culture were found to be statistically similar.']],\n",
       "  [['3a',\n",
       "    'Title: Human adenovirus type 7 infection causes a more severe disease than type 3'],\n",
       "   ['3b',\n",
       "    'Passage: Imaging and laboratory data on admission and during hospitalization were collected.'],\n",
       "   ['3c',\n",
       "    'White blood cell count > 15,000/ μL was defined as leukocytosis, whereas that < 4000/μL was defined as leukopenia.']]],\n",
       " 'response_sentences': [['a',\n",
       "   'The T-cell count plays a crucial role in severe human adenovirus type 55 (HAdV-55) infection, as patients with severe disease may have low T-cell counts.'],\n",
       "  ['b',\n",
       "   'In the study mentioned, the only patient who recovered from severe infection had higher T-cell counts, suggesting that a lower T-cell count may be a risk factor for severe HAdV-55 infection.']],\n",
       " 'sentence_support_information': [{'explanation': 'This sentence is supported by the documents. Both documents discuss the association between T-cell counts and severe HAdV-55 infection, suggesting that patients with severe infections may have low T-cell counts.',\n",
       "   'fully_supported': True,\n",
       "   'response_sentence_key': 'a',\n",
       "   'supporting_sentence_keys': ['0e', '0f', '1e', '1f']},\n",
       "  {'explanation': 'This sentence is supported by the documents. The only patient who recovered from severe infection had higher T-cell counts. This fact supports the idea that a lower T-cell count may be a risk factor for severe HAdV-55 infection.',\n",
       "   'fully_supported': True,\n",
       "   'response_sentence_key': 'b',\n",
       "   'supporting_sentence_keys': ['0d', '1d']}],\n",
       " 'unsupported_response_sentence_keys': [],\n",
       " 'adherence_score': True,\n",
       " 'overall_supported_explanation': 'The response is generally supported by the provided documents. Sentence (a) correctly states that T-cell count plays a crucial role in severe HAdV-55 infection and that patients with severe disease may have low T-cell counts, which is supported by document sentences highlighting the association between low T-cell counts and severe disease. Sentence (b) also follows logically from the provided data, noting the recovery of a patient with higher T-cell counts, thereby suggesting that lower T-cell counts may be a risk factor.',\n",
       " 'relevance_explanation': \"Documents 0 and 1 contain useful information for answering the question, as they discuss the role of T-cell count in severe HAdV-55 infection, including observations about patients' T-cell counts and their association with disease severity. Document 2 and Document 3 discuss different aspects of adenovirus infections and do not provide relevant information about T-cell counts in severe HAdV-55 infection.\",\n",
       " 'all_relevant_sentence_keys': ['0d', '0e', '0f', '1d', '1e', '1f'],\n",
       " 'all_utilized_sentence_keys': ['0d', '0e', '0f', '1d', '1e', '1f'],\n",
       " 'trulens_groundedness': None,\n",
       " 'trulens_context_relevance': None,\n",
       " 'ragas_faithfulness': None,\n",
       " 'ragas_context_relevance': None,\n",
       " 'gpt3_adherence': 1.0,\n",
       " 'gpt3_context_relevance': 0.47368421052631576,\n",
       " 'gpt35_utilization': 0.3684210526315789,\n",
       " 'relevance_score': 0.3157894736842105,\n",
       " 'utilization_score': 0.3157894736842105,\n",
       " 'completeness_score': 1.0}"
      ]
     },
     "execution_count": 29,
     "metadata": {},
     "output_type": "execute_result"
    }
   ],
   "source": [
    "ragbench[\"covidqa\"][\"train\"][0]"
   ]
  },
  {
   "cell_type": "code",
   "execution_count": 30,
   "id": "6f6e8c05",
   "metadata": {},
   "outputs": [],
   "source": [
    "## quiero solo estas columnas\n",
    "columns_to_keep = [\"id\", \"question\", \"documents\", \"response\"]\n",
    "for subset in ragbench:\n",
    "    ragbench[subset] = ragbench[subset].remove_columns([col for col in ragbench[subset]['train'].column_names if col not in columns_to_keep])"
   ]
  },
  {
   "cell_type": "code",
   "execution_count": 31,
   "id": "cc09d298",
   "metadata": {},
   "outputs": [],
   "source": [
    "document = []\n",
    "for split in ragbench[\"covidqa\"]:\n",
    "    for docs in ragbench[\"covidqa\"][split][\"documents\"]:\n",
    "        for doc in docs:\n",
    "            document.append(doc)"
   ]
  },
  {
   "cell_type": "code",
   "execution_count": 32,
   "id": "c931bce6",
   "metadata": {},
   "outputs": [
    {
     "data": {
      "text/plain": [
       "7060"
      ]
     },
     "execution_count": 32,
     "metadata": {},
     "output_type": "execute_result"
    }
   ],
   "source": [
    "len(document)"
   ]
  },
  {
   "cell_type": "code",
   "execution_count": 34,
   "id": "4a23e1b9",
   "metadata": {},
   "outputs": [],
   "source": [
    "# check unique documents in alphabetical order\n",
    "len(set(document))\n",
    "unique_documents = list(set(document))\n",
    "unique_documents.sort()"
   ]
  },
  {
   "cell_type": "code",
   "execution_count": 35,
   "id": "734422a5",
   "metadata": {},
   "outputs": [
    {
     "data": {
      "text/plain": [
       "{'id': '358',\n",
       " 'question': 'What role does T-cell count play in severe human adenovirus type 55 (HAdV-55) infection?',\n",
       " 'documents': ['Title: Emergent severe acute respiratory distress syndrome caused by adenovirus type 55 in immunocompetent adults in 2013: a prospective observational study\\nPassage: Recent studies have shown that the immune system plays a crucial role in the clearance of HAdV viremia and survival of the host . Chen et al. reported that, in the acute phase of HAdV-55 infection, patients with severe disease may have high levels of dendritic cells and Th17 cells . In our study, the only patient who recovered from severe infection had higher T-cell counts. Three of the five patients had relatively low T-cell counts when admitted. Our results suggest that these three patients may have been relatively immunocompromised and that a lower T-cell count may be a risk',\n",
       "  'Title: Emergent severe acute respiratory distress syndrome caused by adenovirus type 55 in immunocompetent adults in 2013: a prospective observational study\\nPassage: Recent studies have shown that the immune system plays a crucial role in the clearance of HAdV viremia and survival of the host . Chen et al. reported that, in the acute phase of HAdV-55 infection, patients with severe disease may have high levels of dendritic cells and Th17 cells . In our study, the only patient who recovered from severe infection had higher T-cell counts. Three of the five patients had relatively low T-cell counts when admitted. Our results suggest that these three patients may have been relatively immunocompromised and that a lower T-cell count may be a risk',\n",
       "  'Title: Human adenovirus type 7 infection causes a more severe disease than type 3\\nPassage: Laboratory findings for the HAdV-7-positive inpatients were also significantly different from those infected by HAdV-3 . Specifically, the HAdV-7-positive inpatients had lower white blood cell count , platelet count . In contrast, hemoglobin and C-reactive protein levels, and the percentages of lymphocytes, neutrophils and positive sputum culture were found to be statistically similar.',\n",
       "  'Title: Human adenovirus type 7 infection causes a more severe disease than type 3\\nPassage: Imaging and laboratory data on admission and during hospitalization were collected. White blood cell count > 15,000/ μL was defined as leukocytosis, whereas that < 4000/μL was defined as leukopenia.'],\n",
       " 'response': 'The T-cell count plays a crucial role in severe human adenovirus type 55 (HAdV-55) infection, as patients with severe disease may have low T-cell counts. In the study mentioned, the only patient who recovered from severe infection had higher T-cell counts, suggesting that a lower T-cell count may be a risk factor for severe HAdV-55 infection.',\n",
       " 'document_ids': [1395, 1395, 2160, 2158]}"
      ]
     },
     "execution_count": 35,
     "metadata": {},
     "output_type": "execute_result"
    }
   ],
   "source": [
    "# create new column with the idx of the document in the list of unique documents, the idx should be a list of integers and the name of the column should be \"document_ids\"\n",
    "unique_documents = list(set(document))\n",
    "unique_documents.sort()\n",
    "document_idx_map = {doc: idx for idx, doc in enumerate(unique_documents)}\n",
    "for split in ragbench[\"covidqa\"]:\n",
    "    ragbench[\"covidqa\"][split] = ragbench[\"covidqa\"][split].add_column(\n",
    "        \"document_ids\",\n",
    "        [[document_idx_map[doc] for doc in docs] for docs in ragbench[\"covidqa\"][split][\"documents\"]]\n",
    "    )\n",
    "ragbench[\"covidqa\"][\"train\"][0]"
   ]
  },
  {
   "cell_type": "code",
   "execution_count": null,
   "id": "c09a9632",
   "metadata": {},
   "outputs": [],
   "source": [
    "# save to disk the list of unique documents in jsonl format\n",
    "import os\n",
    "import json\n",
    "\n",
    "with open(\"../data/processed/ragbench/covidqa_unique_documents.jsonl\", \"w\") as f:\n",
    "    for doc in unique_documents:\n",
    "        f.write(json.dumps({\"document\": doc}) + \"\\n\")"
   ]
  },
  {
   "cell_type": "markdown",
   "id": "f3a821a1",
   "metadata": {},
   "source": [
    "# Parliamentary data"
   ]
  },
  {
   "cell_type": "code",
   "execution_count": 24,
   "id": "ae110394",
   "metadata": {},
   "outputs": [],
   "source": [
    "from datasets import load_from_disk\n",
    "FOLDER_AUTORE = \"../data/raw/ORDERS_PARLIAMENT\" # Entrenamiento autoregresivo"
   ]
  },
  {
   "cell_type": "code",
   "execution_count": 25,
   "id": "dd7ba703",
   "metadata": {},
   "outputs": [],
   "source": [
    "dataset_aut = load_from_disk(FOLDER_AUTORE) "
   ]
  },
  {
   "cell_type": "code",
   "execution_count": 26,
   "id": "3b423a02",
   "metadata": {},
   "outputs": [
    {
     "data": {
      "text/plain": [
       "DatasetDict({\n",
       "    train: Dataset({\n",
       "        features: ['text', 'PK'],\n",
       "        num_rows: 10045\n",
       "    })\n",
       "    validation: Dataset({\n",
       "        features: ['text', 'PK'],\n",
       "        num_rows: 893\n",
       "    })\n",
       "    test: Dataset({\n",
       "        features: ['text', 'PK'],\n",
       "        num_rows: 224\n",
       "    })\n",
       "})"
      ]
     },
     "execution_count": 26,
     "metadata": {},
     "output_type": "execute_result"
    }
   ],
   "source": [
    "dataset_aut"
   ]
  },
  {
   "cell_type": "code",
   "execution_count": 10,
   "id": "be5eba81",
   "metadata": {},
   "outputs": [
    {
     "name": "stdout",
     "output_type": "stream",
     "text": [
      "{'text': 'Esta sesión del parlamento se realizó el 2024-05-07. 11L/PO/P-0750 PREGUNTA DEL SEÑOR DIPUTADO DON NICASIO JESÚS GALVÁN SASIA, DEL GRUPO PARLAMENTARIO VOX, SOBRE MEDIDAS QUE SE VAN A LLEVAR A CABO PARA DEMOCRATIZAR Y REDISTRIBUIR LA RIQUEZA DEL SECTOR TURÍSTICO, DIRIGIDA A LA PRESIDENCIA DEL GOBIERNO La señora PRESIDENTA: Siguiente pregunta, del señor diputado don Nicasio Galván Sasia, del Grupo Parlamentario VOX, sobre medidas que se van a llevar a cabo para democratizar y redistribuir la riqueza del sector turístico, dirigida al señor presidente del Gobierno. Cuando quiera. El señor GALVÁN SASIA (desde su escaño): Buenos días, señor Clavijo, buenos días. Escuchándole en la rueda de prensa posterior a la Conferencia de Presidentes nos han surgido varias preguntas, y nos consta que no solo a nosotros. Se le oía escuchar hablar de la democratización y la redistribución de la riqueza del sector turístico y culpabilizó al turismo -sí, a esas 500 000 personas que han venido a vivir a Canarias en los últimos veinte años- de la presión de los servicios públicos y de la demanda de vivienda. No le escuchamos hablar de esas 200 000 viviendas que hay vacías en nuestras islas. Habló también del reto demográfico, pero desde un punto de vista neomalthusiano, de escasez y agotamiento de los recursos por causa del incremento de la población. Esas tesis, señor Clavijo, se han demostrado erróneas, porque no han tenido en cuenta la capacidad de inventiva ni innovación del ser humano. Desde nuestro punto de vista, se demuestra se demuestra que no hay agenda clara de gobierno, que parece que ustedes pretenden gobernar a base de titular de prensa y como reacción a las manifestaciones. Les recuerdo, también, que desde la tribuna de este Parlamento en el pasado pleno su grupo parlamentario faltó al respeto a las universidades canarias y señaló directamente a una empresa privada, yo creo que atacando al sector económico más importante de Canarias, a nuestras universidades y a las empresas privadas, no vamos a lograr incrementar el producto interior bruto canario ni a lograr subir el salario medio ni tampoco mejorar la investigación, desarrollo e innovación tecnológica, tampoco enviaremos un mensaje sobre seguridad jurídica y, por supuesto, no atraeremos inversión nacional e internacional. Recordarle también que el año pasado se incrementó la burocracia en Canarias cerca de un catorce por ciento. Señor Clavijo, así no. Nosotros creemos que así no se van a revertir esos datos de pobreza y de desempleo que tenemos en Canarias, no se van a generar ese ahorro y esa inversión que necesitamos para alcanzar la tan ansiada diversificación económica y productividad en nuestras islas. Señor Clavijo, comentarle que el lenguaje es muy importante a la hora de trasladar mensajes al mercado, sobre todo de un presidente de comunidad autónoma. Y créame si le digo, por favor, créame que hablar de democratizar y redistribuir la riqueza del sector turístico no ayuda, no ayuda, sino causa -recordemos que el sector turístico es iniciativa privada-, no ayuda, sino causa el efecto contrario de lo que se pretende, que espero que en este caso sea el crecimiento de Canarias y la riqueza de nuestras islas, por supuesto, respetando el medio ambiente. Muchas gracias. La señora PRESIDENTA: Señor presidente, tiene la palabra. El señor PRESIDENTE DE CANARIAS (Clavijo Batlle) (desde su escaño): Gracias, señora presidenta. Señor Galván, créame, créame que, desde luego, las tesis que salieron de la Conferencia de Presidentes desde luego no tiene nada que ver con el ser neomalthusianos o..., porque todo lo contrario, lo que se habla es de regular nuestros recursos naturales para que no se agoten y para que puedan disfrutarlos, ¿no?, porque el paisaje, la naturaleza, si la protegemos y la cuidamos, seguirán viniendo. Ahora, si hacemos un uso desmedido y agotamos esos recursos o los antropizamos, es decir, lo consumimos y lo transformamos por la acción del hombre, la realidad es que al final dejaremos de ser unas islas afortunadas y la gente se irá a otro sitio. Pero, mire, este Gobierno ha heredado una Canarias más injusta, más insolidaria, nunca antes los ricos en Canarias, después del pacto de las flores, han sido tan ricos y los pobres tan pobres. Y cuando hablamos de democratizar, cuando hablamos de distribuir la riqueza lo que este Gobierno quiere decir, y si lo ha llevado a confusión le pido disculpas, yo no soy un gran orador, pero sí lo que le puedo decir es que lo que buscamos es que de los 22 000 millones de euros de facturación del sector turístico se quede la mayor cantidad de dinero aquí. Hablamos de que las familias puedan llegar a final de mes, hablamos de mejorar la productividad, por supuesto que sí, porque en la medida que mejoremos la productividad seremos más competitivos, pero eso tiene que ir de la mano con las mejoras salariales, porque no nos resignamos a que en Canarias tengamos los salarios más bajos de toda España, no nos resignamos a que tengamos las cotas de exclusión social. Y para eso, y para eso hemos establecido esta Conferencia de Presidentes, para eso vamos a hacer los grupos de trabajo, para eso van a poder participar los sindicatos y los empresarios en las soluciones. Las soluciones, no tenemos una varita mágica, es más, somos muy respetuosos con la concertación social para que patronal y sindicatos se pongan de acuerdo en las retribuciones y en los convenios colectivos; ya se están dando pasos, ya, previsiblemente, antes de que acabe el año se va a sacar adelante un convenio en el sector turístico donde hay mejoras salariales. Eso es lo que perseguimos, ni somos un Gobierno intervencionista, porque ya se ha visto lo que ocurrió con el Gobierno anterior y las consecuencias, ni, desde luego, somos responsables de que la ley... porque votamos en contra de que la ley de vivienda aprobada en Madrid lo que haya hecho es sacar vivienda del mercado porque el propietario tiene miedo de ponerla a alquilar porque no tiene las garantías jurídicas. Créame que ese es el camino, no se confunda. Y, desde luego, en esto espero que nos ayude. La señora PRESIDENTA: Gracias, señor presidente. Tiempo de réplica, señor Galván, cuando quiera. El señor GALVÁN SASIA (desde su escaño): Señor Clavijo, pues le pido que nos invite a nosotros, a este grupo parlamentario, a participar en esas conversaciones de esos grupos, porque creo que se evitarían muchas malas interpretaciones, si es como usted dice, y, de todas maneras, controlaríamos mejor esa acción de gobierno. Muchas gracias. La señora PRESIDENTA: Gracias, señor Galván.', 'PK': '6596_4'}\n"
     ]
    }
   ],
   "source": [
    "print(dataset['train'][0])"
   ]
  },
  {
   "cell_type": "code",
   "execution_count": 23,
   "id": "4c347b7b",
   "metadata": {},
   "outputs": [
    {
     "name": "stdout",
     "output_type": "stream",
     "text": [
      "DatasetDict({\n",
      "    train: Dataset({\n",
      "        features: ['PK', 'question', 'answer', 'cost', 'context', 'type', 'retrieved_pks', 'oracle_context', 'formatted_context'],\n",
      "        num_rows: 614\n",
      "    })\n",
      "    validation: Dataset({\n",
      "        features: ['PK', 'question', 'answer', 'cost', 'context', 'type', 'retrieved_pks', 'oracle_context', 'formatted_context'],\n",
      "        num_rows: 161\n",
      "    })\n",
      "})\n",
      "Dataset({\n",
      "    features: ['PK', 'question', 'answer', 'cost', 'context', 'type', 'retrieved_pks', 'oracle_context', 'formatted_context'],\n",
      "    num_rows: 614\n",
      "})\n",
      "{\n",
      "  \"PK\": \"6521_1\",\n",
      "  \"question\": \"\\u00bfQu\\u00e9 argumentos expuso el grupo parlamentario que se opuso a la propuesta de modificaci\\u00f3n del orden del d\\u00eda en la sesi\\u00f3n del 26 de septiembre de 2023, que implicaba la convalidaci\\u00f3n del decreto relativo al impuesto de sucesiones y donaciones?\",\n",
      "  \"answer\": \"El fragmento del Diario de Sesiones no proporciona argumentos espec\\u00edficos de ning\\u00fan grupo parlamentario que se oponga a la propuesta de modificaci\\u00f3n del orden del d\\u00eda relacionada con la convalidaci\\u00f3n del decreto sobre el impuesto de sucesiones y donaciones. La presidenta menciona que se somete la propuesta a votaci\\u00f3n por asentimiento y no se registran objeciones ni intervenciones en contra. Por lo tanto, no se pueden extraer argumentos de oposici\\u00f3n de los grupos parlamentarios en este caso.\",\n",
      "  \"cost\": 0.00011774999999999999,\n",
      "  \"context\": \"Esta sesi\\u00f3n del parlamento se realiz\\u00f3 el 2023-09-26. PROPUESTA DE ALTERACI\\u00d3N DEL ORDEN DEL D\\u00cdA La se\\u00f1ora PRESIDENTA: Como cuesti\\u00f3n previa s\\u00ed nos gustar\\u00eda plantear una propuesta de modificaci\\u00f3n del orden del d\\u00eda, que, como bien saben, debo someterla a votaci\\u00f3n por asentimiento. Por tanto, simplemente que los grupos, los portavoces de los grupos parlamentarios asientan sobre esta propuesta de modificaci\\u00f3n del orden del d\\u00eda. \\u00bfAlguna cuesti\\u00f3n en contra de la propuesta de modificaci\\u00f3n? Como bien saben, se trataba de modificar y sustituir el decreto, la convalidaci\\u00f3n del decreto relativo al impuesto de sucesiones y donaciones, poder debatirlo despu\\u00e9s de las preguntas y antes de las comparecencias. Esa es la modificaci\\u00f3n del orden del d\\u00eda que les planteo, y, por tanto, por asentimiento imagino que no habr\\u00e1 ning\\u00fan problema, \\u00bfverdad? (Asentimiento). Bueno, pues no habiendo nada que alegar, pasamos al orden del d\\u00eda.\",\n",
      "  \"type\": \"motivation\",\n",
      "  \"retrieved_pks\": [\n",
      "    \"6521_1\",\n",
      "    \"6521_27\",\n",
      "    \"6516_15\",\n",
      "    \"6123_19\",\n",
      "    \"6553_8\",\n",
      "    \"6593_11\",\n",
      "    \"6598_19\"\n",
      "  ],\n",
      "  \"oracle_context\": true,\n",
      "  \"formatted_context\": \"[Documento]:\\n\\nEsta sesi\\u00f3n del parlamento se realiz\\u00f3 el 2023-09-26. PROPUESTA DE ALTERACI\\u00d3N DEL ORDEN DEL D\\u00cdA La se\\u00f1ora PRESIDENTA: Como cuesti\\u00f3n previa s\\u00ed nos gustar\\u00eda plantear una propuesta de modificaci\\u00f3n del orden del d\\u00eda, que, como bien saben, debo someterla a votaci\\u00f3n por asentimiento. Por tanto, simplemente que los grupos, los portavoces de los grupos parlamentarios asientan sobre esta propuesta de modificaci\\u00f3n del orden del d\\u00eda. \\u00bfAlguna cuesti\\u00f3n en contra de la propuesta de modificaci\\u00f3n? Como bien saben, se trataba de modificar y sustituir el decreto, la convalidaci\\u00f3n del decreto relativo al impuesto de sucesiones y donaciones, poder debatirlo despu\\u00e9s de las preguntas y antes de las comparecencias. Esa es la modificaci\\u00f3n del orden del d\\u00eda que les planteo, y, por tanto, por asentimiento imagino que no habr\\u00e1 ning\\u00fan problema, \\u00bfverdad? (Asentimiento). Bueno, pues no habiendo nada que alegar, pasamos al orden del d\\u00eda.\"\n",
      "}\n"
     ]
    }
   ],
   "source": [
    "import json\n",
    "FOLDER_QA = \"../data/raw/QA_PARLIAMENT_TRAIN\"\n",
    "\n",
    "dataset_qa = load_from_disk(FOLDER_QA)\n",
    "print(dataset_qa)\n",
    "print(dataset_qa[\"train\"])\n",
    "print(json.dumps(dataset_qa['train'][3], indent=2))"
   ]
  },
  {
   "cell_type": "code",
   "execution_count": 21,
   "id": "a4d696e7",
   "metadata": {},
   "outputs": [
    {
     "name": "stdout",
     "output_type": "stream",
     "text": [
      "Dataset({\n",
      "    features: ['question', 'PK', 'answer', 'type', 'retrieved_pks', 'oracle_context', 'injected_oracle', 'formatted_context'],\n",
      "    num_rows: 205\n",
      "})\n",
      "{\n",
      "  \"question\": \"\\u00bfEn qu\\u00e9 contexto se le concedi\\u00f3 el uso de la palabra al diputado Jos\\u00e9 Miguel Ruano Le\\u00f3n durante la sesi\\u00f3n del Parlamento de Canarias del 10 de octubre de 2012, tras haber hecho alusiones personales en su intervenci\\u00f3n?\",\n",
      "  \"PK\": \"5861_8\",\n",
      "  \"answer\": \"Por alusiones, el se\\u00f1or Jos\\u00e9 Miguel Ruano Le\\u00f3n solicita el uso de la palabra para responder a comentarios realizados por el portavoz del Grupo Popular.\",\n",
      "  \"type\": \"exceptional_turn\",\n",
      "  \"retrieved_pks\": [\n",
      "    \"5825_5\",\n",
      "    \"6057_5\",\n",
      "    \"5478_14\",\n",
      "    \"5835_3\",\n",
      "    \"6073_2\",\n",
      "    \"5860_19\",\n",
      "    \"6156_9\"\n",
      "  ],\n",
      "  \"oracle_context\": false,\n",
      "  \"injected_oracle\": false,\n",
      "  \"formatted_context\": \"[Documento 1]\\nEsta sesi\\u00f3n del parlamento se realiz\\u00f3 el 2012-03-06. \\u00b7 8L/PO/P-0247 Pregunta del se\\u00f1or diputado don Jos\\u00e9 Miguel Ruano Le\\u00f3n, del Grupo Parlamentario Nacionalista Canario (CC-PNC-CCN), sobre acciones ante el Gobierno de Espa\\u00f1a y las compa\\u00f1\\u00edas a\\u00e9reas respecto al n\\u00famero de plazas con la Pen\\u00ednsula tras la suspensi\\u00f3n de actividades de Spanair, dirigida al se\\u00f1or presidente del Gobierno. El se\\u00f1or vicepresidente primero (Cruz Hern\\u00e1ndez): Por lo tanto, iniciamos el resto del orden del d\\u00eda con las preguntas. En primer lugar, al se\\u00f1or presidente del Gobierno. La primera, del se\\u00f1or diputado don Jos\\u00e9 Miguel Ruano Le\\u00f3n, del Grupo Nacionalista Canario, sobre acciones ante el Gobierno de Espa\\u00f1a y las compa\\u00f1\\u00edas a\\u00e9reas respecto al n\\u00famero de plazas con la Pen\\u00ednsula tras la suspensi\\u00f3n de las actividades de Spanair. Para la formulaci\\u00f3n de la pregunta el se\\u00f1or diputado tiene la palabra. El se\\u00f1or Ruano Le\\u00f3n (Desde su esca\\u00f1o): Gracias, se\\u00f1or presidente. Se\\u00f1or\\u00edas. Se\\u00f1or presidente del Gobierno. Desde el cese de actividades de Spanair se han perdido en Canarias en torno a 600.000 plazas al a\\u00f1o entre la Pen\\u00ednsula y Canarias y viceversa. La menor oferta a la misma demanda ha provocado una notable subida de los precios en los billetes a\\u00e9reos entre Canarias y la Pen\\u00ednsula, que en informaciones recientes se estima en torno al doble, pero parece que se puede incluso encontrar una media de una subida de los billetes a\\u00e9reos entre Canarias y la Pen\\u00ednsula, Pen\\u00ednsula-Canarias, en torno al 25%. Sabemos, se\\u00f1or presidente, que esta es una relaci\\u00f3n sometida a las reglas del mercado, a las reglas de la oferta y la demanda, pero tambi\\u00e9n sabemos que hay pol\\u00edticas p\\u00fablicas que han resultado eficaces para mejorar la conectividad del archipi\\u00e9lago con la Pen\\u00ednsula, como fueron la bajada de las tasas a\\u00e9reas en el a\\u00f1o 98 y la reciente bajada en la Ley de Presupuestos del Estado el pasado a\\u00f1o en relaci\\u00f3n con el incremento del n\\u00famero de plazas a\\u00e9reas con el archipi\\u00e9lago. En ese contexto, se\\u00f1or presidente, nuestro grupo quiere saber qu\\u00e9 acciones est\\u00e1 realizando el Gobierno ante el Gobierno de Espa\\u00f1a y las compa\\u00f1\\u00edas a\\u00e9reas para promover que el n\\u00famero de plazas de Canarias con la Pen\\u00ednsula no se vea reducido tras la suspensi\\u00f3n de actividades de Spanair y, consecuentemente, los precios vuelvan a ser los que eran antes de esa suspensi\\u00f3n de actividades. Muchas gracias. El se\\u00f1or vicepresidente primero (Cruz Hern\\u00e1ndez): Gracias, se\\u00f1or diputado. Se\\u00f1or presidente del Gobierno, tiene usted la palabra. El se\\u00f1or presidente del Gobierno (Rivero Baute) (Desde su esca\\u00f1o): Muchas gracias, se\\u00f1or presidente. Se\\u00f1or diputado, efectivamente, ha sido una muy mala noticia para Canarias la desaparici\\u00f3n del mercado de operadores del transporte a\\u00e9reo de Spanair. Spanair es una compa\\u00f1\\u00eda a\\u00e9rea que, efectivamente, ofertaba 600.000 puestos, 600.000 sitios, en el tr\\u00e1fico Pen\\u00ednsula-Canarias, que nos conectaba con tres ciudades muy importantes -con Madrid, con Barcelona y con Bilbao- y que ofertaba cada semana 14.000 plazas de venida a Canarias. Por lo tanto, su desaparici\\u00f3n del mercado cercena la posibilidad de mejorar nuestra accesibilidad y, por otra parte, al desaparecer un operador de estas caracter\\u00edsticas del mercado, pues, ha servido para que el resto de los operadores incrementen los precios al perder capacidad competitiva el transporte entre la Pen\\u00ednsula y Canarias. Estamos en un periodo, Spanair desaparece del mercado a lo largo del mes de enero, es decir, ya con la programaci\\u00f3n de aqu\\u00ed al verano llevada a cabo por el resto de los operadores, y con escasa capacidad de Iberia, de Air Europa, de Vueling, de otras l\\u00edneas tambi\\u00e9n de bajo coste, de reprogramar sus planes en la temporada y, por lo tanto, a la espera de lo que pueda ocurrir para el verano. Tenemos que esperar a la programaci\\u00f3n para el verano. De las conversaciones que hemos mantenido con los distintos operadores, es que Iberia va a incrementar su frecuencia, al igual que Air Europa va a cambiar el tipo de avi\\u00f3n, conectar Canarias con la Pen\\u00ednsula con un avi\\u00f3n con mayor capacidad, y que Vueling tambi\\u00e9n va reforzar su presencia en el mercado canario. Hay que estar atentos para ver si la reprogramaci\\u00f3n de estas compa\\u00f1\\u00edas a\\u00e9reas cubre suficientemente las necesidades de comunicaci\\u00f3n Canarias-Pen\\u00ednsula. Con la propuesta que tienen sobre la mesa nos acercaremos a un 80%, aproximadamente, de los tr\\u00e1ficos que cubr\\u00eda Spanair. Habr\\u00e1 que estar atentos a la evoluci\\u00f3n de los precios. Y ya he dicho que si la evoluci\\u00f3n de los precios sigue al alza, si no volvemos a unos precios razonables como los que ten\\u00edamos mientras Spanair estaba en el mercado, el Gobierno de Canarias exigir\\u00e1 al Gobierno de Espa\\u00f1a que se active la declaraci\\u00f3n de servicio p\\u00fablico, que est\\u00e1 aprobada desde el 98, pendiente de activar si la competencia no garantizara la accesibilidad canaria en buenas condiciones y en buenos precios. Por lo tanto, espero que el resto de los operadores se ajuste a las condiciones de servicios y de precios en el tr\\u00e1fico con Canarias, porque, si no, activaremos la declaraci\\u00f3n de obligaci\\u00f3n de servicio p\\u00fablico. El se\\u00f1or vicepresidente primero (Cruz Hern\\u00e1ndez): Gracias, se\\u00f1or presidente.\\n\\n[Documento 2]\\nEsta sesi\\u00f3n del parlamento se realiz\\u00f3 el 2016-06-07. 9L/PO/P-0698 PREGUNTA DEL SE\\u00d1OR DIPUTADO DON JOS\\u00c9 MIGUEL RUANO LE\\u00d3N, DEL GRUPO PARLAMENTARIO NACIONALISTA CANARIO (CC-PNC), SOBRE EL FORO INTERNACIONAL DE ISLAS EUROPEAS SOBRE LA CRISIS DE LOS REFUGIADOS EN GRECIA, DIRIGIDA AL SE\\u00d1OR PRESIDENTE DEL GOBIERNO. La se\\u00f1ora PRESIDENTA: Continuamos. Siguiente pregunta, del se\\u00f1or diputado don Jos\\u00e9 Miguel Ruano Le\\u00f3n, del Grupo Parlamentario Nacionalista Canario, sobre el Foro Internacional de islas europeas sobre la crisis de los refugiados en Grecia, dirigida al presidente. Se\\u00f1or Ruano, cuando quiera. El se\\u00f1or RUANO LE\\u00d3N (Desde su esca\\u00f1o): Muchas gracias, presidenta. Se\\u00f1or presidente del Gobierno, se\\u00f1or\\u00edas. Canarias ha sido una tierra que ha conocido, sin duda, la importancia de las migraciones por razones econ\\u00f3micas, y ha sido tambi\\u00e9n yacimiento en el mar de muchas muertes de ciudadanos africanos que quer\\u00edan tener aqu\\u00ed una esperanza de vida. En ese contexto, en esa reflexi\\u00f3n, el presidente del Gobierno ha asistido recientemente a un encuentro en Grecia, concretamente en la isla de Samos, con relaci\\u00f3n a las migraciones que en este momento se producen b\\u00e1sicamente de refugiados por razones pol\\u00edticas de la guerra en Siria o en Afganist\\u00e1n. Se\\u00f1or presidente del Gobierno, \\u00bfqu\\u00e9 objetivos tuvo su reciente participaci\\u00f3n en el Foro Internacional de islas europeas sobre la crisis de los refugiados en Grecia? La se\\u00f1ora PRESIDENTA: Muchas gracias, se\\u00f1or Ruano. Se\\u00f1or presidente. El se\\u00f1or PRESIDENTE DEL GOBIERNO (Clavijo Batlle) (Desde su esca\\u00f1o): Muchas gracias, presidenta. Muchas gracias, querido Jos\\u00e9 Miguel. Bueno, realmente, con la oportunidad que se me brinda con esta pregunta quer\\u00eda hacer una peque\\u00f1a reflexi\\u00f3n. La primera reflexi\\u00f3n que me gustar\\u00eda hacer es que el \\u00fanico espa\\u00f1ol que particip\\u00f3 en esa jornada, y no ser\\u00eda porque no se invitase, fue este que les habla del Gobierno de Canarias. Se le pasaron las invitaciones tambi\\u00e9n a la Administraci\\u00f3n del Estado, parece que este asunto no preocupa, parece que no preocupa salvo a los canarios. Ya nos pas\\u00f3 en el 2006, cuando tuvimos esa avalancha y nos vimos solos, al igual que se han visto muchas de las islas como Lampedusa, como Samos, como Lesbos o como Malta. La realidad es que en ese foro, donde estaba la municipalidad griega, del que formaron parte personalidades de Italia, Malta, Alemania inclusive, pudimos compartir las experiencias. Y, desgraciadamente, diez a\\u00f1os despu\\u00e9s -en aquella \\u00e9poca yo ten\\u00eda tareas en un municipio de Canarias, en el caso concreto, de La Laguna, tareas que ten\\u00edan que ver mucho tambi\\u00e9n con ese aspecto, y era alcaldesa Ana Oramas-, tambi\\u00e9n nosotros tuvimos los mismos problemas de olvido, desatenci\\u00f3n, falta de recursos, falta de compromiso. Una de las principales conclusiones fue que, a lo largo de la historia de la humanidad, los fen\\u00f3menos migratorios nos han acompa\\u00f1ado siempre y que, desde luego, la soluci\\u00f3n no es ni poner muros ni poner verjas, sino que tiene que haber una pol\\u00edtica de cooperaci\\u00f3n internacional decidida, tiene que regularizarse y no dejar a ni\\u00f1os y familias enteras en manos de las mafias, tiene que haber un compromiso de la Uni\\u00f3n Europea y de sus Estados miembro y tiene que haber tambi\\u00e9n un compromiso -que, afortunadamente, al igual que en Canarias, con muchas dificultades tambi\\u00e9n, se reconoc\\u00edan dentro de las puertas del foro- de la sociedad civil organizada y de las ONG. Por eso, m\\u00e1s all\\u00e1 de que ahora mismo, aunque sigue llegando a cuentagotas alg\\u00fan que otro cayuco o patera a Canarias, m\\u00e1s all\\u00e1 de no participar y mostrar la solidaridad del pueblo canario, lo que s\\u00ed me gustar\\u00eda que quedase hoy en la C\\u00e1mara es esa reflexi\\u00f3n. Parece que solo a los canarios les preocupa este asunto y al resto de Espa\\u00f1a no le preocupa, como en su momento no le preocup\\u00f3 lo que ocurri\\u00f3 en Canarias en el 2006. La se\\u00f1ora PRESIDENTA: Muchas gracias, se\\u00f1or presidente. Se\\u00f1or Ruano. (El se\\u00f1or diputado indica que no va a intervenir). Gracias.\\n\\n[Documento 3]\\nEsta sesi\\u00f3n del parlamento se realiz\\u00f3 el 2008-10-29. \\u00b7 7L/PO/P-0400 Pregunta del se\\u00f1or diputado don Santiago P\\u00e9rez Garc\\u00eda, del Grupo Parlamentario Socialista Canario, sobre el procedimiento judicial promovido por la Fiscal\\u00eda Anticorrupci\\u00f3n contra don Jos\\u00e9 Manuel Soria, dirigida al se\\u00f1or consejero de Presidencia, Justicia y Seguridad. El se\\u00f1or presidente: Siguiente pregunta, del se\\u00f1or diputado don Santiago P\\u00e9rez Garc\\u00eda, del Grupo Parlamentario Socialista, sobre el procedimiento judicial promovido por la Fiscal\\u00eda Anticorrupci\\u00f3n contra don Jos\\u00e9 Manuel Soria, dirigida al se\\u00f1or consejero de Presidencia, Justicia y Seguridad. Se\\u00f1or P\\u00e9rez Garc\\u00eda, tiene la palabra. El se\\u00f1or P\\u00e9rez Garc\\u00eda (Desde su esca\\u00f1o): Muchas gracias, se\\u00f1or presidente, buenos d\\u00edas. \\u00bfQu\\u00e9 razones tiene el Gobierno de Canarias para que el se\\u00f1or consejero de Presidencia, Justicia y Seguridad asegure, con ocasi\\u00f3n de la apertura del a\\u00f1o judicial en Canarias, que el procedimiento judicial promovido por la Fiscal\\u00eda Anticorrupci\\u00f3n por presunto cohecho contra don Jos\\u00e9 Manuel Soria ser\\u00e1 archivado? El se\\u00f1or presidente: Gracias, se\\u00f1or P\\u00e9rez Garc\\u00eda. Se\\u00f1or Ruano, se\\u00f1or consejero de Presidencia, Justicia y Seguridad, tiene la palabra. El se\\u00f1or consejero de Presidencia, Justicia y Seguridad (Ruano Le\\u00f3n) (Desde su esca\\u00f1o): S\\u00ed, se\\u00f1or presidente. Las declaraciones que Jos\\u00e9 Miguel Ruano realiz\\u00f3 a los medios de comunicaci\\u00f3n en relaci\\u00f3n con esa situaci\\u00f3n est\\u00e1n en el amparo del art\\u00edculo 24.2 de la Constituci\\u00f3n espa\\u00f1ola, que es el que reconoce la presunci\\u00f3n de inocencia de todos los ciudadanos. El se\\u00f1or presidente: Gracias, se\\u00f1or consejero. Gracias. Se\\u00f1or P\\u00e9rez Garc\\u00eda, tiene la palabra. El se\\u00f1or P\\u00e9rez Garc\\u00eda (Desde su esca\\u00f1o): Muchas gracias, se\\u00f1or presidente. Se\\u00f1or Ruano, usted conoce como yo que la acci\\u00f3n de la Fiscal\\u00eda y su funci\\u00f3n est\\u00e1n encaminadas a promover la actividad de los tribunales en defensa de la legalidad. La Fiscal\\u00eda Anticorrupci\\u00f3n ha iniciado unas diligencias y los que est\\u00e9n involucrados en las mismas gozan, efectivamente, de la presunci\\u00f3n de inocencia, pero entre la Fiscal\\u00eda, que tiene esa funci\\u00f3n, y usted, que no es Jos\\u00e9 Miguel Ruano, sino el consejero de Presidencia y Justicia del Gobierno de Canarias, hay una diferencia de objeto: la Fiscal\\u00eda defiende la legalidad, usted defiende como sea la continuidad de este Gobierno. Dice usted hoy... Perd\\u00f3n, dijo el mismo d\\u00eda que el que alg\\u00fan alto cargo del Gobierno est\\u00e9 involucrado en actuaciones judiciales no va a tener la m\\u00e1s m\\u00ednima trascendencia en la estabilidad del Gobierno. Hoy ha salido otro alto cargo del Gobierno, el vicepresidente, para decir que los pronunciamientos ideol\\u00f3gicos y los objetos pol\\u00edticos, los objetivos pol\\u00edticos de Coalici\\u00f3n Canaria, no tienen la m\\u00e1s m\\u00ednima trascendencia. Se devuelven los cumplidos. Muchos nos preguntamos qu\\u00e9 es, realmente, lo que les une. Bien. Yo les he o\\u00eddo, a dirigentes de Coalici\\u00f3n Canaria y a usted mismo, referirse muchas veces -nunca perdieron la memoria- a unos comportamientos delictivos que ocurrieron all\\u00e1 lejos y hace tiempo en el territorio de una naci\\u00f3n que no existe y que afectaron a su Gobierno -que no existe seg\\u00fan ustedes-, sin embargo, no ven en absoluto el salpicadero de asuntos de corrupci\\u00f3n que afectan a su principal socio de Gobierno. Usted dec\\u00eda hace un momento que ocultar la realidad no resuelve los problemas. Usted oculta la realidad simplemente porque le conviene. Esta no es una cuesti\\u00f3n de coincidencias ideol\\u00f3gicas ni de afinidades sobre la idea de Espa\\u00f1a, de la Espa\\u00f1a plural, del Estado de las Autonom\\u00edas. Yo le pido, se\\u00f1or consejero, algo que podr\\u00eda usted satisfacer: guarde un poco las formas. Usted no es Jos\\u00e9 Miguel Ruano, usted es el consejero de Presidencia y Justicia. Hace unas semanas ped\\u00ed a otro miembro del Gobierno que respetara la inteligencia de los diputados y, en definitiva, del pueblo canario. Ahora le pido otra cosa modestita: guarde las formas. Por cierto, no guarda usted las formas cuando confunde los incrementos en las tasas de diligencias penales sin m\\u00e1s con los incrementos de la inseguridad ciudadana. La ciudadan\\u00eda canaria no percibe eso, pero a usted le conviene crear ese alarmismo para justificar sus propias obsesiones. Muchas gracias. El se\\u00f1or presidente: Gracias, se\\u00f1or P\\u00e9rez Garc\\u00eda. Se\\u00f1or consejero de Presidencia, se\\u00f1or Ruano, tiene la palabra. El se\\u00f1or consejero de Presidencia, Justicia y Seguridad (Ruano Le\\u00f3n) (Desde su esca\\u00f1o): S\\u00ed, muchas gracias, presidente. Cuando quiera debatir de pol\\u00edtica general y quiera hablar usted de relaciones de soberan\\u00eda y dem\\u00e1s, tambi\\u00e9n podremos hablar de cu\\u00e1les son las relaciones pol\\u00edticas del Partido Socialista en Catalu\\u00f1a o en Galicia o en alguna otra Comunidad. En cualquier caso, se\\u00f1or P\\u00e9rez Garc\\u00eda, las declaraciones que realic\\u00e9 las sostengo, porque est\\u00e1n hechas con el m\\u00e1ximo sentido de la responsabilidad. Y, en ese sentido, el consejero de Justicia no hace intervenciones en procesos judiciales en curso de ninguna naturaleza y lo que dije, y reitero, es que, tras las conversaciones que he mantenido con el vicepresidente del Gobierno sobre hechos que ocurrieron cuando era presidente del cabildo, tengo la convicci\\u00f3n de la inocencia del se\\u00f1or Soria y, por tanto, tengo la convicci\\u00f3n de que podr\\u00e1 probarla sobradamente ante el Tribunal Superior de Justicia de Canarias, en caso de que, finalmente, se abran las diligencias en el sentido propuesto por el Ministerio Fiscal. Consecuentemente, creo que esto no tiene m\\u00e1s de s\\u00ed por el momento. Creo que adem\\u00e1s usted, que es jurista y que ha compartido, y compartimos, en alg\\u00fan momento espacio de reflexi\\u00f3n en el Departamento de Derecho Constitucional de la Universidad de La Laguna, sabe que la prudencia es una virtud pol\\u00edtica desde Plat\\u00f3n y que lo que pasa o le pasa es que muchas veces olvida usted otra parte, que es la parte aristot\\u00e9lica, que es lo justo medio, y usted normalmente est\\u00e1 m\\u00e1s all\\u00e1 del justo medio. Est\\u00e1 en un registro pol\\u00edtico que en un momento determinado le llev\\u00f3 al ocaso en su carrera pol\\u00edtica, pero que, ante los nuevos modos del secretario general de los socialistas canarios, parece que usted ha encontrado un espacio para brillar en ese modo de hacer pol\\u00edtica. Muchas gracias. El se\\u00f1or presidente: Gracias.\\n\\n[Documento 4]\\nEsta sesi\\u00f3n del parlamento se realiz\\u00f3 el 2012-04-24. \\u00b7 8L/PO/P-0363 Pregunta del se\\u00f1or diputado don Jos\\u00e9 Miguel Barrag\\u00e1n Cabrera, del Grupo Parlamentario Nacionalista Canario (CC-PNC-CCN), sobre su visita al reino de Marruecos, dirigida al se\\u00f1or presidente del Gobierno. El se\\u00f1or presidente: Siguiente pregunta, del se\\u00f1or diputado don Jos\\u00e9 Miguel Barrag\\u00e1n Cabrera, del Grupo Nacionalista Canario, y que asume la exposici\\u00f3n, la materializaci\\u00f3n de la pregunta, seg\\u00fan me comunica el propio grupo, don Jos\\u00e9 Miguel Ruano. Tiene la palabra. El se\\u00f1or Ruano Le\\u00f3n (Desde su esca\\u00f1o): Muchas gracias, se\\u00f1or presidente. Se\\u00f1or presidente del Gobierno. Marruecos es un aliado de Estados Unidos, un aliado de Francia, un aliado de Espa\\u00f1a, cuenta con un tratado de asociaci\\u00f3n especial con la Uni\\u00f3n Europea, es un pa\\u00eds que est\\u00e1 a tres horas por v\\u00eda mar\\u00edtima desde Fuerteventura, a una hora y veinte minutos desde Las Palmas a Guelmim en vuelo, es un pa\\u00eds comprometido en la lucha contra el terrorismo isl\\u00e1mico, y usted realiz\\u00f3 los pasados 12 y 13 de abril una visita oficial, encabezada por usted, empresarios y miembros de su Gobierno, en la cual sabemos que visit\\u00f3 Casablanca, Agadir y Rabat y en la que se trataron proyectos importantes de cooperaci\\u00f3n en el marco de la iniciativa europea Poctefex y a su vez se promovieron relaciones empresariales entre Canarias y Marruecos para apoyar a las empresas canarias en su internacionalizaci\\u00f3n hacia ese pa\\u00eds para exportar bienes y servicios. Se\\u00f1or presidente del Gobierno, \\u00bfcu\\u00e1l es la valoraci\\u00f3n que hace su Gobierno de su reciente visita a Marruecos? El se\\u00f1or presidente: Muchas gracias, don Jos\\u00e9 Miguel Ruano. Se\\u00f1or presidente del Gobierno, don Paulino Rivero. El se\\u00f1or presidente del Gobierno (Rivero Baute) (Desde su esca\\u00f1o): Muchas gracias, se\\u00f1or presidente. Se\\u00f1or diputado. La valoraci\\u00f3n no puede ser otra que positiva, como la han calificado todos los empresarios que acudieron a esta cita, porque tiene que ver con un objetivo estrat\\u00e9gico de Canarias, que es la internacionalizaci\\u00f3n de su econom\\u00eda. Este era el objetivo b\\u00e1sico del viaje: apoyar la internacionalizaci\\u00f3n de nuestra econom\\u00eda, buscando nuevas oportunidades para profesionales y empresarios canarios, y al propio tiempo facilitar que Canarias pueda ser prestadora de servicios a esta parte de \\u00c1frica, desde Marruecos a toda el \\u00c1frica occidental. Y en ese sentido, pues, se present\\u00f3 la segunda fase de los proyectos Poctefex, a los que usted hac\\u00eda referencia, que son financiados con fondos Feder de la Uni\\u00f3n Europea y que han tenido dos fases. Una fase, en el 2009-2011, en el que se invirtieron, 9 proyectos, 4 millones de euros; y una segunda fase, que es la que presentamos con ocasi\\u00f3n de este viaje, de 20 proyectos y una inversi\\u00f3n de 14 millones de euros. Hay que decir que todos estos fondos son fondos, insisto, de la Uni\\u00f3n Europea y las empresas que se benefician de ellos todas son empresas canarias. Son desde las autoridades portuarias, nuestras dos universidades, instituciones, distintas empresas p\\u00fablicas canarias, que son las que realizan estos proyectos. Y, por otra parte, presentamos la mejora de las comunicaciones a\\u00e9reas con Marruecos, incrementando las comunicaciones que hoy se tienen con El Aai\\u00fan y con Marrakech a Agadir y Casablanca, as\\u00ed como compromisos para impulsar la mejora en el transporte mar\\u00edtimo. El se\\u00f1or presidente: Muchas gracias, se\\u00f1or presidente del Gobierno. \\u00bfSe\\u00f1or Jos\\u00e9 Miguel Ruano? (El se\\u00f1or diputado indica que no va a intervenir.) Bien. Gracias. De todas maneras le quedaba tiempo, fue un error m\\u00edo aqu\\u00ed. \\u00bfNo desea hacer uso de \\u00e9l? De acuerdo, gracias.\\n\\n[Documento 5]\\nEsta sesi\\u00f3n del parlamento se realiz\\u00f3 el 2016-11-29. 9L/PO/P-0987 PREGUNTA DEL SE\\u00d1OR DIPUTADO DON JOS\\u00c9 MIGUEL RUANO LE\\u00d3N, DEL GRUPO PARLAMENTARIO NACIONALISTA CANARIO (CC-PNC), SOBRE FIDELIZACI\\u00d3N DEL TURISMO BRIT\\u00c1NICO TRAS EL BREXIT, DIRIGIDA AL SE\\u00d1OR PRESIDENTE DEL GOBIERNO. La se\\u00f1ora PRESIDENTA: Al presidente del Gobierno, por el orden de presentaci\\u00f3n, tiene la palabra el se\\u00f1or diputado don Jos\\u00e9 Miguel Ruano Le\\u00f3n, del Grupo Parlamentario Nacionalista Canario, sobre fidelizaci\\u00f3n del turismo brit\\u00e1nico tras el brexit, dirigida al se\\u00f1or presidente del Gobierno. Se\\u00f1or Ruano. El se\\u00f1or RUANO LE\\u00d3N (Desde su esca\\u00f1o): Buenas tardes, se\\u00f1ora presidenta. Se\\u00f1or\\u00edas. Se\\u00f1or presidente del Gobierno, recientemente hemos le\\u00eddo en algunos medios que, en las previsiones del presupuesto brit\\u00e1nico, existen determinados contenidos vinculados a la salida del Reino Unido de la Uni\\u00f3n Europea y, en relaci\\u00f3n con este asunto, en Canarias tenemos siempre la preocupaci\\u00f3n de qu\\u00e9 incidencia puede producir la salida del Reino Unido de la Uni\\u00f3n Europea en relaci\\u00f3n con lo que es nuestra principal industria, que es el turismo. En ese sentido, la pregunta que nuestro grupo le formula es la siguiente: en su reciente visita a la Word Travel Market, \\u00bfqu\\u00e9 contactos ha mantenido y qu\\u00e9 perspectivas para la fidelizaci\\u00f3n del turismo brit\\u00e1nico hay tras el brexit? La se\\u00f1ora PRESIDENTA: Gracias, se\\u00f1or Ruano. Se\\u00f1or presidente. Se\\u00f1or\\u00edas, silencio, por favor. El se\\u00f1or PRESIDENTE DEL GOBIERNO (Clavijo Batlle) (Desde su esca\\u00f1o): Buenas tardes. Muchas gracias, presidenta y miembros de la Mesa. Compa\\u00f1eros de hemiciclo. Querido portavoz, Jos\\u00e9 Miguel, pues, efectivamente, el pasado... Bueno, a principios de noviembre, nos desplazamos para la Word Travel Market con un poco la expectativa de c\\u00f3mo est\\u00e1 evolucionando y los principales agentes y turoperadores c\\u00f3mo estaban viviendo el ambiente del brexit. Para nuestra sorpresa, las reservas para invierno estaban creciendo y crecen a un 40 % y para verano, un 37 %. Es decir, que el turismo brit\\u00e1nico goza de muy buena salud. Paralelamente, s\\u00ed tenemos que ver la devaluaci\\u00f3n de la libra, y la salida y el impacto que ha tenido en la moneda, eso no ha tenido ning\\u00fan tipo de efecto sobre la reserva de los paquetes tur\\u00edsticos. Pero s\\u00ed es cierto que puede tener impacto en el gasto en destino, pero vamos a tener que ver c\\u00f3mo va evolucionando la campa\\u00f1a de invierno y verano para poder evaluar ese impacto. No obstante, en las distintas reuniones que mantuvimos con la Asociaci\\u00f3n Brit\\u00e1nica de Agencias de Viajes, con British Airways, con EasyJet, con Turespa\\u00f1a... para la inauguraci\\u00f3n y m\\u00e1s reuniones que tuvimos all\\u00ed con distintos agentes, s\\u00ed pudimos ver que el hecho de que las empresas se est\\u00e9n preparando para la salida o no del Reino Unido, que todos aventuran que puede tardar varios a\\u00f1os... Las empresas no elaboran sus planes, en este caso, de un a\\u00f1o para otro, sino que ya est\\u00e1n planificando la posibilidad de poder instalar delegaciones o sucursales dentro de territorio europeo. Con lo cual, en el caso de Canarias, que tenemos el entorno fiscal m\\u00e1s ventajoso de toda Europa. Estando dentro de la Uni\\u00f3n Europea, con la Zona Especial Canaria, con la zona franca, se nos ha abierto un mundo de posibilidades que en las reuniones que mantuvimos con los miembros de la Consejer\\u00eda de Econom\\u00eda se nos pueden revelar como una oportunidad de futuro. Por lo tanto, resumiendo, a efectos de reservas no hay, en este caso, ning\\u00fan impacto, todo lo contrario, hay un incremento. El gasto de destino, en la comisi\\u00f3n que preside precisamente Pedro Ortega, iremos viendo c\\u00f3mo evoluciona y m\\u00e1s los datos de Promotur y la consejera de Turismo, que est\\u00e1n muy atentos. Y en cuanto a la oportunidad de negocio, se nos puede, insisto, revelar como una oportunidad que empresas con sede en Reino Unido quieran tener sucursales en Canarias para poder estar dentro de Europa con todas las ventajas fiscales. Gracias. La se\\u00f1ora PRESIDENTA: Muchas gracias, se\\u00f1or presidente.\\n\\n[Documento 6]\\nEsta sesi\\u00f3n del parlamento se realiz\\u00f3 el 2012-10-09. \\u00b7 8L/PO/P-0595 Pregunta del se\\u00f1or diputado don Jos\\u00e9 Miguel Ruano Le\\u00f3n, del Grupo Parlamentario Nacionalista Canario (CC-PNC-CCN), sobre carreteras en ejecuci\\u00f3n afectadas por el recorte de la dotaci\\u00f3n estatal prevista en los PGE-2013, dirigida al se\\u00f1or consejero de Obras P\\u00fablicas, Transportes y Pol\\u00edtica Territorial. El se\\u00f1or presidente: Siguiente pregunta: del se\\u00f1or diputado don Jos\\u00e9 Miguel Ruano Le\\u00f3n, del Grupo Nacionalista Canario, dirigida al se\\u00f1or consejero de Obras P\\u00fablicas, Transportes y Pol\\u00edtica Territorial. Don Jos\\u00e9 Miguel. El se\\u00f1or Ruano Le\\u00f3n (Desde su esca\\u00f1o): Muchas gracias, presidente. Se\\u00f1or\\u00edas, buenos d\\u00edas. Se\\u00f1or consejero. Voy a hacer mi intervenci\\u00f3n \\u00fanica en relaci\\u00f3n con esta pregunta, que dice: \\u00bfcu\\u00e1les son las carreteras en ejecuci\\u00f3n que pueden verse afectadas por el recorte de la dotaci\\u00f3n estatal prevista en los Presupuestos Generales de 2013? Teniendo en cuenta, se\\u00f1or consejero, que en las previsiones de ese proyecto de Presupuestos del Estado se consignan 54.190.000 euros para el Convenio de Carreteras de Canarias, debiendo ser, de acuerdo con lo convenido, con el acuerdo entre las dos administraciones, de 200 millones de euros. A la vista de que ya, en el 2012, la cifra baj\\u00f3 a 68.540.000, est\\u00e1 claro que hay indicios razonables de que se incurre en responsabilidad por incumplimiento de lo convenido y, por tanto, se transgrede una obligaci\\u00f3n jur\\u00eddica m\\u00e1s all\\u00e1 de la obligaci\\u00f3n pol\\u00edtica, por lo cual debe el Gobierno entablar las acciones que correspondan. Por otra parte, se\\u00f1or\\u00edas, y yo creo que esto deber\\u00eda ser hoy el tono de muchas de las preguntas que tienen que ver con la dotaci\\u00f3n del proyecto de Ley de Presupuestos del Estado, en relaci\\u00f3n con el comportamiento incluso de esta C\\u00e1mara, del posicionamiento de esta C\\u00e1mara, en torno a lo que es el inter\\u00e9s de Canarias. Y lo digo tambi\\u00e9n para la bancada de enfrente, con independencia de la pertenencia o no a determinado partido pol\\u00edtico, porque m\\u00e1s all\\u00e1 de que estamos en una situaci\\u00f3n muy complicada, de que el Estado espa\\u00f1ol debe cumplir unos objetivos de d\\u00e9ficit, tiene que hacerse econom\\u00eda, adem\\u00e1s de hacienda, y el resultado es que esos Presupuestos del Estado en otras infraestructuras, por ejemplo en infraestructura ferroviaria, producen un incremento sustantivo, frente a aquellas comunidades que, no teniendo esas infraestructuras, van a padecer el efecto del recorte en la inversi\\u00f3n, y ese efecto directamente sobre el empleo, sobre el empleo en un \\u00e1mbito sectorial que ha sufrido como nadie la crisis, como es el de la construcci\\u00f3n. Por tanto, tom\\u00e9monos estas cosas con seriedad, con independencia de cu\\u00e1l sea la posici\\u00f3n que cada partido pol\\u00edtico quiera o pueda tener en la C\\u00e1mara. Esto es un asunto que va a afectar a muchas familias que van a perder el empleo. Muchas gracias. El se\\u00f1or presidente: Muchas gracias, don Jos\\u00e9 Miguel Ruano. Se\\u00f1or consejero de Obras P\\u00fablicas, Transportes y Pol\\u00edtica Territorial, don Domingo Berriel. El se\\u00f1or consejero de Obras P\\u00fablicas, Transportes y Pol\\u00edtica Territorial (Berriel Mart\\u00ednez) (Desde su esca\\u00f1o): Gracias, se\\u00f1or presidente. Se\\u00f1or\\u00eda. La disminuci\\u00f3n injustificada y desproporcionada de un 74%, con una consignaci\\u00f3n para el 2013 de solo 54 millones de los 207 comprometidos por el Estado en el Convenio de Carreteras de Canarias, reitera el grave incumplimiento del Gobierno central al reducir a\\u00fan m\\u00e1s la ya injustificada minoraci\\u00f3n del 67% que se efectu\\u00f3 para el presente ejercicio. Y ello, inevitablemente, conllevar\\u00e1 la necesidad de suspender o resolver los contratos de las obras en ejecuci\\u00f3n, sobre todo de las que precisan de mayor dotaci\\u00f3n para su realizaci\\u00f3n de forma econ\\u00f3mica. En este ejercicio hemos hecho un enorme esfuerzo en mantener todas las obras en ejecuci\\u00f3n, amortizando los acopios de materiales y maquinaria, reajustando planes de trabajo, aportando financiaci\\u00f3n europea adicional de los recursos de la comunidad aut\\u00f3noma, pero la necesidad de cubrir con la exigua aportaci\\u00f3n del Estado, ya para este a\\u00f1o y definitivamente para el pr\\u00f3ximo, las revisiones de precios, liquidaciones, expropiaciones y otras incidencias nos impide disponer del m\\u00ednimo margen necesario para la continuidad de la mayor\\u00eda de ellas. El incumplimiento del Estado totalizar\\u00e1 as\\u00ed, en estos dos ejercicios, un d\\u00e9ficit de 291 millones de euros y comprender\\u00e1n sus se\\u00f1or\\u00edas que es imposible afrontar con recursos de la comunidad aut\\u00f3noma ese incumplimiento y, efectivamente, vamos a exigir por la v\\u00eda jurisdiccional correspondiente su cumplimiento. La situaci\\u00f3n es que, en virtud de los contratos firmados al amparo del convenio y oportunamente comunicado al ministerio, existen 19 obras en ejecuci\\u00f3n y 2 ya finalizadas que precisan de regularidad en su financiaci\\u00f3n o contratos que se suscribieron en ejercicios anteriores, no pudiendo, por tanto, prever los exagerados recortes del Estado, de los que solo hemos tenido conocimiento cuando se han hecho p\\u00fablicos los proyectos de Ley de Presupuestos Generales del Estado, y ello a pesar de la m\\u00faltiples gestiones previas realizadas al m\\u00e1s alto nivel con el ministerio, acredit\\u00e1ndole la necesidad de modular tales recortes, a los que nunca nos hemos negado, siempre que esa modulaci\\u00f3n permitiera la continuidad de la ejecuci\\u00f3n de las obras. Efectivamente, se\\u00f1or\\u00edas, el Estado invierte m\\u00e1s en los trenes para la cohesi\\u00f3n territorial de Canarias, pero aqu\\u00ed no llega el AVE y tampoco la solidaridad del Estado, se\\u00f1or\\u00edas. Muchas gracias. El se\\u00f1or presidente: Muchas gracias, se\\u00f1or consejero, don Domingo Berriel.\\n\\n[Documento 7]\\nEsta sesi\\u00f3n del parlamento se realiz\\u00f3 el 2018-06-12. 9L/PO/P-2211 PREGUNTA DEL SE\\u00d1OR DIPUTADO DON JOS\\u00c9 MIGUEL RUANO LE\\u00d3N, DEL GRUPO PARLAMENTARIO NACIONALISTA CANARIO (CC-PNC), SOBRE PREVISIONES EN EL NUEVO CONTEXTO POL\\u00cdTICO ESTATAL RESPECTO A LOS TEMAS PENDIENTES EN LA AGENDA CANARIA CON MADRID, DIRIGIDA AL SE\\u00d1OR PRESIDENTE DEL GOBIERNO. La se\\u00f1ora PRESIDENTA: Turno ahora para el se\\u00f1or diputado don Jos\\u00e9 Miguel Ruano Le\\u00f3n, del Grupo Parlamentario Nacionalista Canario, sobre previsiones en el nuevo contexto pol\\u00edtico estatal respecto a los temas pendientes de la agenda canaria con Madrid. Se\\u00f1or Ruano, cuando usted quiera. El se\\u00f1or RUANO LE\\u00d3N (Desde su esca\\u00f1o): Muchas gracias, presidenta. Ante la respuesta que dio el presidente a la se\\u00f1ora Corujo y al se\\u00f1or Curbelo, doy por reproducida su respuesta y, por tanto, retiro mi pregunta. La se\\u00f1ora PRESIDENTA: Gracias, se\\u00f1or Ruano.\"\n",
      "}\n"
     ]
    }
   ],
   "source": [
    "import json\n",
    "FOLDER_QA = \"../data/raw/QA_PARLIAMENT_TEST\"\n",
    "\n",
    "dataset_qa = load_from_disk(FOLDER_QA)\n",
    "print(dataset_qa[\"test\"])\n",
    "print(json.dumps(dataset_qa['test'][3], indent=2))"
   ]
  }
 ],
 "metadata": {
  "kernelspec": {
   "display_name": "rag",
   "language": "python",
   "name": "python3"
  },
  "language_info": {
   "codemirror_mode": {
    "name": "ipython",
    "version": 3
   },
   "file_extension": ".py",
   "mimetype": "text/x-python",
   "name": "python",
   "nbconvert_exporter": "python",
   "pygments_lexer": "ipython3",
   "version": "3.10.18"
  }
 },
 "nbformat": 4,
 "nbformat_minor": 5
}
