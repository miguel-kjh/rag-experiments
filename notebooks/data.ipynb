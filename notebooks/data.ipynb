{
 "cells": [
  {
   "cell_type": "code",
   "execution_count": 6,
   "id": "81f2475e",
   "metadata": {},
   "outputs": [],
   "source": [
    "from datasets import load_from_disk\n",
    "\n",
    "SEED = 123\n",
    "FOLDER = \"../data/processed/legal-qa-v1\""
   ]
  },
  {
   "cell_type": "code",
   "execution_count": 7,
   "id": "0be2245a",
   "metadata": {},
   "outputs": [],
   "source": [
    "dataset = load_from_disk(FOLDER)"
   ]
  },
  {
   "cell_type": "code",
   "execution_count": 12,
   "id": "d32ba1ea",
   "metadata": {},
   "outputs": [
    {
     "name": "stdout",
     "output_type": "stream",
     "text": [
      "DatasetDict({\n",
      "    train: Dataset({\n",
      "        features: ['question', 'answer'],\n",
      "        num_rows: 2992\n",
      "    })\n",
      "    validation: Dataset({\n",
      "        features: ['question', 'answer'],\n",
      "        num_rows: 375\n",
      "    })\n",
      "    test: Dataset({\n",
      "        features: ['question', 'answer'],\n",
      "        num_rows: 375\n",
      "    })\n",
      "})\n",
      "{'question': \"The Skullgirls team has taken a digital product that many people purchased and altered it in very significant ways.. The Skullgirls team has taken a digital product that many people purchased and altered it in very significant ways. They've cut out entire pages from the art book, removed and re-announced voice lines, and drawn over concept art to make it less offensive. The current Skullgirls team, while many of them have ties to the very beginning of the game, is not the same team it was at the beginning. They're missing some of the most important contributors to the Skullgirls brand. They're also literally a completely different company than the original Lab Zero, who is now censoring Lab Zero's products. if these were physical products. Imagine if you bought a physical art book that you really loved. Ten years later, when the company you bought that art book from is overtaken by another company, that new company comes into your house and demands that you give them the pages of the art book that they deemed offensive. simiar situated similar facts & loss\", 'answer': \"The situation you're describing with the Skullgirls digital product raises complex issues in digital content and consumer rights. In the digital realm, the rights and expectations can be significantly different from those associated with physical products. The End User License Agreement (EULA) or terms of service typically govern these situations and may grant the company considerable discretion to alter the content. If you feel that your rights as a consumer have been violated by these changes, the first step is to review the EULA or any terms of service you agreed to when purchasing the product. This will help determine what rights you have in relation to the digital content and whether the company's actions might constitute a breach of contract or other legal violation. Considering the unique aspects of digital products, consulting with an attorney experienced in consumer law, particularly in digital and online products, is advisable. They can assist in assessing the legality of the alterations made and guide you on potential courses of action, including filing a claim if appropriate. Be aware that digital content laws are still evolving, and cases like these can set precedents. Therefore, navigating them can be challenging, making professional legal advice crucial in understanding and asserting your rights.\"}\n",
      "{'question': \"Can I record voice chat on a game server in memory (never written to disk) for moderation purposes?. I'd like to allow a team of moderators to review voice chat manually. There is no automated system in place, and the team would need to manually listen to and subsequently make decisions from the data.\", 'answer': 'The recording of voice chat on a game server for moderation purposes may raise legal considerations, particularly in relation to privacy laws. In Michigan, it is generally required to obtain consent from all parties involved in a conversation before recording it. However, laws can vary, and there may be exceptions for certain circumstances.'}\n",
      "{'question': 'May I inspect a birth certificate before purchasing it?. Is the state of Michigan vital records employees subject to Mich. Comp. Laws Ann. §750. 491; Mich. Comp. Laws Ann. § 750.0492 under the \"Privacy Act.\" Legally are they required to comply with my request to examine birth certificate? They may be in violated the first, 9th and 14th amendments rights of natural parents.', 'answer': \"In Michigan, the process for obtaining a birth certificate typically does not include the option to inspect the document before purchase. Vital records, such as birth certificates, are handled with strict protocols to ensure privacy and security. The Michigan Compiled Laws you mentioned, §§ 750.491 and 750.492, primarily deal with the misuse of personal identification documents and do not directly address the inspection of vital records before purchase. Regarding the Privacy Act, it's important to note that this federal law primarily governs the handling of personal data by federal agencies. State agencies, like those managing vital records in Michigan, generally follow state-specific privacy laws and regulations. The First, Ninth, and Fourteenth Amendments provide broad protections for individual rights, but they do not explicitly grant a right to inspect a birth certificate before purchasing it. The rights of natural parents in relation to birth certificates are typically protected through state laws governing access to and confidentiality of vital records. If you have concerns about the handling of a birth certificate or believe your rights have been violated, it may be beneficial to consult with a lawyer who can provide guidance specific to your situation and the applicable laws in Michigan.\"}\n"
     ]
    }
   ],
   "source": [
    "#check the dataset\n",
    "print(dataset)\n",
    "print(dataset['train'][0])\n",
    "print(dataset['validation'][0])\n",
    "print(dataset['test'][0])"
   ]
  },
  {
   "cell_type": "code",
   "execution_count": 62,
   "id": "685e2c2e",
   "metadata": {},
   "outputs": [
    {
     "data": {
      "text/plain": [
       "Column([\"A:In Kentucky, your situation raises questions about patient rights and medical records access. If you were discharged from a pain management office and subsequently lost access to your patient portal, it's important to understand your rights regarding medical records. Under the Health Insurance Portability and Accountability Act (HIPAA), you have the right to access your own medical records. A healthcare provider cannot deny you access to your records, even if you were discharged from their practice. The issue with the patient portal could be a technical glitch or a deliberate action, but either way, it needs to be addressed. You should contact the pain management office directly to inquire about the issue with the patient portal. They are obligated to provide you with a way to access your medical records, which may include providing paper copies or access through a different electronic means. If the office is unresponsive or refuses to provide access to your records, consider speaking to a lawyer who is knowledgeable in health care law. They can guide you on how to enforce your rights to access your medical records and address any potential legal violations by the healthcare provider. Remember, your right to access your medical records is protected by law, and any obstacles to this access should be promptly addressed.\", \"A:If your houseboat was moved without your permission and you were asked to leave the property after 16 months without any notices, and the management has placed a lien on your houseboat and is attempting to sell it, you may have legal options to challenge their actions. First, you may want to consult with an attorney who specializes in property law or landlord-tenant law to review your case and provide guidance on your legal rights and options. It may also be helpful to gather any evidence you have, such as receipts or documentation of payments or communications with the management, to support your case. Some potential legal claims you may have against the management include breach of contract, conversion, or wrongful eviction. These claims may allow you to seek damages or other forms of relief, such as the return of your houseboat or compensation for any losses you have suffered. It's important to act quickly, as there may be deadlines or other requirements for filing a legal claim. An attorney can provide guidance on the best course of action and help you navigate the legal process.\", \"A:Yes, you can sue a dealership if you have had to replace your transmission 2 times within a year. Whether you will be successful depends on the facts and your presentation. You don't mention anything about any written agreements. Allowing an attorney to evaluate, organize and draft your conciliation or (small claims) complaint (up to $15,000) would be a wise investment. A well polished complaint will not only provide the judge a solid foundation to rule in your favor, but a detailed outline on which to base your oral argument. It would provide you a distinct advantage over the opposing party. The fees can be reasonable depending on the attorney.\", 'A:Once all parties have moved to another state, it is generally possible to register the order in the state where the child is now residing. Generally you need court permission to move a child out of state once a custody order has been entered (at least in Nebraska). If that did not happen before the move, then it can make matters more complicated.', 'A:It\\'s difficult to determine whether there is potential for a lawsuit without more information. Generally, the key question in cases involving trademarks is whether there is a likelihood of confusion between the marks. This analysis involves considering a number of factors, such as the similarity of the marks, the similarity of the goods or services, the sophistication of the consumers, and the strength of the senior user\\'s mark. Based on the limited information provided, it seems that there may be some potential for confusion between \"Rolemaster\" and \"Raid Master,\" particularly given that they both contain the suffix \"Master.\" However, the fact that the games have different themes and mechanics may weigh against a finding of likelihood of confusion. If you are concerned about potential trademark issues, it may be a good idea to consult with an intellectual property attorney who can provide more tailored advice based on the specifics of your situation.'])"
      ]
     },
     "execution_count": 62,
     "metadata": {},
     "output_type": "execute_result"
    }
   ],
   "source": [
    "dataset[\"answer\"]"
   ]
  },
  {
   "cell_type": "code",
   "execution_count": 63,
   "id": "6e060b6e",
   "metadata": {},
   "outputs": [],
   "source": [
    "def transform(example):\n",
    "    # ejemplo: poner preguntas en mayúsculas y respuestas en minúsculas\n",
    "    new_question = example[\"question\"].replace(\"Q:\", \"\").strip()\n",
    "    new_answer = example[\"answer\"].replace(\"A:\", \"\").strip()\n",
    "\n",
    "    return {\n",
    "        \"question\": new_question,\n",
    "        \"answer\": new_answer\n",
    "    }"
   ]
  },
  {
   "cell_type": "code",
   "execution_count": 64,
   "id": "f182abeb",
   "metadata": {},
   "outputs": [],
   "source": [
    "transformed_dataset = dataset.map(transform)"
   ]
  },
  {
   "cell_type": "code",
   "execution_count": 65,
   "id": "413ae487",
   "metadata": {},
   "outputs": [
    {
     "name": "stdout",
     "output_type": "stream",
     "text": [
      "I was wondering if a pain management office is acting illegally/did an illegal action.. I was discharged as a patient from a pain management office after them telling me that a previous pain management specialist I saw administered a steroid shot wrong and I told them in the portal that I spoke to lawyers for advice but no lawsuit/case was created. It was maybe 1-2 months after I was discharged that I no longer have access to my patient portal with them. Every time I try to login I enter my credentials, wait a few seconds, and then I get re-directed back to the original screen where I have various options to login. I know I can speak to the office directly and ask them about what specifically is going on, talk to other lawyers if this is a violation of my rights, etc. but I was just wondering if anyone on this site would know if this action is in fact illegal.\n",
      "In Kentucky, your situation raises questions about patient rights and medical records access. If you were discharged from a pain management office and subsequently lost access to your patient portal, it's important to understand your rights regarding medical records. Under the Health Insurance Portability and Accountability Act (HIPAA), you have the right to access your own medical records. A healthcare provider cannot deny you access to your records, even if you were discharged from their practice. The issue with the patient portal could be a technical glitch or a deliberate action, but either way, it needs to be addressed. You should contact the pain management office directly to inquire about the issue with the patient portal. They are obligated to provide you with a way to access your medical records, which may include providing paper copies or access through a different electronic means. If the office is unresponsive or refuses to provide access to your records, consider speaking to a lawyer who is knowledgeable in health care law. They can guide you on how to enforce your rights to access your medical records and address any potential legal violations by the healthcare provider. Remember, your right to access your medical records is protected by law, and any obstacles to this access should be promptly addressed.\n"
     ]
    }
   ],
   "source": [
    "print(transformed_dataset[\"question\"][0])\n",
    "print(transformed_dataset[\"answer\"][0])"
   ]
  },
  {
   "cell_type": "code",
   "execution_count": 66,
   "id": "5d472793",
   "metadata": {},
   "outputs": [
    {
     "name": "stdout",
     "output_type": "stream",
     "text": [
      "DatasetDict({\n",
      "    train: Dataset({\n",
      "        features: ['question', 'answer'],\n",
      "        num_rows: 2993\n",
      "    })\n",
      "    test: Dataset({\n",
      "        features: ['question', 'answer'],\n",
      "        num_rows: 749\n",
      "    })\n",
      "})\n"
     ]
    }
   ],
   "source": [
    "# split the dataset into train and validation\n",
    "train_test = transformed_dataset.train_test_split(test_size=0.2, seed=SEED)\n",
    "print(train_test)\n",
    "train_val = train_test[\"test\"].train_test_split(test_size=0.5, seed=SEED)\n",
    "transformed_dataset = {\n",
    "    \"train\": train_test[\"train\"],\n",
    "    \"val\": train_val[\"test\"],\n",
    "    \"test\": train_val[\"train\"]\n",
    "}"
   ]
  },
  {
   "cell_type": "code",
   "execution_count": 67,
   "id": "74c6d6b3",
   "metadata": {},
   "outputs": [
    {
     "data": {
      "text/plain": [
       "{'train': Dataset({\n",
       "     features: ['question', 'answer'],\n",
       "     num_rows: 2993\n",
       " }),\n",
       " 'val': Dataset({\n",
       "     features: ['question', 'answer'],\n",
       "     num_rows: 375\n",
       " }),\n",
       " 'test': Dataset({\n",
       "     features: ['question', 'answer'],\n",
       "     num_rows: 374\n",
       " })}"
      ]
     },
     "execution_count": 67,
     "metadata": {},
     "output_type": "execute_result"
    }
   ],
   "source": [
    "transformed_dataset"
   ]
  }
 ],
 "metadata": {
  "kernelspec": {
   "display_name": "RAG",
   "language": "python",
   "name": "python3"
  },
  "language_info": {
   "codemirror_mode": {
    "name": "ipython",
    "version": 3
   },
   "file_extension": ".py",
   "mimetype": "text/x-python",
   "name": "python",
   "nbconvert_exporter": "python",
   "pygments_lexer": "ipython3",
   "version": "3.11.13"
  }
 },
 "nbformat": 4,
 "nbformat_minor": 5
}
