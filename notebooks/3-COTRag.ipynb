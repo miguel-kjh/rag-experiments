{
 "cells": [
  {
   "cell_type": "markdown",
   "id": "cb44e558",
   "metadata": {},
   "source": [
    "#### Chain Of Thoughts With RAG\n",
    "What is Chain-of-Thought (CoT) in RAG?\n",
    "\n",
    "CoT reasoning breaks down a complex question into intermediate steps, and allows retrieval + reflection at each step before answering.\n",
    "\n",
    "User Query\n",
    "   ↓\n",
    "- Step 1: Decompose question → sub-steps (Reason)\n",
    "- Step 2: Retrieve docs per step (Act)\n",
    "- Step 3: Combine context (Observe)\n",
    "- Step 4: Final answer generation (Reflect)"
   ]
  },
  {
   "cell_type": "code",
   "execution_count": 1,
   "id": "d1cb1a18",
   "metadata": {},
   "outputs": [
    {
     "name": "stderr",
     "output_type": "stream",
     "text": [
      "/home/miguel/miniconda3/envs/RAG/lib/python3.11/site-packages/tqdm/auto.py:21: TqdmWarning: IProgress not found. Please update jupyter and ipywidgets. See https://ipywidgets.readthedocs.io/en/stable/user_install.html\n",
      "  from .autonotebook import tqdm as notebook_tqdm\n"
     ]
    }
   ],
   "source": [
    "import os\n",
    "from typing import List\n",
    "from pydantic import BaseModel\n",
    "from langchain.schema import Document\n",
    "from langchain_openai import OpenAIEmbeddings\n",
    "from langchain_community.document_loaders import TextLoader\n",
    "from langchain.vectorstores import FAISS\n",
    "from langchain.text_splitter import RecursiveCharacterTextSplitter\n",
    "from langgraph.graph import StateGraph, END"
   ]
  },
  {
   "cell_type": "code",
   "execution_count": 3,
   "id": "742cd685",
   "metadata": {},
   "outputs": [],
   "source": [
    "# -------------------------------\n",
    "# 1. Prepare Vectorstore\n",
    "# -------------------------------\n",
    "docs = TextLoader(\"research_notes.txt\",encoding=\"utf-8\").load()\n",
    "splitter = RecursiveCharacterTextSplitter(chunk_size=500, chunk_overlap=50)\n",
    "chunks = splitter.split_documents(docs)\n",
    "embedding = OpenAIEmbeddings()\n",
    "vectorstore = FAISS.from_documents(chunks, embedding)\n",
    "retriever = vectorstore.as_retriever()"
   ]
  },
  {
   "cell_type": "code",
   "execution_count": 4,
   "id": "881c7baf",
   "metadata": {},
   "outputs": [],
   "source": [
    "import os\n",
    "from langchain.chat_models import init_chat_model\n",
    "from dotenv import load_dotenv\n",
    "os.environ[\"OPENAI_API_KEY\"]=os.getenv(\"OPENAI_API_KEY\")\n",
    "llm=init_chat_model(\"openai:gpt-4o\")"
   ]
  },
  {
   "cell_type": "code",
   "execution_count": 5,
   "id": "bd17f2a0",
   "metadata": {},
   "outputs": [],
   "source": [
    "# -------------------------------\n",
    "# 2. LangGraph State Definition\n",
    "# -------------------------------\n",
    "class RAGCoTState(BaseModel):\n",
    "    question: str\n",
    "    sub_steps: List[str] = []\n",
    "    retrieved_docs: List[Document] = []\n",
    "    answer: str = \"\""
   ]
  },
  {
   "cell_type": "code",
   "execution_count": 6,
   "id": "454347b4",
   "metadata": {},
   "outputs": [],
   "source": [
    "# -------------------------------\n",
    "# 3. Nodes\n",
    "# -------------------------------\n",
    "\n",
    "# a. Plan sub-questions\n",
    "def plan_steps(state:RAGCoTState)->RAGCoTState:\n",
    "    prompt=f\"Break the question into 2-3 reasoning steps: \\n\\n {state.question}\"\n",
    "    result=llm.invoke(prompt).content\n",
    "    subqs=[line.strip(\"- \") for line in result.split(\"\\n\") if line.strip()]\n",
    "\n",
    "    return state.model_copy(update={\"sub_steps\":subqs})\n"
   ]
  },
  {
   "cell_type": "code",
   "execution_count": 7,
   "id": "e0e99b9f",
   "metadata": {},
   "outputs": [],
   "source": [
    "# b. Retrieve for each step\n",
    "def retrieve_per_step(state:RAGCoTState)-> RAGCoTState:\n",
    "    all_docs=[]\n",
    "    for sub in state.sub_steps:\n",
    "        docs = retriever.invoke(sub)\n",
    "        all_docs.extend(docs)\n",
    "    return state.model_copy(update={\"retrieved_docs\": all_docs})\n"
   ]
  },
  {
   "cell_type": "code",
   "execution_count": 8,
   "id": "285a8a19",
   "metadata": {},
   "outputs": [],
   "source": [
    "# c. Generate Final Answer\n",
    "def generate_answer(state: RAGCoTState) -> RAGCoTState:\n",
    "    \n",
    "    context = \"\\n\\n\".join([doc.page_content for doc in state.retrieved_docs])\n",
    "    prompt = f\"\"\"\n",
    "You are answering a complex question using reasoning and retrieved documents.\n",
    "\n",
    "Question: {state.question}\n",
    "\n",
    "Relevant Information:\n",
    "{context}\n",
    "\n",
    "Now synthesize a well-reasoned final answer.\n",
    "\"\"\"\n",
    "    result = llm.invoke(prompt).content.strip()\n",
    "    return state.model_copy(update={\"answer\": result})"
   ]
  },
  {
   "cell_type": "code",
   "execution_count": 9,
   "id": "2e382179",
   "metadata": {},
   "outputs": [
    {
     "data": {
      "image/png": "[encoded data removed]",
      "text/plain": [
       "<langgraph.graph.state.CompiledStateGraph object at 0x73d31afe1150>"
      ]
     },
     "execution_count": 9,
     "metadata": {},
     "output_type": "execute_result"
    }
   ],
   "source": [
    "# -------------------------------\n",
    "# 4. LangGraph Graph\n",
    "# -------------------------------\n",
    "builder = StateGraph(RAGCoTState)\n",
    "builder.add_node(\"planner\", plan_steps)\n",
    "builder.add_node(\"retriever\", retrieve_per_step)\n",
    "builder.add_node(\"responder\", generate_answer)\n",
    "\n",
    "builder.set_entry_point(\"planner\")\n",
    "builder.add_edge(\"planner\", \"retriever\")\n",
    "builder.add_edge(\"retriever\", \"responder\")\n",
    "builder.add_edge(\"responder\", END)\n",
    "\n",
    "graph = builder.compile()\n",
    "graph"
   ]
  },
  {
   "cell_type": "code",
   "execution_count": 10,
   "id": "b6b197df",
   "metadata": {},
   "outputs": [
    {
     "name": "stdout",
     "output_type": "stream",
     "text": [
      "\n",
      "🪜 Reasoning Steps: ['To address the question of what additional experiments might be involved in Transformer evaluation, we can break it down into a few reasoning steps:', '1. **Identify the Standard Evaluation Metrics**:', 'Begin by considering the typical evaluation metrics and experiments used for evaluating Transformer models, such as BLEU scores for translation tasks, accuracy for classification, or perplexity for language modeling. This helps set a baseline for standard evaluations.', '2. **Determine Areas for Additional Experiments**:', 'Consider areas where additional experiments might provide deeper insights or improvements. This could include evaluating model robustness to adversarial inputs, performance on zero-shot or few-shot tasks, or efficiency evaluations under constrained resources (e.g., memory or computational power).', '3. **Explore Experiments for Domain-Specific Evaluation**:', 'Identify any domain-specific factors that might require unique experimental setups, such as evaluating Transformers for specific applications like medical text, legal documents, or other specialized domains. This could involve measuring metrics relevant to those domains, like precision in medical diagnosis or compliance in legal text processing.', 'By following these steps, one can formulate a comprehensive approach to determining what additional experiments might enhance Transformer evaluation beyond standard practices.']\n",
      "\n",
      "✅ Final Answer:\n",
      " The additional experiments in transformer evaluation as described in the provided text involve exploring various methods and techniques to enhance performance, latency, and accuracy of transformer models. Here is a synthesis of these additional experiments:\n",
      "\n",
      "1. **FlashAttention2**: This was integrated into LLaMA2, resulting in a reduction of context latency by approximately 50%. This indicates an improvement in the efficiency of attention mechanisms within transformer models.\n",
      "\n",
      "2. **Chain-of-Thought Prompting**: This technique improved the performance of transformer models on logic tasks by 8% compared to direct answer prompting. Reflective prompting further increased accuracy by 3%. This suggests that using chain-of-thought processes allows for better handling of complex reasoning tasks.\n",
      "\n",
      "3. **Tool-Augmented Prompting**: By integrating LangGraph, Wikipedia, and SQL search, this experiment enabled dynamic retrieval-agent reasoning. This method allows the model to retrieve and verify information dynamically, potentially leading to richer and more accurate outputs in response to specific queries.\n",
      "\n",
      "4. **Human Evaluation Protocol**: This experiment involved internal annotators who scored fluency, helpfulness, and correctness, offering qualitative feedback for model assessment. GPT-4 was also used as a synthetic evaluator, providing another layer of evaluation to ensure the model's performance met certain standards.\n",
      "\n",
      "5. **Retrieval Experiments**: A hybrid dense and sparse retriever approach was utilized, comparing Weaviate against FAISS plus BM25 reranking. The experiment concluded that FAISS was more efficient, though Weaviate's integration with GraphQL offered better filtering capabilities.\n",
      "\n",
      "6. **LoRA Tuning**: This involved adapter-based fine-tuning to reduce GPU memory footprint by 60%. With a rank of 8 and a dropout of 0.05, this tuning process is compatible with the PEFT library, demonstrating a significant improvement in resource efficiency.\n",
      "\n",
      "7. **Safety**: Experiments concerning safety included toxicity detection using Detoxify and an out-of-scope filter via a zero-shot classifier. Red teaming was used for adversarial prompt testing to ensure robustness against harmful or irrelevant inputs.\n",
      "\n",
      "These experiments collectively contribute to the refinement and enhancement of transformer models, addressing challenges related to performance, efficiency, and safety. By employing diverse techniques like FlashAttention2 and tool-augmented prompting, researchers aim to advance the capabilities of transformers, making them more effective in various applications.\n"
     ]
    }
   ],
   "source": [
    "# -------------------------------\n",
    "# 5. Run CoT RAG Agent\n",
    "# -------------------------------\n",
    "if __name__ == \"__main__\":\n",
    "    query = \"what are the additional eperiments in Transformer eveluation?\"\n",
    "    state = RAGCoTState(question=query)\n",
    "    final = graph.invoke(state)\n",
    "\n",
    "    print(\"\\n🪜 Reasoning Steps:\", final[\"sub_steps\"])\n",
    "    print(\"\\n✅ Final Answer:\\n\", final[\"answer\"])"
   ]
  },
  {
   "cell_type": "code",
   "execution_count": null,
   "id": "1c310afd",
   "metadata": {},
   "outputs": [],
   "source": []
  }
 ],
 "metadata": {
  "kernelspec": {
   "display_name": "RAG",
   "language": "python",
   "name": "python3"
  },
  "language_info": {
   "codemirror_mode": {
    "name": "ipython",
    "version": 3
   },
   "file_extension": ".py",
   "mimetype": "text/x-python",
   "name": "python",
   "nbconvert_exporter": "python",
   "pygments_lexer": "ipython3",
   "version": "3.11.13"
  }
 },
 "nbformat": 4,
 "nbformat_minor": 5
}
